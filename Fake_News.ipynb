{
  "cells": [
    {
      "cell_type": "code",
      "execution_count": 139,
      "metadata": {
        "id": "axkYzIu81fQQ"
      },
      "outputs": [],
      "source": [
        "#Fake news detection\n",
        "import pandas as pd\n",
        "import numpy as np\n",
        "from sklearn.model_selection import train_test_split\n"
      ]
    },
    {
      "cell_type": "code",
      "execution_count": 140,
      "metadata": {
        "colab": {
          "base_uri": "https://localhost:8080/",
          "height": 641
        },
        "id": "_Kxt_7jmP86K",
        "outputId": "81f8c21b-ce3f-4586-83e0-abeaf64bd3a4",
        "scrolled": true
      },
      "outputs": [
        {
          "output_type": "execute_result",
          "data": {
            "text/plain": [
              "            id    tid1    tid2  \\\n",
              "0       195611       0       1   \n",
              "1       191474       2       3   \n",
              "2        25300       2       4   \n",
              "3       123757       2       8   \n",
              "4       141761       2      11   \n",
              "...        ...     ...     ...   \n",
              "256437  113364  167562   48447   \n",
              "256438   49407  167562   49795   \n",
              "256439  130134  167562  114783   \n",
              "256440  101494  167562  137705   \n",
              "256441   89356  167563   66480   \n",
              "\n",
              "                                                title1_en  \\\n",
              "0       There are two new old-age insurance benefits f...   \n",
              "1       \"If you do not come to Shenzhen, sooner or lat...   \n",
              "2       \"If you do not come to Shenzhen, sooner or lat...   \n",
              "3       \"If you do not come to Shenzhen, sooner or lat...   \n",
              "4       \"If you do not come to Shenzhen, sooner or lat...   \n",
              "...                                                   ...   \n",
              "256437  egypt 's presidential election failed to win m...   \n",
              "256438  egypt 's presidential election failed to win m...   \n",
              "256439  egypt 's presidential election failed to win m...   \n",
              "256440  egypt 's presidential election failed to win m...   \n",
              "256441  Will the United States wage war on Iraq withou...   \n",
              "\n",
              "                                                title2_en      label  \n",
              "0       Police disprove \"bird's nest congress each per...  unrelated  \n",
              "1       Shenzhen's GDP outstrips Hong Kong? Shenzhen S...  unrelated  \n",
              "2       The GDP overtopped Hong Kong? Shenzhen clarifi...  unrelated  \n",
              "3       Shenzhen's GDP overtakes Hong Kong? Bureau of ...  unrelated  \n",
              "4       Shenzhen's GDP outpaces Hong Kong? Defending R...  unrelated  \n",
              "...                                                   ...        ...  \n",
              "256437  Salah is retiring? Football Association offici...  unrelated  \n",
              "256438  Liverpool's bid for Little Germany? The Echo's...  unrelated  \n",
              "256439  West Media Exposing Tallahlach has been recomm...  unrelated  \n",
              "256440  Rumor has it that Egypt is very united and the...  unrelated  \n",
              "256441  Saddam's daughter refutes rumors: no. 2 of Sad...  unrelated  \n",
              "\n",
              "[256442 rows x 6 columns]"
            ],
            "text/html": [
              "\n",
              "  <div id=\"df-032f4ef3-a769-4482-be9c-cd6fa06364a1\">\n",
              "    <div class=\"colab-df-container\">\n",
              "      <div>\n",
              "<style scoped>\n",
              "    .dataframe tbody tr th:only-of-type {\n",
              "        vertical-align: middle;\n",
              "    }\n",
              "\n",
              "    .dataframe tbody tr th {\n",
              "        vertical-align: top;\n",
              "    }\n",
              "\n",
              "    .dataframe thead th {\n",
              "        text-align: right;\n",
              "    }\n",
              "</style>\n",
              "<table border=\"1\" class=\"dataframe\">\n",
              "  <thead>\n",
              "    <tr style=\"text-align: right;\">\n",
              "      <th></th>\n",
              "      <th>id</th>\n",
              "      <th>tid1</th>\n",
              "      <th>tid2</th>\n",
              "      <th>title1_en</th>\n",
              "      <th>title2_en</th>\n",
              "      <th>label</th>\n",
              "    </tr>\n",
              "  </thead>\n",
              "  <tbody>\n",
              "    <tr>\n",
              "      <th>0</th>\n",
              "      <td>195611</td>\n",
              "      <td>0</td>\n",
              "      <td>1</td>\n",
              "      <td>There are two new old-age insurance benefits f...</td>\n",
              "      <td>Police disprove \"bird's nest congress each per...</td>\n",
              "      <td>unrelated</td>\n",
              "    </tr>\n",
              "    <tr>\n",
              "      <th>1</th>\n",
              "      <td>191474</td>\n",
              "      <td>2</td>\n",
              "      <td>3</td>\n",
              "      <td>\"If you do not come to Shenzhen, sooner or lat...</td>\n",
              "      <td>Shenzhen's GDP outstrips Hong Kong? Shenzhen S...</td>\n",
              "      <td>unrelated</td>\n",
              "    </tr>\n",
              "    <tr>\n",
              "      <th>2</th>\n",
              "      <td>25300</td>\n",
              "      <td>2</td>\n",
              "      <td>4</td>\n",
              "      <td>\"If you do not come to Shenzhen, sooner or lat...</td>\n",
              "      <td>The GDP overtopped Hong Kong? Shenzhen clarifi...</td>\n",
              "      <td>unrelated</td>\n",
              "    </tr>\n",
              "    <tr>\n",
              "      <th>3</th>\n",
              "      <td>123757</td>\n",
              "      <td>2</td>\n",
              "      <td>8</td>\n",
              "      <td>\"If you do not come to Shenzhen, sooner or lat...</td>\n",
              "      <td>Shenzhen's GDP overtakes Hong Kong? Bureau of ...</td>\n",
              "      <td>unrelated</td>\n",
              "    </tr>\n",
              "    <tr>\n",
              "      <th>4</th>\n",
              "      <td>141761</td>\n",
              "      <td>2</td>\n",
              "      <td>11</td>\n",
              "      <td>\"If you do not come to Shenzhen, sooner or lat...</td>\n",
              "      <td>Shenzhen's GDP outpaces Hong Kong? Defending R...</td>\n",
              "      <td>unrelated</td>\n",
              "    </tr>\n",
              "    <tr>\n",
              "      <th>...</th>\n",
              "      <td>...</td>\n",
              "      <td>...</td>\n",
              "      <td>...</td>\n",
              "      <td>...</td>\n",
              "      <td>...</td>\n",
              "      <td>...</td>\n",
              "    </tr>\n",
              "    <tr>\n",
              "      <th>256437</th>\n",
              "      <td>113364</td>\n",
              "      <td>167562</td>\n",
              "      <td>48447</td>\n",
              "      <td>egypt 's presidential election failed to win m...</td>\n",
              "      <td>Salah is retiring? Football Association offici...</td>\n",
              "      <td>unrelated</td>\n",
              "    </tr>\n",
              "    <tr>\n",
              "      <th>256438</th>\n",
              "      <td>49407</td>\n",
              "      <td>167562</td>\n",
              "      <td>49795</td>\n",
              "      <td>egypt 's presidential election failed to win m...</td>\n",
              "      <td>Liverpool's bid for Little Germany? The Echo's...</td>\n",
              "      <td>unrelated</td>\n",
              "    </tr>\n",
              "    <tr>\n",
              "      <th>256439</th>\n",
              "      <td>130134</td>\n",
              "      <td>167562</td>\n",
              "      <td>114783</td>\n",
              "      <td>egypt 's presidential election failed to win m...</td>\n",
              "      <td>West Media Exposing Tallahlach has been recomm...</td>\n",
              "      <td>unrelated</td>\n",
              "    </tr>\n",
              "    <tr>\n",
              "      <th>256440</th>\n",
              "      <td>101494</td>\n",
              "      <td>167562</td>\n",
              "      <td>137705</td>\n",
              "      <td>egypt 's presidential election failed to win m...</td>\n",
              "      <td>Rumor has it that Egypt is very united and the...</td>\n",
              "      <td>unrelated</td>\n",
              "    </tr>\n",
              "    <tr>\n",
              "      <th>256441</th>\n",
              "      <td>89356</td>\n",
              "      <td>167563</td>\n",
              "      <td>66480</td>\n",
              "      <td>Will the United States wage war on Iraq withou...</td>\n",
              "      <td>Saddam's daughter refutes rumors: no. 2 of Sad...</td>\n",
              "      <td>unrelated</td>\n",
              "    </tr>\n",
              "  </tbody>\n",
              "</table>\n",
              "<p>256442 rows × 6 columns</p>\n",
              "</div>\n",
              "      <button class=\"colab-df-convert\" onclick=\"convertToInteractive('df-032f4ef3-a769-4482-be9c-cd6fa06364a1')\"\n",
              "              title=\"Convert this dataframe to an interactive table.\"\n",
              "              style=\"display:none;\">\n",
              "        \n",
              "  <svg xmlns=\"http://www.w3.org/2000/svg\" height=\"24px\"viewBox=\"0 0 24 24\"\n",
              "       width=\"24px\">\n",
              "    <path d=\"M0 0h24v24H0V0z\" fill=\"none\"/>\n",
              "    <path d=\"M18.56 5.44l.94 2.06.94-2.06 2.06-.94-2.06-.94-.94-2.06-.94 2.06-2.06.94zm-11 1L8.5 8.5l.94-2.06 2.06-.94-2.06-.94L8.5 2.5l-.94 2.06-2.06.94zm10 10l.94 2.06.94-2.06 2.06-.94-2.06-.94-.94-2.06-.94 2.06-2.06.94z\"/><path d=\"M17.41 7.96l-1.37-1.37c-.4-.4-.92-.59-1.43-.59-.52 0-1.04.2-1.43.59L10.3 9.45l-7.72 7.72c-.78.78-.78 2.05 0 2.83L4 21.41c.39.39.9.59 1.41.59.51 0 1.02-.2 1.41-.59l7.78-7.78 2.81-2.81c.8-.78.8-2.07 0-2.86zM5.41 20L4 18.59l7.72-7.72 1.47 1.35L5.41 20z\"/>\n",
              "  </svg>\n",
              "      </button>\n",
              "      \n",
              "  <style>\n",
              "    .colab-df-container {\n",
              "      display:flex;\n",
              "      flex-wrap:wrap;\n",
              "      gap: 12px;\n",
              "    }\n",
              "\n",
              "    .colab-df-convert {\n",
              "      background-color: #E8F0FE;\n",
              "      border: none;\n",
              "      border-radius: 50%;\n",
              "      cursor: pointer;\n",
              "      display: none;\n",
              "      fill: #1967D2;\n",
              "      height: 32px;\n",
              "      padding: 0 0 0 0;\n",
              "      width: 32px;\n",
              "    }\n",
              "\n",
              "    .colab-df-convert:hover {\n",
              "      background-color: #E2EBFA;\n",
              "      box-shadow: 0px 1px 2px rgba(60, 64, 67, 0.3), 0px 1px 3px 1px rgba(60, 64, 67, 0.15);\n",
              "      fill: #174EA6;\n",
              "    }\n",
              "\n",
              "    [theme=dark] .colab-df-convert {\n",
              "      background-color: #3B4455;\n",
              "      fill: #D2E3FC;\n",
              "    }\n",
              "\n",
              "    [theme=dark] .colab-df-convert:hover {\n",
              "      background-color: #434B5C;\n",
              "      box-shadow: 0px 1px 3px 1px rgba(0, 0, 0, 0.15);\n",
              "      filter: drop-shadow(0px 1px 2px rgba(0, 0, 0, 0.3));\n",
              "      fill: #FFFFFF;\n",
              "    }\n",
              "  </style>\n",
              "\n",
              "      <script>\n",
              "        const buttonEl =\n",
              "          document.querySelector('#df-032f4ef3-a769-4482-be9c-cd6fa06364a1 button.colab-df-convert');\n",
              "        buttonEl.style.display =\n",
              "          google.colab.kernel.accessAllowed ? 'block' : 'none';\n",
              "\n",
              "        async function convertToInteractive(key) {\n",
              "          const element = document.querySelector('#df-032f4ef3-a769-4482-be9c-cd6fa06364a1');\n",
              "          const dataTable =\n",
              "            await google.colab.kernel.invokeFunction('convertToInteractive',\n",
              "                                                     [key], {});\n",
              "          if (!dataTable) return;\n",
              "\n",
              "          const docLinkHtml = 'Like what you see? Visit the ' +\n",
              "            '<a target=\"_blank\" href=https://colab.research.google.com/notebooks/data_table.ipynb>data table notebook</a>'\n",
              "            + ' to learn more about interactive tables.';\n",
              "          element.innerHTML = '';\n",
              "          dataTable['output_type'] = 'display_data';\n",
              "          await google.colab.output.renderOutput(dataTable, element);\n",
              "          const docLink = document.createElement('div');\n",
              "          docLink.innerHTML = docLinkHtml;\n",
              "          element.appendChild(docLink);\n",
              "        }\n",
              "      </script>\n",
              "    </div>\n",
              "  </div>\n",
              "  "
            ]
          },
          "metadata": {},
          "execution_count": 140
        }
      ],
      "source": [
        "#import training data\n",
        "fake_df = pd.read_csv(\"train.csv\",header=0,doublequote=True, engine=None)\n",
        "len(fake_df)\n",
        "fake_df"
      ]
    },
    {
      "cell_type": "code",
      "execution_count": 141,
      "metadata": {
        "colab": {
          "base_uri": "https://localhost:8080/",
          "height": 53
        },
        "id": "6igHs6PnqG_G",
        "outputId": "2c14d73c-67fc-4701-bb13-3c442fb67be8"
      },
      "outputs": [
        {
          "output_type": "execute_result",
          "data": {
            "text/plain": [
              "'Police disprove \"bird\\'s nest congress each person gets 50,000 yuan\" still old people insist on going to beijing'"
            ],
            "application/vnd.google.colaboratory.intrinsic+json": {
              "type": "string"
            }
          },
          "metadata": {},
          "execution_count": 141
        }
      ],
      "source": [
        "fake_df['title2_en'].iloc[0]\n"
      ]
    },
    {
      "cell_type": "code",
      "execution_count": 142,
      "metadata": {
        "colab": {
          "base_uri": "https://localhost:8080/",
          "height": 641
        },
        "id": "UZLdYRwX_smS",
        "outputId": "8fad72f3-e9d5-4ab5-fcfa-e1ec400884c1",
        "scrolled": true
      },
      "outputs": [
        {
          "output_type": "execute_result",
          "data": {
            "text/plain": [
              "           id    tid1    tid2  \\\n",
              "0      256442  100672  100673   \n",
              "1      256443  162269  162270   \n",
              "2      256444  157826  157854   \n",
              "3      256445  109579   74076   \n",
              "4      256446   15068   15085   \n",
              "...       ...     ...     ...   \n",
              "64105  320547   94862   94863   \n",
              "64106  320548    7451    7452   \n",
              "64107  320549  144163  144164   \n",
              "64108  320550   96842   96856   \n",
              "64109  320551  137151  132243   \n",
              "\n",
              "                                               title1_en  \\\n",
              "0      The great coat brother Zhu Zhu Wen, in the man...   \n",
              "1      NASA reveals facts about UFO wreckage found on...   \n",
              "2          The hollow tomatoes are loaded with hormones.   \n",
              "3      Ange Pavilion Geoshui: How accurate is Matrimo...   \n",
              "4      A 50-year-old bus-bus blows up an 8-year-old c...   \n",
              "...                                                  ...   \n",
              "64105  The lead content of domestic faucet exceeds th...   \n",
              "64106  In 2018, the household registration system has...   \n",
              "64107  Onion can not be eaten with this, serious also...   \n",
              "64108  Grass-root teacher salaries, the last increase...   \n",
              "64109  Li Weijia Weeping, Crying, Drugs? Sick? See ho...   \n",
              "\n",
              "                                               title2_en  \n",
              "0      Lin xinsheng after the birth of \"hard milking,...  \n",
              "1      The UFO found in Yuancun, Jiaocheng County, Sh...  \n",
              "2      Li chenfan bingbing home photos, netizen: this...  \n",
              "3      Master one: the eight-character presumption of...  \n",
              "4      < i > Joe Johnson's disgruntled timing and ord...  \n",
              "...                                                  ...  \n",
              "64105  The multi-brand faucet is overtaxed, who is en...  \n",
              "64106  In 2018, the household registration system wil...  \n",
              "64107  Onion can not eat with this, serious also can ...  \n",
              "64108  Teachers wage reform, there will be these thre...  \n",
              "64109  Li Weijia on the hot air, netizens: Li Weijia ...  \n",
              "\n",
              "[64110 rows x 5 columns]"
            ],
            "text/html": [
              "\n",
              "  <div id=\"df-3aa75867-a55b-49e7-86cc-da1372d3857c\">\n",
              "    <div class=\"colab-df-container\">\n",
              "      <div>\n",
              "<style scoped>\n",
              "    .dataframe tbody tr th:only-of-type {\n",
              "        vertical-align: middle;\n",
              "    }\n",
              "\n",
              "    .dataframe tbody tr th {\n",
              "        vertical-align: top;\n",
              "    }\n",
              "\n",
              "    .dataframe thead th {\n",
              "        text-align: right;\n",
              "    }\n",
              "</style>\n",
              "<table border=\"1\" class=\"dataframe\">\n",
              "  <thead>\n",
              "    <tr style=\"text-align: right;\">\n",
              "      <th></th>\n",
              "      <th>id</th>\n",
              "      <th>tid1</th>\n",
              "      <th>tid2</th>\n",
              "      <th>title1_en</th>\n",
              "      <th>title2_en</th>\n",
              "    </tr>\n",
              "  </thead>\n",
              "  <tbody>\n",
              "    <tr>\n",
              "      <th>0</th>\n",
              "      <td>256442</td>\n",
              "      <td>100672</td>\n",
              "      <td>100673</td>\n",
              "      <td>The great coat brother Zhu Zhu Wen, in the man...</td>\n",
              "      <td>Lin xinsheng after the birth of \"hard milking,...</td>\n",
              "    </tr>\n",
              "    <tr>\n",
              "      <th>1</th>\n",
              "      <td>256443</td>\n",
              "      <td>162269</td>\n",
              "      <td>162270</td>\n",
              "      <td>NASA reveals facts about UFO wreckage found on...</td>\n",
              "      <td>The UFO found in Yuancun, Jiaocheng County, Sh...</td>\n",
              "    </tr>\n",
              "    <tr>\n",
              "      <th>2</th>\n",
              "      <td>256444</td>\n",
              "      <td>157826</td>\n",
              "      <td>157854</td>\n",
              "      <td>The hollow tomatoes are loaded with hormones.</td>\n",
              "      <td>Li chenfan bingbing home photos, netizen: this...</td>\n",
              "    </tr>\n",
              "    <tr>\n",
              "      <th>3</th>\n",
              "      <td>256445</td>\n",
              "      <td>109579</td>\n",
              "      <td>74076</td>\n",
              "      <td>Ange Pavilion Geoshui: How accurate is Matrimo...</td>\n",
              "      <td>Master one: the eight-character presumption of...</td>\n",
              "    </tr>\n",
              "    <tr>\n",
              "      <th>4</th>\n",
              "      <td>256446</td>\n",
              "      <td>15068</td>\n",
              "      <td>15085</td>\n",
              "      <td>A 50-year-old bus-bus blows up an 8-year-old c...</td>\n",
              "      <td>&lt; i &gt; Joe Johnson's disgruntled timing and ord...</td>\n",
              "    </tr>\n",
              "    <tr>\n",
              "      <th>...</th>\n",
              "      <td>...</td>\n",
              "      <td>...</td>\n",
              "      <td>...</td>\n",
              "      <td>...</td>\n",
              "      <td>...</td>\n",
              "    </tr>\n",
              "    <tr>\n",
              "      <th>64105</th>\n",
              "      <td>320547</td>\n",
              "      <td>94862</td>\n",
              "      <td>94863</td>\n",
              "      <td>The lead content of domestic faucet exceeds th...</td>\n",
              "      <td>The multi-brand faucet is overtaxed, who is en...</td>\n",
              "    </tr>\n",
              "    <tr>\n",
              "      <th>64106</th>\n",
              "      <td>320548</td>\n",
              "      <td>7451</td>\n",
              "      <td>7452</td>\n",
              "      <td>In 2018, the household registration system has...</td>\n",
              "      <td>In 2018, the household registration system wil...</td>\n",
              "    </tr>\n",
              "    <tr>\n",
              "      <th>64107</th>\n",
              "      <td>320549</td>\n",
              "      <td>144163</td>\n",
              "      <td>144164</td>\n",
              "      <td>Onion can not be eaten with this, serious also...</td>\n",
              "      <td>Onion can not eat with this, serious also can ...</td>\n",
              "    </tr>\n",
              "    <tr>\n",
              "      <th>64108</th>\n",
              "      <td>320550</td>\n",
              "      <td>96842</td>\n",
              "      <td>96856</td>\n",
              "      <td>Grass-root teacher salaries, the last increase...</td>\n",
              "      <td>Teachers wage reform, there will be these thre...</td>\n",
              "    </tr>\n",
              "    <tr>\n",
              "      <th>64109</th>\n",
              "      <td>320551</td>\n",
              "      <td>137151</td>\n",
              "      <td>132243</td>\n",
              "      <td>Li Weijia Weeping, Crying, Drugs? Sick? See ho...</td>\n",
              "      <td>Li Weijia on the hot air, netizens: Li Weijia ...</td>\n",
              "    </tr>\n",
              "  </tbody>\n",
              "</table>\n",
              "<p>64110 rows × 5 columns</p>\n",
              "</div>\n",
              "      <button class=\"colab-df-convert\" onclick=\"convertToInteractive('df-3aa75867-a55b-49e7-86cc-da1372d3857c')\"\n",
              "              title=\"Convert this dataframe to an interactive table.\"\n",
              "              style=\"display:none;\">\n",
              "        \n",
              "  <svg xmlns=\"http://www.w3.org/2000/svg\" height=\"24px\"viewBox=\"0 0 24 24\"\n",
              "       width=\"24px\">\n",
              "    <path d=\"M0 0h24v24H0V0z\" fill=\"none\"/>\n",
              "    <path d=\"M18.56 5.44l.94 2.06.94-2.06 2.06-.94-2.06-.94-.94-2.06-.94 2.06-2.06.94zm-11 1L8.5 8.5l.94-2.06 2.06-.94-2.06-.94L8.5 2.5l-.94 2.06-2.06.94zm10 10l.94 2.06.94-2.06 2.06-.94-2.06-.94-.94-2.06-.94 2.06-2.06.94z\"/><path d=\"M17.41 7.96l-1.37-1.37c-.4-.4-.92-.59-1.43-.59-.52 0-1.04.2-1.43.59L10.3 9.45l-7.72 7.72c-.78.78-.78 2.05 0 2.83L4 21.41c.39.39.9.59 1.41.59.51 0 1.02-.2 1.41-.59l7.78-7.78 2.81-2.81c.8-.78.8-2.07 0-2.86zM5.41 20L4 18.59l7.72-7.72 1.47 1.35L5.41 20z\"/>\n",
              "  </svg>\n",
              "      </button>\n",
              "      \n",
              "  <style>\n",
              "    .colab-df-container {\n",
              "      display:flex;\n",
              "      flex-wrap:wrap;\n",
              "      gap: 12px;\n",
              "    }\n",
              "\n",
              "    .colab-df-convert {\n",
              "      background-color: #E8F0FE;\n",
              "      border: none;\n",
              "      border-radius: 50%;\n",
              "      cursor: pointer;\n",
              "      display: none;\n",
              "      fill: #1967D2;\n",
              "      height: 32px;\n",
              "      padding: 0 0 0 0;\n",
              "      width: 32px;\n",
              "    }\n",
              "\n",
              "    .colab-df-convert:hover {\n",
              "      background-color: #E2EBFA;\n",
              "      box-shadow: 0px 1px 2px rgba(60, 64, 67, 0.3), 0px 1px 3px 1px rgba(60, 64, 67, 0.15);\n",
              "      fill: #174EA6;\n",
              "    }\n",
              "\n",
              "    [theme=dark] .colab-df-convert {\n",
              "      background-color: #3B4455;\n",
              "      fill: #D2E3FC;\n",
              "    }\n",
              "\n",
              "    [theme=dark] .colab-df-convert:hover {\n",
              "      background-color: #434B5C;\n",
              "      box-shadow: 0px 1px 3px 1px rgba(0, 0, 0, 0.15);\n",
              "      filter: drop-shadow(0px 1px 2px rgba(0, 0, 0, 0.3));\n",
              "      fill: #FFFFFF;\n",
              "    }\n",
              "  </style>\n",
              "\n",
              "      <script>\n",
              "        const buttonEl =\n",
              "          document.querySelector('#df-3aa75867-a55b-49e7-86cc-da1372d3857c button.colab-df-convert');\n",
              "        buttonEl.style.display =\n",
              "          google.colab.kernel.accessAllowed ? 'block' : 'none';\n",
              "\n",
              "        async function convertToInteractive(key) {\n",
              "          const element = document.querySelector('#df-3aa75867-a55b-49e7-86cc-da1372d3857c');\n",
              "          const dataTable =\n",
              "            await google.colab.kernel.invokeFunction('convertToInteractive',\n",
              "                                                     [key], {});\n",
              "          if (!dataTable) return;\n",
              "\n",
              "          const docLinkHtml = 'Like what you see? Visit the ' +\n",
              "            '<a target=\"_blank\" href=https://colab.research.google.com/notebooks/data_table.ipynb>data table notebook</a>'\n",
              "            + ' to learn more about interactive tables.';\n",
              "          element.innerHTML = '';\n",
              "          dataTable['output_type'] = 'display_data';\n",
              "          await google.colab.output.renderOutput(dataTable, element);\n",
              "          const docLink = document.createElement('div');\n",
              "          docLink.innerHTML = docLinkHtml;\n",
              "          element.appendChild(docLink);\n",
              "        }\n",
              "      </script>\n",
              "    </div>\n",
              "  </div>\n",
              "  "
            ]
          },
          "metadata": {},
          "execution_count": 142
        }
      ],
      "source": [
        "#import test data\n",
        "fake_test_df = pd.read_csv(\"test.csv\",header=0,doublequote=True, engine=None)\n",
        "len(fake_test_df)\n",
        "fake_test_df"
      ]
    },
    {
      "cell_type": "code",
      "execution_count": 143,
      "metadata": {
        "id": "RUMC6pyTVO70"
      },
      "outputs": [],
      "source": [
        "# import imblearn\n",
        "from collections import Counter\n",
        "from matplotlib import pyplot\n",
        "from sklearn.preprocessing import LabelEncoder"
      ]
    },
    {
      "cell_type": "code",
      "execution_count": 144,
      "metadata": {
        "colab": {
          "base_uri": "https://localhost:8080/",
          "height": 618
        },
        "id": "DfQvqluQVenN",
        "outputId": "74c15c35-1015-4a27-a445-75f2d185cde5"
      },
      "outputs": [
        {
          "output_type": "stream",
          "name": "stdout",
          "text": [
            "Class=2, n=175598 (68.475%)\n",
            "Class=0, n=74238 (28.949%)\n",
            "Class=1, n=6606 (2.576%)\n"
          ]
        },
        {
          "output_type": "display_data",
          "data": {
            "text/plain": [
              "<Figure size 800x600 with 1 Axes>"
            ],
            "image/png": "[encoded data removed]"
          },
          "metadata": {}
        }
      ],
      "source": [
        "fake_data = fake_df.values\n",
        "# split into input and output elements\n",
        "X, y = fake_data[:, :-1], fake_data[:, -1]\n",
        "y = LabelEncoder().fit_transform(y)\n",
        "\n",
        "for k,v in Counter(y).items():\n",
        "\tper = v / len(y) * 100\n",
        "\tprint('Class=%d, n=%d (%.3f%%)' % (k, v, per))\n",
        "\n",
        "# Plot the distribution as a horizontal bar chart with axis labels and a title\n",
        "class_distribution = Counter(y)\n",
        "fig, ax = pyplot.subplots(figsize=(8, 6))\n",
        "ax.barh(list(class_distribution.keys()), class_distribution.values(), align='center')\n",
        "ax.set_xlabel('Number of Samples')\n",
        "ax.set_ylabel('Class')\n",
        "ax.set_title('Class Distribution')\n",
        "pyplot.show()\n"
      ]
    },
    {
      "cell_type": "code",
      "execution_count": 145,
      "metadata": {
        "colab": {
          "base_uri": "https://localhost:8080/",
          "height": 424
        },
        "id": "h2G4w7d0RbKt",
        "outputId": "68e961da-00c8-4fa9-8d9b-311a1d88b4a4"
      },
      "outputs": [
        {
          "output_type": "execute_result",
          "data": {
            "text/plain": [
              "           id   tid1   tid2  title1_en  title2_en  label\n",
              "0       False  False  False      False      False  False\n",
              "1       False  False  False      False      False  False\n",
              "2       False  False  False      False      False  False\n",
              "3       False  False  False      False      False  False\n",
              "4       False  False  False      False      False  False\n",
              "...       ...    ...    ...        ...        ...    ...\n",
              "256437  False  False  False      False      False  False\n",
              "256438  False  False  False      False      False  False\n",
              "256439  False  False  False      False      False  False\n",
              "256440  False  False  False      False      False  False\n",
              "256441  False  False  False      False      False  False\n",
              "\n",
              "[256442 rows x 6 columns]"
            ],
            "text/html": [
              "\n",
              "  <div id=\"df-230079f6-8ec9-414e-b963-7f7d22367d7f\">\n",
              "    <div class=\"colab-df-container\">\n",
              "      <div>\n",
              "<style scoped>\n",
              "    .dataframe tbody tr th:only-of-type {\n",
              "        vertical-align: middle;\n",
              "    }\n",
              "\n",
              "    .dataframe tbody tr th {\n",
              "        vertical-align: top;\n",
              "    }\n",
              "\n",
              "    .dataframe thead th {\n",
              "        text-align: right;\n",
              "    }\n",
              "</style>\n",
              "<table border=\"1\" class=\"dataframe\">\n",
              "  <thead>\n",
              "    <tr style=\"text-align: right;\">\n",
              "      <th></th>\n",
              "      <th>id</th>\n",
              "      <th>tid1</th>\n",
              "      <th>tid2</th>\n",
              "      <th>title1_en</th>\n",
              "      <th>title2_en</th>\n",
              "      <th>label</th>\n",
              "    </tr>\n",
              "  </thead>\n",
              "  <tbody>\n",
              "    <tr>\n",
              "      <th>0</th>\n",
              "      <td>False</td>\n",
              "      <td>False</td>\n",
              "      <td>False</td>\n",
              "      <td>False</td>\n",
              "      <td>False</td>\n",
              "      <td>False</td>\n",
              "    </tr>\n",
              "    <tr>\n",
              "      <th>1</th>\n",
              "      <td>False</td>\n",
              "      <td>False</td>\n",
              "      <td>False</td>\n",
              "      <td>False</td>\n",
              "      <td>False</td>\n",
              "      <td>False</td>\n",
              "    </tr>\n",
              "    <tr>\n",
              "      <th>2</th>\n",
              "      <td>False</td>\n",
              "      <td>False</td>\n",
              "      <td>False</td>\n",
              "      <td>False</td>\n",
              "      <td>False</td>\n",
              "      <td>False</td>\n",
              "    </tr>\n",
              "    <tr>\n",
              "      <th>3</th>\n",
              "      <td>False</td>\n",
              "      <td>False</td>\n",
              "      <td>False</td>\n",
              "      <td>False</td>\n",
              "      <td>False</td>\n",
              "      <td>False</td>\n",
              "    </tr>\n",
              "    <tr>\n",
              "      <th>4</th>\n",
              "      <td>False</td>\n",
              "      <td>False</td>\n",
              "      <td>False</td>\n",
              "      <td>False</td>\n",
              "      <td>False</td>\n",
              "      <td>False</td>\n",
              "    </tr>\n",
              "    <tr>\n",
              "      <th>...</th>\n",
              "      <td>...</td>\n",
              "      <td>...</td>\n",
              "      <td>...</td>\n",
              "      <td>...</td>\n",
              "      <td>...</td>\n",
              "      <td>...</td>\n",
              "    </tr>\n",
              "    <tr>\n",
              "      <th>256437</th>\n",
              "      <td>False</td>\n",
              "      <td>False</td>\n",
              "      <td>False</td>\n",
              "      <td>False</td>\n",
              "      <td>False</td>\n",
              "      <td>False</td>\n",
              "    </tr>\n",
              "    <tr>\n",
              "      <th>256438</th>\n",
              "      <td>False</td>\n",
              "      <td>False</td>\n",
              "      <td>False</td>\n",
              "      <td>False</td>\n",
              "      <td>False</td>\n",
              "      <td>False</td>\n",
              "    </tr>\n",
              "    <tr>\n",
              "      <th>256439</th>\n",
              "      <td>False</td>\n",
              "      <td>False</td>\n",
              "      <td>False</td>\n",
              "      <td>False</td>\n",
              "      <td>False</td>\n",
              "      <td>False</td>\n",
              "    </tr>\n",
              "    <tr>\n",
              "      <th>256440</th>\n",
              "      <td>False</td>\n",
              "      <td>False</td>\n",
              "      <td>False</td>\n",
              "      <td>False</td>\n",
              "      <td>False</td>\n",
              "      <td>False</td>\n",
              "    </tr>\n",
              "    <tr>\n",
              "      <th>256441</th>\n",
              "      <td>False</td>\n",
              "      <td>False</td>\n",
              "      <td>False</td>\n",
              "      <td>False</td>\n",
              "      <td>False</td>\n",
              "      <td>False</td>\n",
              "    </tr>\n",
              "  </tbody>\n",
              "</table>\n",
              "<p>256442 rows × 6 columns</p>\n",
              "</div>\n",
              "      <button class=\"colab-df-convert\" onclick=\"convertToInteractive('df-230079f6-8ec9-414e-b963-7f7d22367d7f')\"\n",
              "              title=\"Convert this dataframe to an interactive table.\"\n",
              "              style=\"display:none;\">\n",
              "        \n",
              "  <svg xmlns=\"http://www.w3.org/2000/svg\" height=\"24px\"viewBox=\"0 0 24 24\"\n",
              "       width=\"24px\">\n",
              "    <path d=\"M0 0h24v24H0V0z\" fill=\"none\"/>\n",
              "    <path d=\"M18.56 5.44l.94 2.06.94-2.06 2.06-.94-2.06-.94-.94-2.06-.94 2.06-2.06.94zm-11 1L8.5 8.5l.94-2.06 2.06-.94-2.06-.94L8.5 2.5l-.94 2.06-2.06.94zm10 10l.94 2.06.94-2.06 2.06-.94-2.06-.94-.94-2.06-.94 2.06-2.06.94z\"/><path d=\"M17.41 7.96l-1.37-1.37c-.4-.4-.92-.59-1.43-.59-.52 0-1.04.2-1.43.59L10.3 9.45l-7.72 7.72c-.78.78-.78 2.05 0 2.83L4 21.41c.39.39.9.59 1.41.59.51 0 1.02-.2 1.41-.59l7.78-7.78 2.81-2.81c.8-.78.8-2.07 0-2.86zM5.41 20L4 18.59l7.72-7.72 1.47 1.35L5.41 20z\"/>\n",
              "  </svg>\n",
              "      </button>\n",
              "      \n",
              "  <style>\n",
              "    .colab-df-container {\n",
              "      display:flex;\n",
              "      flex-wrap:wrap;\n",
              "      gap: 12px;\n",
              "    }\n",
              "\n",
              "    .colab-df-convert {\n",
              "      background-color: #E8F0FE;\n",
              "      border: none;\n",
              "      border-radius: 50%;\n",
              "      cursor: pointer;\n",
              "      display: none;\n",
              "      fill: #1967D2;\n",
              "      height: 32px;\n",
              "      padding: 0 0 0 0;\n",
              "      width: 32px;\n",
              "    }\n",
              "\n",
              "    .colab-df-convert:hover {\n",
              "      background-color: #E2EBFA;\n",
              "      box-shadow: 0px 1px 2px rgba(60, 64, 67, 0.3), 0px 1px 3px 1px rgba(60, 64, 67, 0.15);\n",
              "      fill: #174EA6;\n",
              "    }\n",
              "\n",
              "    [theme=dark] .colab-df-convert {\n",
              "      background-color: #3B4455;\n",
              "      fill: #D2E3FC;\n",
              "    }\n",
              "\n",
              "    [theme=dark] .colab-df-convert:hover {\n",
              "      background-color: #434B5C;\n",
              "      box-shadow: 0px 1px 3px 1px rgba(0, 0, 0, 0.15);\n",
              "      filter: drop-shadow(0px 1px 2px rgba(0, 0, 0, 0.3));\n",
              "      fill: #FFFFFF;\n",
              "    }\n",
              "  </style>\n",
              "\n",
              "      <script>\n",
              "        const buttonEl =\n",
              "          document.querySelector('#df-230079f6-8ec9-414e-b963-7f7d22367d7f button.colab-df-convert');\n",
              "        buttonEl.style.display =\n",
              "          google.colab.kernel.accessAllowed ? 'block' : 'none';\n",
              "\n",
              "        async function convertToInteractive(key) {\n",
              "          const element = document.querySelector('#df-230079f6-8ec9-414e-b963-7f7d22367d7f');\n",
              "          const dataTable =\n",
              "            await google.colab.kernel.invokeFunction('convertToInteractive',\n",
              "                                                     [key], {});\n",
              "          if (!dataTable) return;\n",
              "\n",
              "          const docLinkHtml = 'Like what you see? Visit the ' +\n",
              "            '<a target=\"_blank\" href=https://colab.research.google.com/notebooks/data_table.ipynb>data table notebook</a>'\n",
              "            + ' to learn more about interactive tables.';\n",
              "          element.innerHTML = '';\n",
              "          dataTable['output_type'] = 'display_data';\n",
              "          await google.colab.output.renderOutput(dataTable, element);\n",
              "          const docLink = document.createElement('div');\n",
              "          docLink.innerHTML = docLinkHtml;\n",
              "          element.appendChild(docLink);\n",
              "        }\n",
              "      </script>\n",
              "    </div>\n",
              "  </div>\n",
              "  "
            ]
          },
          "metadata": {},
          "execution_count": 145
        }
      ],
      "source": [
        "fake_df.isna()"
      ]
    },
    {
      "cell_type": "code",
      "execution_count": 146,
      "metadata": {
        "colab": {
          "base_uri": "https://localhost:8080/",
          "height": 424
        },
        "id": "OEyBJNn8__QI",
        "outputId": "f9293f24-9120-454f-94b7-40a76e1ae8b9"
      },
      "outputs": [
        {
          "output_type": "execute_result",
          "data": {
            "text/plain": [
              "          id   tid1   tid2  title1_en  title2_en\n",
              "0      False  False  False      False      False\n",
              "1      False  False  False      False      False\n",
              "2      False  False  False      False      False\n",
              "3      False  False  False      False      False\n",
              "4      False  False  False      False      False\n",
              "...      ...    ...    ...        ...        ...\n",
              "64105  False  False  False      False      False\n",
              "64106  False  False  False      False      False\n",
              "64107  False  False  False      False      False\n",
              "64108  False  False  False      False      False\n",
              "64109  False  False  False      False      False\n",
              "\n",
              "[64110 rows x 5 columns]"
            ],
            "text/html": [
              "\n",
              "  <div id=\"df-5b7fabc9-652d-44f0-8d92-3ed9901b6968\">\n",
              "    <div class=\"colab-df-container\">\n",
              "      <div>\n",
              "<style scoped>\n",
              "    .dataframe tbody tr th:only-of-type {\n",
              "        vertical-align: middle;\n",
              "    }\n",
              "\n",
              "    .dataframe tbody tr th {\n",
              "        vertical-align: top;\n",
              "    }\n",
              "\n",
              "    .dataframe thead th {\n",
              "        text-align: right;\n",
              "    }\n",
              "</style>\n",
              "<table border=\"1\" class=\"dataframe\">\n",
              "  <thead>\n",
              "    <tr style=\"text-align: right;\">\n",
              "      <th></th>\n",
              "      <th>id</th>\n",
              "      <th>tid1</th>\n",
              "      <th>tid2</th>\n",
              "      <th>title1_en</th>\n",
              "      <th>title2_en</th>\n",
              "    </tr>\n",
              "  </thead>\n",
              "  <tbody>\n",
              "    <tr>\n",
              "      <th>0</th>\n",
              "      <td>False</td>\n",
              "      <td>False</td>\n",
              "      <td>False</td>\n",
              "      <td>False</td>\n",
              "      <td>False</td>\n",
              "    </tr>\n",
              "    <tr>\n",
              "      <th>1</th>\n",
              "      <td>False</td>\n",
              "      <td>False</td>\n",
              "      <td>False</td>\n",
              "      <td>False</td>\n",
              "      <td>False</td>\n",
              "    </tr>\n",
              "    <tr>\n",
              "      <th>2</th>\n",
              "      <td>False</td>\n",
              "      <td>False</td>\n",
              "      <td>False</td>\n",
              "      <td>False</td>\n",
              "      <td>False</td>\n",
              "    </tr>\n",
              "    <tr>\n",
              "      <th>3</th>\n",
              "      <td>False</td>\n",
              "      <td>False</td>\n",
              "      <td>False</td>\n",
              "      <td>False</td>\n",
              "      <td>False</td>\n",
              "    </tr>\n",
              "    <tr>\n",
              "      <th>4</th>\n",
              "      <td>False</td>\n",
              "      <td>False</td>\n",
              "      <td>False</td>\n",
              "      <td>False</td>\n",
              "      <td>False</td>\n",
              "    </tr>\n",
              "    <tr>\n",
              "      <th>...</th>\n",
              "      <td>...</td>\n",
              "      <td>...</td>\n",
              "      <td>...</td>\n",
              "      <td>...</td>\n",
              "      <td>...</td>\n",
              "    </tr>\n",
              "    <tr>\n",
              "      <th>64105</th>\n",
              "      <td>False</td>\n",
              "      <td>False</td>\n",
              "      <td>False</td>\n",
              "      <td>False</td>\n",
              "      <td>False</td>\n",
              "    </tr>\n",
              "    <tr>\n",
              "      <th>64106</th>\n",
              "      <td>False</td>\n",
              "      <td>False</td>\n",
              "      <td>False</td>\n",
              "      <td>False</td>\n",
              "      <td>False</td>\n",
              "    </tr>\n",
              "    <tr>\n",
              "      <th>64107</th>\n",
              "      <td>False</td>\n",
              "      <td>False</td>\n",
              "      <td>False</td>\n",
              "      <td>False</td>\n",
              "      <td>False</td>\n",
              "    </tr>\n",
              "    <tr>\n",
              "      <th>64108</th>\n",
              "      <td>False</td>\n",
              "      <td>False</td>\n",
              "      <td>False</td>\n",
              "      <td>False</td>\n",
              "      <td>False</td>\n",
              "    </tr>\n",
              "    <tr>\n",
              "      <th>64109</th>\n",
              "      <td>False</td>\n",
              "      <td>False</td>\n",
              "      <td>False</td>\n",
              "      <td>False</td>\n",
              "      <td>False</td>\n",
              "    </tr>\n",
              "  </tbody>\n",
              "</table>\n",
              "<p>64110 rows × 5 columns</p>\n",
              "</div>\n",
              "      <button class=\"colab-df-convert\" onclick=\"convertToInteractive('df-5b7fabc9-652d-44f0-8d92-3ed9901b6968')\"\n",
              "              title=\"Convert this dataframe to an interactive table.\"\n",
              "              style=\"display:none;\">\n",
              "        \n",
              "  <svg xmlns=\"http://www.w3.org/2000/svg\" height=\"24px\"viewBox=\"0 0 24 24\"\n",
              "       width=\"24px\">\n",
              "    <path d=\"M0 0h24v24H0V0z\" fill=\"none\"/>\n",
              "    <path d=\"M18.56 5.44l.94 2.06.94-2.06 2.06-.94-2.06-.94-.94-2.06-.94 2.06-2.06.94zm-11 1L8.5 8.5l.94-2.06 2.06-.94-2.06-.94L8.5 2.5l-.94 2.06-2.06.94zm10 10l.94 2.06.94-2.06 2.06-.94-2.06-.94-.94-2.06-.94 2.06-2.06.94z\"/><path d=\"M17.41 7.96l-1.37-1.37c-.4-.4-.92-.59-1.43-.59-.52 0-1.04.2-1.43.59L10.3 9.45l-7.72 7.72c-.78.78-.78 2.05 0 2.83L4 21.41c.39.39.9.59 1.41.59.51 0 1.02-.2 1.41-.59l7.78-7.78 2.81-2.81c.8-.78.8-2.07 0-2.86zM5.41 20L4 18.59l7.72-7.72 1.47 1.35L5.41 20z\"/>\n",
              "  </svg>\n",
              "      </button>\n",
              "      \n",
              "  <style>\n",
              "    .colab-df-container {\n",
              "      display:flex;\n",
              "      flex-wrap:wrap;\n",
              "      gap: 12px;\n",
              "    }\n",
              "\n",
              "    .colab-df-convert {\n",
              "      background-color: #E8F0FE;\n",
              "      border: none;\n",
              "      border-radius: 50%;\n",
              "      cursor: pointer;\n",
              "      display: none;\n",
              "      fill: #1967D2;\n",
              "      height: 32px;\n",
              "      padding: 0 0 0 0;\n",
              "      width: 32px;\n",
              "    }\n",
              "\n",
              "    .colab-df-convert:hover {\n",
              "      background-color: #E2EBFA;\n",
              "      box-shadow: 0px 1px 2px rgba(60, 64, 67, 0.3), 0px 1px 3px 1px rgba(60, 64, 67, 0.15);\n",
              "      fill: #174EA6;\n",
              "    }\n",
              "\n",
              "    [theme=dark] .colab-df-convert {\n",
              "      background-color: #3B4455;\n",
              "      fill: #D2E3FC;\n",
              "    }\n",
              "\n",
              "    [theme=dark] .colab-df-convert:hover {\n",
              "      background-color: #434B5C;\n",
              "      box-shadow: 0px 1px 3px 1px rgba(0, 0, 0, 0.15);\n",
              "      filter: drop-shadow(0px 1px 2px rgba(0, 0, 0, 0.3));\n",
              "      fill: #FFFFFF;\n",
              "    }\n",
              "  </style>\n",
              "\n",
              "      <script>\n",
              "        const buttonEl =\n",
              "          document.querySelector('#df-5b7fabc9-652d-44f0-8d92-3ed9901b6968 button.colab-df-convert');\n",
              "        buttonEl.style.display =\n",
              "          google.colab.kernel.accessAllowed ? 'block' : 'none';\n",
              "\n",
              "        async function convertToInteractive(key) {\n",
              "          const element = document.querySelector('#df-5b7fabc9-652d-44f0-8d92-3ed9901b6968');\n",
              "          const dataTable =\n",
              "            await google.colab.kernel.invokeFunction('convertToInteractive',\n",
              "                                                     [key], {});\n",
              "          if (!dataTable) return;\n",
              "\n",
              "          const docLinkHtml = 'Like what you see? Visit the ' +\n",
              "            '<a target=\"_blank\" href=https://colab.research.google.com/notebooks/data_table.ipynb>data table notebook</a>'\n",
              "            + ' to learn more about interactive tables.';\n",
              "          element.innerHTML = '';\n",
              "          dataTable['output_type'] = 'display_data';\n",
              "          await google.colab.output.renderOutput(dataTable, element);\n",
              "          const docLink = document.createElement('div');\n",
              "          docLink.innerHTML = docLinkHtml;\n",
              "          element.appendChild(docLink);\n",
              "        }\n",
              "      </script>\n",
              "    </div>\n",
              "  </div>\n",
              "  "
            ]
          },
          "metadata": {},
          "execution_count": 146
        }
      ],
      "source": [
        "fake_test_df.isna()"
      ]
    },
    {
      "cell_type": "code",
      "execution_count": 147,
      "metadata": {
        "colab": {
          "base_uri": "https://localhost:8080/",
          "height": 424
        },
        "id": "IuFbnJa2RfBq",
        "outputId": "bf852c21-2c28-4283-e801-5eb2322e71fd"
      },
      "outputs": [
        {
          "output_type": "execute_result",
          "data": {
            "text/plain": [
              "          id  tid1  tid2  title1_en  title2_en  label\n",
              "0       True  True  True       True       True   True\n",
              "1       True  True  True       True       True   True\n",
              "2       True  True  True       True       True   True\n",
              "3       True  True  True       True       True   True\n",
              "4       True  True  True       True       True   True\n",
              "...      ...   ...   ...        ...        ...    ...\n",
              "256437  True  True  True       True       True   True\n",
              "256438  True  True  True       True       True   True\n",
              "256439  True  True  True       True       True   True\n",
              "256440  True  True  True       True       True   True\n",
              "256441  True  True  True       True       True   True\n",
              "\n",
              "[256442 rows x 6 columns]"
            ],
            "text/html": [
              "\n",
              "  <div id=\"df-8db3f392-6cac-42d0-9800-f08afc8bb489\">\n",
              "    <div class=\"colab-df-container\">\n",
              "      <div>\n",
              "<style scoped>\n",
              "    .dataframe tbody tr th:only-of-type {\n",
              "        vertical-align: middle;\n",
              "    }\n",
              "\n",
              "    .dataframe tbody tr th {\n",
              "        vertical-align: top;\n",
              "    }\n",
              "\n",
              "    .dataframe thead th {\n",
              "        text-align: right;\n",
              "    }\n",
              "</style>\n",
              "<table border=\"1\" class=\"dataframe\">\n",
              "  <thead>\n",
              "    <tr style=\"text-align: right;\">\n",
              "      <th></th>\n",
              "      <th>id</th>\n",
              "      <th>tid1</th>\n",
              "      <th>tid2</th>\n",
              "      <th>title1_en</th>\n",
              "      <th>title2_en</th>\n",
              "      <th>label</th>\n",
              "    </tr>\n",
              "  </thead>\n",
              "  <tbody>\n",
              "    <tr>\n",
              "      <th>0</th>\n",
              "      <td>True</td>\n",
              "      <td>True</td>\n",
              "      <td>True</td>\n",
              "      <td>True</td>\n",
              "      <td>True</td>\n",
              "      <td>True</td>\n",
              "    </tr>\n",
              "    <tr>\n",
              "      <th>1</th>\n",
              "      <td>True</td>\n",
              "      <td>True</td>\n",
              "      <td>True</td>\n",
              "      <td>True</td>\n",
              "      <td>True</td>\n",
              "      <td>True</td>\n",
              "    </tr>\n",
              "    <tr>\n",
              "      <th>2</th>\n",
              "      <td>True</td>\n",
              "      <td>True</td>\n",
              "      <td>True</td>\n",
              "      <td>True</td>\n",
              "      <td>True</td>\n",
              "      <td>True</td>\n",
              "    </tr>\n",
              "    <tr>\n",
              "      <th>3</th>\n",
              "      <td>True</td>\n",
              "      <td>True</td>\n",
              "      <td>True</td>\n",
              "      <td>True</td>\n",
              "      <td>True</td>\n",
              "      <td>True</td>\n",
              "    </tr>\n",
              "    <tr>\n",
              "      <th>4</th>\n",
              "      <td>True</td>\n",
              "      <td>True</td>\n",
              "      <td>True</td>\n",
              "      <td>True</td>\n",
              "      <td>True</td>\n",
              "      <td>True</td>\n",
              "    </tr>\n",
              "    <tr>\n",
              "      <th>...</th>\n",
              "      <td>...</td>\n",
              "      <td>...</td>\n",
              "      <td>...</td>\n",
              "      <td>...</td>\n",
              "      <td>...</td>\n",
              "      <td>...</td>\n",
              "    </tr>\n",
              "    <tr>\n",
              "      <th>256437</th>\n",
              "      <td>True</td>\n",
              "      <td>True</td>\n",
              "      <td>True</td>\n",
              "      <td>True</td>\n",
              "      <td>True</td>\n",
              "      <td>True</td>\n",
              "    </tr>\n",
              "    <tr>\n",
              "      <th>256438</th>\n",
              "      <td>True</td>\n",
              "      <td>True</td>\n",
              "      <td>True</td>\n",
              "      <td>True</td>\n",
              "      <td>True</td>\n",
              "      <td>True</td>\n",
              "    </tr>\n",
              "    <tr>\n",
              "      <th>256439</th>\n",
              "      <td>True</td>\n",
              "      <td>True</td>\n",
              "      <td>True</td>\n",
              "      <td>True</td>\n",
              "      <td>True</td>\n",
              "      <td>True</td>\n",
              "    </tr>\n",
              "    <tr>\n",
              "      <th>256440</th>\n",
              "      <td>True</td>\n",
              "      <td>True</td>\n",
              "      <td>True</td>\n",
              "      <td>True</td>\n",
              "      <td>True</td>\n",
              "      <td>True</td>\n",
              "    </tr>\n",
              "    <tr>\n",
              "      <th>256441</th>\n",
              "      <td>True</td>\n",
              "      <td>True</td>\n",
              "      <td>True</td>\n",
              "      <td>True</td>\n",
              "      <td>True</td>\n",
              "      <td>True</td>\n",
              "    </tr>\n",
              "  </tbody>\n",
              "</table>\n",
              "<p>256442 rows × 6 columns</p>\n",
              "</div>\n",
              "      <button class=\"colab-df-convert\" onclick=\"convertToInteractive('df-8db3f392-6cac-42d0-9800-f08afc8bb489')\"\n",
              "              title=\"Convert this dataframe to an interactive table.\"\n",
              "              style=\"display:none;\">\n",
              "        \n",
              "  <svg xmlns=\"http://www.w3.org/2000/svg\" height=\"24px\"viewBox=\"0 0 24 24\"\n",
              "       width=\"24px\">\n",
              "    <path d=\"M0 0h24v24H0V0z\" fill=\"none\"/>\n",
              "    <path d=\"M18.56 5.44l.94 2.06.94-2.06 2.06-.94-2.06-.94-.94-2.06-.94 2.06-2.06.94zm-11 1L8.5 8.5l.94-2.06 2.06-.94-2.06-.94L8.5 2.5l-.94 2.06-2.06.94zm10 10l.94 2.06.94-2.06 2.06-.94-2.06-.94-.94-2.06-.94 2.06-2.06.94z\"/><path d=\"M17.41 7.96l-1.37-1.37c-.4-.4-.92-.59-1.43-.59-.52 0-1.04.2-1.43.59L10.3 9.45l-7.72 7.72c-.78.78-.78 2.05 0 2.83L4 21.41c.39.39.9.59 1.41.59.51 0 1.02-.2 1.41-.59l7.78-7.78 2.81-2.81c.8-.78.8-2.07 0-2.86zM5.41 20L4 18.59l7.72-7.72 1.47 1.35L5.41 20z\"/>\n",
              "  </svg>\n",
              "      </button>\n",
              "      \n",
              "  <style>\n",
              "    .colab-df-container {\n",
              "      display:flex;\n",
              "      flex-wrap:wrap;\n",
              "      gap: 12px;\n",
              "    }\n",
              "\n",
              "    .colab-df-convert {\n",
              "      background-color: #E8F0FE;\n",
              "      border: none;\n",
              "      border-radius: 50%;\n",
              "      cursor: pointer;\n",
              "      display: none;\n",
              "      fill: #1967D2;\n",
              "      height: 32px;\n",
              "      padding: 0 0 0 0;\n",
              "      width: 32px;\n",
              "    }\n",
              "\n",
              "    .colab-df-convert:hover {\n",
              "      background-color: #E2EBFA;\n",
              "      box-shadow: 0px 1px 2px rgba(60, 64, 67, 0.3), 0px 1px 3px 1px rgba(60, 64, 67, 0.15);\n",
              "      fill: #174EA6;\n",
              "    }\n",
              "\n",
              "    [theme=dark] .colab-df-convert {\n",
              "      background-color: #3B4455;\n",
              "      fill: #D2E3FC;\n",
              "    }\n",
              "\n",
              "    [theme=dark] .colab-df-convert:hover {\n",
              "      background-color: #434B5C;\n",
              "      box-shadow: 0px 1px 3px 1px rgba(0, 0, 0, 0.15);\n",
              "      filter: drop-shadow(0px 1px 2px rgba(0, 0, 0, 0.3));\n",
              "      fill: #FFFFFF;\n",
              "    }\n",
              "  </style>\n",
              "\n",
              "      <script>\n",
              "        const buttonEl =\n",
              "          document.querySelector('#df-8db3f392-6cac-42d0-9800-f08afc8bb489 button.colab-df-convert');\n",
              "        buttonEl.style.display =\n",
              "          google.colab.kernel.accessAllowed ? 'block' : 'none';\n",
              "\n",
              "        async function convertToInteractive(key) {\n",
              "          const element = document.querySelector('#df-8db3f392-6cac-42d0-9800-f08afc8bb489');\n",
              "          const dataTable =\n",
              "            await google.colab.kernel.invokeFunction('convertToInteractive',\n",
              "                                                     [key], {});\n",
              "          if (!dataTable) return;\n",
              "\n",
              "          const docLinkHtml = 'Like what you see? Visit the ' +\n",
              "            '<a target=\"_blank\" href=https://colab.research.google.com/notebooks/data_table.ipynb>data table notebook</a>'\n",
              "            + ' to learn more about interactive tables.';\n",
              "          element.innerHTML = '';\n",
              "          dataTable['output_type'] = 'display_data';\n",
              "          await google.colab.output.renderOutput(dataTable, element);\n",
              "          const docLink = document.createElement('div');\n",
              "          docLink.innerHTML = docLinkHtml;\n",
              "          element.appendChild(docLink);\n",
              "        }\n",
              "      </script>\n",
              "    </div>\n",
              "  </div>\n",
              "  "
            ]
          },
          "metadata": {},
          "execution_count": 147
        }
      ],
      "source": [
        "fake_df.notnull()"
      ]
    },
    {
      "cell_type": "code",
      "execution_count": 148,
      "metadata": {
        "colab": {
          "base_uri": "https://localhost:8080/",
          "height": 424
        },
        "id": "R13pBiCdADZC",
        "outputId": "0dea16cd-9e3e-4c6f-d739-fa4889a27688"
      },
      "outputs": [
        {
          "output_type": "execute_result",
          "data": {
            "text/plain": [
              "         id  tid1  tid2  title1_en  title2_en\n",
              "0      True  True  True       True       True\n",
              "1      True  True  True       True       True\n",
              "2      True  True  True       True       True\n",
              "3      True  True  True       True       True\n",
              "4      True  True  True       True       True\n",
              "...     ...   ...   ...        ...        ...\n",
              "64105  True  True  True       True       True\n",
              "64106  True  True  True       True       True\n",
              "64107  True  True  True       True       True\n",
              "64108  True  True  True       True       True\n",
              "64109  True  True  True       True       True\n",
              "\n",
              "[64110 rows x 5 columns]"
            ],
            "text/html": [
              "\n",
              "  <div id=\"df-95c9cf0a-6ffa-4fd1-ba94-5c7bed9a81cf\">\n",
              "    <div class=\"colab-df-container\">\n",
              "      <div>\n",
              "<style scoped>\n",
              "    .dataframe tbody tr th:only-of-type {\n",
              "        vertical-align: middle;\n",
              "    }\n",
              "\n",
              "    .dataframe tbody tr th {\n",
              "        vertical-align: top;\n",
              "    }\n",
              "\n",
              "    .dataframe thead th {\n",
              "        text-align: right;\n",
              "    }\n",
              "</style>\n",
              "<table border=\"1\" class=\"dataframe\">\n",
              "  <thead>\n",
              "    <tr style=\"text-align: right;\">\n",
              "      <th></th>\n",
              "      <th>id</th>\n",
              "      <th>tid1</th>\n",
              "      <th>tid2</th>\n",
              "      <th>title1_en</th>\n",
              "      <th>title2_en</th>\n",
              "    </tr>\n",
              "  </thead>\n",
              "  <tbody>\n",
              "    <tr>\n",
              "      <th>0</th>\n",
              "      <td>True</td>\n",
              "      <td>True</td>\n",
              "      <td>True</td>\n",
              "      <td>True</td>\n",
              "      <td>True</td>\n",
              "    </tr>\n",
              "    <tr>\n",
              "      <th>1</th>\n",
              "      <td>True</td>\n",
              "      <td>True</td>\n",
              "      <td>True</td>\n",
              "      <td>True</td>\n",
              "      <td>True</td>\n",
              "    </tr>\n",
              "    <tr>\n",
              "      <th>2</th>\n",
              "      <td>True</td>\n",
              "      <td>True</td>\n",
              "      <td>True</td>\n",
              "      <td>True</td>\n",
              "      <td>True</td>\n",
              "    </tr>\n",
              "    <tr>\n",
              "      <th>3</th>\n",
              "      <td>True</td>\n",
              "      <td>True</td>\n",
              "      <td>True</td>\n",
              "      <td>True</td>\n",
              "      <td>True</td>\n",
              "    </tr>\n",
              "    <tr>\n",
              "      <th>4</th>\n",
              "      <td>True</td>\n",
              "      <td>True</td>\n",
              "      <td>True</td>\n",
              "      <td>True</td>\n",
              "      <td>True</td>\n",
              "    </tr>\n",
              "    <tr>\n",
              "      <th>...</th>\n",
              "      <td>...</td>\n",
              "      <td>...</td>\n",
              "      <td>...</td>\n",
              "      <td>...</td>\n",
              "      <td>...</td>\n",
              "    </tr>\n",
              "    <tr>\n",
              "      <th>64105</th>\n",
              "      <td>True</td>\n",
              "      <td>True</td>\n",
              "      <td>True</td>\n",
              "      <td>True</td>\n",
              "      <td>True</td>\n",
              "    </tr>\n",
              "    <tr>\n",
              "      <th>64106</th>\n",
              "      <td>True</td>\n",
              "      <td>True</td>\n",
              "      <td>True</td>\n",
              "      <td>True</td>\n",
              "      <td>True</td>\n",
              "    </tr>\n",
              "    <tr>\n",
              "      <th>64107</th>\n",
              "      <td>True</td>\n",
              "      <td>True</td>\n",
              "      <td>True</td>\n",
              "      <td>True</td>\n",
              "      <td>True</td>\n",
              "    </tr>\n",
              "    <tr>\n",
              "      <th>64108</th>\n",
              "      <td>True</td>\n",
              "      <td>True</td>\n",
              "      <td>True</td>\n",
              "      <td>True</td>\n",
              "      <td>True</td>\n",
              "    </tr>\n",
              "    <tr>\n",
              "      <th>64109</th>\n",
              "      <td>True</td>\n",
              "      <td>True</td>\n",
              "      <td>True</td>\n",
              "      <td>True</td>\n",
              "      <td>True</td>\n",
              "    </tr>\n",
              "  </tbody>\n",
              "</table>\n",
              "<p>64110 rows × 5 columns</p>\n",
              "</div>\n",
              "      <button class=\"colab-df-convert\" onclick=\"convertToInteractive('df-95c9cf0a-6ffa-4fd1-ba94-5c7bed9a81cf')\"\n",
              "              title=\"Convert this dataframe to an interactive table.\"\n",
              "              style=\"display:none;\">\n",
              "        \n",
              "  <svg xmlns=\"http://www.w3.org/2000/svg\" height=\"24px\"viewBox=\"0 0 24 24\"\n",
              "       width=\"24px\">\n",
              "    <path d=\"M0 0h24v24H0V0z\" fill=\"none\"/>\n",
              "    <path d=\"M18.56 5.44l.94 2.06.94-2.06 2.06-.94-2.06-.94-.94-2.06-.94 2.06-2.06.94zm-11 1L8.5 8.5l.94-2.06 2.06-.94-2.06-.94L8.5 2.5l-.94 2.06-2.06.94zm10 10l.94 2.06.94-2.06 2.06-.94-2.06-.94-.94-2.06-.94 2.06-2.06.94z\"/><path d=\"M17.41 7.96l-1.37-1.37c-.4-.4-.92-.59-1.43-.59-.52 0-1.04.2-1.43.59L10.3 9.45l-7.72 7.72c-.78.78-.78 2.05 0 2.83L4 21.41c.39.39.9.59 1.41.59.51 0 1.02-.2 1.41-.59l7.78-7.78 2.81-2.81c.8-.78.8-2.07 0-2.86zM5.41 20L4 18.59l7.72-7.72 1.47 1.35L5.41 20z\"/>\n",
              "  </svg>\n",
              "      </button>\n",
              "      \n",
              "  <style>\n",
              "    .colab-df-container {\n",
              "      display:flex;\n",
              "      flex-wrap:wrap;\n",
              "      gap: 12px;\n",
              "    }\n",
              "\n",
              "    .colab-df-convert {\n",
              "      background-color: #E8F0FE;\n",
              "      border: none;\n",
              "      border-radius: 50%;\n",
              "      cursor: pointer;\n",
              "      display: none;\n",
              "      fill: #1967D2;\n",
              "      height: 32px;\n",
              "      padding: 0 0 0 0;\n",
              "      width: 32px;\n",
              "    }\n",
              "\n",
              "    .colab-df-convert:hover {\n",
              "      background-color: #E2EBFA;\n",
              "      box-shadow: 0px 1px 2px rgba(60, 64, 67, 0.3), 0px 1px 3px 1px rgba(60, 64, 67, 0.15);\n",
              "      fill: #174EA6;\n",
              "    }\n",
              "\n",
              "    [theme=dark] .colab-df-convert {\n",
              "      background-color: #3B4455;\n",
              "      fill: #D2E3FC;\n",
              "    }\n",
              "\n",
              "    [theme=dark] .colab-df-convert:hover {\n",
              "      background-color: #434B5C;\n",
              "      box-shadow: 0px 1px 3px 1px rgba(0, 0, 0, 0.15);\n",
              "      filter: drop-shadow(0px 1px 2px rgba(0, 0, 0, 0.3));\n",
              "      fill: #FFFFFF;\n",
              "    }\n",
              "  </style>\n",
              "\n",
              "      <script>\n",
              "        const buttonEl =\n",
              "          document.querySelector('#df-95c9cf0a-6ffa-4fd1-ba94-5c7bed9a81cf button.colab-df-convert');\n",
              "        buttonEl.style.display =\n",
              "          google.colab.kernel.accessAllowed ? 'block' : 'none';\n",
              "\n",
              "        async function convertToInteractive(key) {\n",
              "          const element = document.querySelector('#df-95c9cf0a-6ffa-4fd1-ba94-5c7bed9a81cf');\n",
              "          const dataTable =\n",
              "            await google.colab.kernel.invokeFunction('convertToInteractive',\n",
              "                                                     [key], {});\n",
              "          if (!dataTable) return;\n",
              "\n",
              "          const docLinkHtml = 'Like what you see? Visit the ' +\n",
              "            '<a target=\"_blank\" href=https://colab.research.google.com/notebooks/data_table.ipynb>data table notebook</a>'\n",
              "            + ' to learn more about interactive tables.';\n",
              "          element.innerHTML = '';\n",
              "          dataTable['output_type'] = 'display_data';\n",
              "          await google.colab.output.renderOutput(dataTable, element);\n",
              "          const docLink = document.createElement('div');\n",
              "          docLink.innerHTML = docLinkHtml;\n",
              "          element.appendChild(docLink);\n",
              "        }\n",
              "      </script>\n",
              "    </div>\n",
              "  </div>\n",
              "  "
            ]
          },
          "metadata": {},
          "execution_count": 148
        }
      ],
      "source": [
        "fake_test_df.notnull()"
      ]
    },
    {
      "cell_type": "code",
      "execution_count": 149,
      "metadata": {
        "colab": {
          "base_uri": "https://localhost:8080/"
        },
        "id": "EP3bfy7iE78i",
        "outputId": "2c7ea0d4-1732-4f42-9c2e-e18a7bc7ccea"
      },
      "outputs": [
        {
          "output_type": "stream",
          "name": "stdout",
          "text": [
            "0        the great coat brother zhu zhu wen, in the man...\n",
            "1        nasa reveals facts about ufo wreckage found on...\n",
            "2            the hollow tomatoes are loaded with hormones.\n",
            "3        ange pavilion geoshui: how accurate is matrimo...\n",
            "4        a 50-year-old bus-bus blows up an 8-year-old c...\n",
            "                               ...                        \n",
            "64105    the lead content of domestic faucet exceeds th...\n",
            "64106    in 2018, the household registration system has...\n",
            "64107    onion can not be eaten with this, serious also...\n",
            "64108    grass-root teacher salaries, the last increase...\n",
            "64109    li weijia weeping, crying, drugs? sick? see ho...\n",
            "Name: title1_en, Length: 64110, dtype: object\n"
          ]
        }
      ],
      "source": [
        "#converting strings to lowercase\n",
        "fake_test_df[\"title1_en\"] = fake_test_df[\"title1_en\"].apply(lambda x: x.lower())\n",
        "fake_test_df[\"title2_en\"] = fake_test_df[\"title2_en\"].apply(lambda x: x.lower())\n",
        "print(fake_test_df[\"title1_en\"])"
      ]
    },
    {
      "cell_type": "code",
      "execution_count": 150,
      "metadata": {
        "colab": {
          "base_uri": "https://localhost:8080/"
        },
        "id": "RhwT-4sRANWK",
        "outputId": "6176dbfd-7542-4e57-e205-89e5868b567f",
        "scrolled": true
      },
      "outputs": [
        {
          "output_type": "stream",
          "name": "stdout",
          "text": [
            "0        the great coat brother zhu zhu wen, in the man...\n",
            "1        nasa reveals facts about ufo wreckage found on...\n",
            "2            the hollow tomatoes are loaded with hormones.\n",
            "3        ange pavilion geoshui: how accurate is matrimo...\n",
            "4        a 50-year-old bus-bus blows up an 8-year-old c...\n",
            "                               ...                        \n",
            "64105    the lead content of domestic faucet exceeds th...\n",
            "64106    in 2018, the household registration system has...\n",
            "64107    onion can not be eaten with this, serious also...\n",
            "64108    grass-root teacher salaries, the last increase...\n",
            "64109    li weijia weeping, crying, drugs? sick? see ho...\n",
            "Name: title1_en, Length: 64110, dtype: object\n"
          ]
        }
      ],
      "source": [
        "#converting strings to lowercase for test data set\n",
        "fake_test_df[\"title1_en\"] = fake_test_df[\"title1_en\"].apply(lambda x: x.lower())\n",
        "fake_test_df[\"title2_en\"] = fake_test_df[\"title2_en\"].apply(lambda x: x.lower())\n",
        "print(fake_test_df[\"title1_en\"])"
      ]
    },
    {
      "cell_type": "code",
      "execution_count": 151,
      "metadata": {
        "colab": {
          "base_uri": "https://localhost:8080/"
        },
        "id": "6iTSeD5RqG_L",
        "outputId": "3980860a-a672-48cf-c25c-13bbe6f7cdae"
      },
      "outputs": [
        {
          "output_type": "stream",
          "name": "stdout",
          "text": [
            "0        lin xinsheng after the birth of \"hard milking,...\n",
            "1        the ufo found in yuancun, jiaocheng county, sh...\n",
            "2        li chenfan bingbing home photos, netizen: this...\n",
            "3        master one: the eight-character presumption of...\n",
            "4        < i > joe johnson's disgruntled timing and ord...\n",
            "                               ...                        \n",
            "64105    the multi-brand faucet is overtaxed, who is en...\n",
            "64106    in 2018, the household registration system wil...\n",
            "64107    onion can not eat with this, serious also can ...\n",
            "64108    teachers wage reform, there will be these thre...\n",
            "64109    li weijia on the hot air, netizens: li weijia ...\n",
            "Name: title2_en, Length: 64110, dtype: object\n"
          ]
        }
      ],
      "source": [
        "print(fake_test_df[\"title2_en\"])"
      ]
    },
    {
      "cell_type": "code",
      "execution_count": 152,
      "metadata": {
        "colab": {
          "base_uri": "https://localhost:8080/"
        },
        "id": "pB5oD0fRRhKW",
        "outputId": "722acf65-3a9b-4abd-a9d1-3df60e0526a9"
      },
      "outputs": [
        {
          "output_type": "stream",
          "name": "stdout",
          "text": [
            "{'again', 'below', 'shouldn', 'herself', 'don', 'were', 'been', 'haven', \"you've\", \"it's\", 'wouldn', 'before', 'being', 'he', 'but', 'who', 'here', 'hasn', \"wasn't\", \"she's\", 'between', 'me', 'my', 'yourself', 'from', 'than', \"should've\", 'theirs', 'himself', \"don't\", 'hadn', 'did', 'this', 'through', 'you', 'over', 'just', 'm', 'hers', 'ain', 'myself', 'be', 'ours', 'for', \"couldn't\", \"hasn't\", \"you're\", 'during', 'can', 'had', 'some', 'is', 'further', \"that'll\", 'those', 'have', 've', 'i', 'once', 'these', 'few', \"you'll\", 're', 'mustn', 'very', 'they', 'them', 't', 'in', 'own', 'his', 'then', \"shouldn't\", 'all', 'her', 'shan', 'only', 'aren', 'against', 'where', \"didn't\", 'isn', 'on', 'of', 'we', 'down', 'how', 'should', 'was', 'same', \"hadn't\", 'needn', 'has', \"wouldn't\", 'any', 'ourselves', 'a', 'and', 'off', 'am', 'out', 'to', 'as', 'or', 'their', 'it', \"weren't\", \"won't\", 'with', 'into', 'themselves', 'does', 'd', 'him', 'she', 'under', 'more', 'because', 'no', 'an', 'itself', 'why', 'what', 'now', \"isn't\", 'too', 'there', 'that', 'ma', 'will', \"mustn't\", 'couldn', 'weren', 'so', 'most', 'didn', 'mightn', 'its', 'while', 'at', 'the', 'such', 'after', 'until', 'above', \"aren't\", 'by', 'other', 'if', 'doesn', 'yourselves', 'each', 'when', 'won', \"shan't\", 'yours', \"you'd\", 'both', 'whom', 'about', 'our', 'doing', 'o', \"haven't\", 'y', 'wasn', \"mightn't\", \"doesn't\", 'having', 'll', 'which', 'do', \"needn't\", 'nor', 's', 'your', 'not', 'up', 'are'}\n"
          ]
        },
        {
          "output_type": "stream",
          "name": "stderr",
          "text": [
            "[nltk_data] Downloading package stopwords to /root/nltk_data...\n",
            "[nltk_data]   Package stopwords is already up-to-date!\n"
          ]
        },
        {
          "output_type": "stream",
          "name": "stdout",
          "text": [
            "                                                title1_en  \\\n",
            "0       There two new old-age insurance benefits old p...   \n",
            "1       \"If come Shenzhen, sooner later son also come....   \n",
            "2       \"If come Shenzhen, sooner later son also come....   \n",
            "3       \"If come Shenzhen, sooner later son also come....   \n",
            "4       \"If come Shenzhen, sooner later son also come....   \n",
            "...                                                   ...   \n",
            "256437  egypt 's presidential election failed win mill...   \n",
            "256438  egypt 's presidential election failed win mill...   \n",
            "256439  egypt 's presidential election failed win mill...   \n",
            "256440  egypt 's presidential election failed win mill...   \n",
            "256441  Will United States wage war Iraq without destr...   \n",
            "\n",
            "                                                title2_en  \n",
            "0       Police disprove \"bird's nest congress person g...  \n",
            "1       Shenzhen's GDP outstrips Hong Kong? Shenzhen S...  \n",
            "2       The GDP overtopped Hong Kong? Shenzhen clarifi...  \n",
            "3       Shenzhen's GDP overtakes Hong Kong? Bureau Sta...  \n",
            "4       Shenzhen's GDP outpaces Hong Kong? Defending R...  \n",
            "...                                                   ...  \n",
            "256437  Salah retiring? Football Association officials...  \n",
            "256438  Liverpool's bid Little Germany? The Echo's dis...  \n",
            "256439  West Media Exposing Tallahlach recommended Bar...  \n",
            "256440                 Rumor Egypt united differences us.  \n",
            "256441  Saddam's daughter refutes rumors: no. 2 Saddam...  \n",
            "\n",
            "[256442 rows x 2 columns]\n"
          ]
        }
      ],
      "source": [
        "#stopwords removal\n",
        "import nltk\n",
        "nltk.download('stopwords')\n",
        "from nltk.corpus import stopwords\n",
        "stop_words = set(stopwords.words('english')) \n",
        "print(stop_words)\n",
        "fake_df[\"title1_en\"] = fake_df[\"title1_en\"].apply(lambda x: ' '.join([word for word in str(x).split() if word not in (stop_words)]))\n",
        "fake_df[\"title2_en\"] = fake_df[\"title2_en\"].apply(lambda x: ' '.join([word for word in str(x).split() if word not in (stop_words)]))\n",
        "print(fake_df[[\"title1_en\", \"title2_en\"]])"
      ]
    },
    {
      "cell_type": "code",
      "execution_count": 153,
      "metadata": {
        "colab": {
          "base_uri": "https://localhost:8080/"
        },
        "id": "Q8CL6U28Cw8l",
        "outputId": "546deb16-7921-4e87-d8b6-65b7d18d5b16"
      },
      "outputs": [
        {
          "output_type": "stream",
          "name": "stdout",
          "text": [
            "                                               title1_en  \\\n",
            "0      great coat brother zhu zhu wen, mandarin love ...   \n",
            "1            nasa reveals facts ufo wreckage found moon.   \n",
            "2                       hollow tomatoes loaded hormones.   \n",
            "3      ange pavilion geoshui: accurate matrimony matc...   \n",
            "4      50-year-old bus-bus blows 8-year-old child. ru...   \n",
            "...                                                  ...   \n",
            "64105  lead content domestic faucet exceeds standard ...   \n",
            "64106  2018, household registration system changed, 3...   \n",
            "64107  onion eaten this, serious also cause eye blind...   \n",
            "64108  grass-root teacher salaries, last increase end...   \n",
            "64109  li weijia weeping, crying, drugs? sick? see re...   \n",
            "\n",
            "                                               title2_en  \n",
            "0      lin xinsheng birth \"hard milking,\" huo jianhua...  \n",
            "1      ufo found yuancun, jiaocheng county, shanxi, s...  \n",
            "2      li chenfan bingbing home photos, netizen: call...  \n",
            "3      master one: eight-character presumption marria...  \n",
            "4      < > joe johnson's disgruntled timing order myt...  \n",
            "...                                                  ...  \n",
            "64105  multi-brand faucet overtaxed, endangering drin...  \n",
            "64106  2018, household registration system changed, t...  \n",
            "64107  onion eat this, serious also cause eyesight bl...  \n",
            "64108  teachers wage reform, three changes, wages fin...  \n",
            "64109  li weijia hot air, netizens: li weijia ho chi ...  \n",
            "\n",
            "[64110 rows x 2 columns]\n"
          ]
        }
      ],
      "source": [
        "#stopwords removal for test dataset\n",
        "fake_test_df[\"title1_en\"] = fake_test_df[\"title1_en\"].apply(lambda x: ' '.join([word for word in str(x).split() if word not in (stop_words)]))\n",
        "fake_test_df[\"title2_en\"] = fake_test_df[\"title2_en\"].apply(lambda x: ' '.join([word for word in str(x).split() if word not in (stop_words)]))\n",
        "print(fake_test_df[[\"title1_en\", \"title2_en\"]])"
      ]
    },
    {
      "cell_type": "code",
      "execution_count": 154,
      "metadata": {
        "colab": {
          "base_uri": "https://localhost:8080/"
        },
        "id": "V7Sh4MU0RmWR",
        "outputId": "5ad04f25-c005-4e40-f5cb-f8dbeee09de0"
      },
      "outputs": [
        {
          "output_type": "stream",
          "name": "stdout",
          "text": [
            "                                                title1_en  \\\n",
            "0       There two new oldage insurance benefits old pe...   \n",
            "1       If come Shenzhen sooner later son also come In...   \n",
            "2       If come Shenzhen sooner later son also come In...   \n",
            "3       If come Shenzhen sooner later son also come In...   \n",
            "4       If come Shenzhen sooner later son also come In...   \n",
            "...                                                   ...   \n",
            "256437  egypt s presidential election failed win milli...   \n",
            "256438  egypt s presidential election failed win milli...   \n",
            "256439  egypt s presidential election failed win milli...   \n",
            "256440  egypt s presidential election failed win milli...   \n",
            "256441  Will United States wage war Iraq without destr...   \n",
            "\n",
            "                                                title2_en  \n",
            "0       Police disprove birds nest congress person get...  \n",
            "1       Shenzhens GDP outstrips Hong Kong Shenzhen Sta...  \n",
            "2       The GDP overtopped Hong Kong Shenzhen clarifie...  \n",
            "3       Shenzhens GDP overtakes Hong Kong Bureau Stati...  \n",
            "4       Shenzhens GDP outpaces Hong Kong Defending Rum...  \n",
            "...                                                   ...  \n",
            "256437  Salah retiring Football Association officials ...  \n",
            "256438  Liverpools bid Little Germany The Echos discla...  \n",
            "256439  West Media Exposing Tallahlach recommended Bar...  \n",
            "256440                  Rumor Egypt united differences us  \n",
            "256441  Saddams daughter refutes rumors no 2 Saddams r...  \n",
            "\n",
            "[256442 rows x 2 columns]\n"
          ]
        }
      ],
      "source": [
        "#punctuation removal\n",
        "import string\n",
        "string.punctuation\n",
        "fake_df[\"title1_en\"] = fake_df[\"title1_en\"].apply(lambda x: ''.join([word for word in str(x) if word not in (string.punctuation)]))\n",
        "fake_df[\"title2_en\"] = fake_df[\"title2_en\"].apply(lambda x: ''.join([word for word in str(x) if word not in (string.punctuation)]))\n",
        "print(fake_df[[\"title1_en\", \"title2_en\"]])"
      ]
    },
    {
      "cell_type": "code",
      "execution_count": 155,
      "metadata": {
        "colab": {
          "base_uri": "https://localhost:8080/"
        },
        "id": "wT_s54P5DClf",
        "outputId": "f306f4a8-1c32-41da-9070-46e505cc0fc1"
      },
      "outputs": [
        {
          "output_type": "stream",
          "name": "stdout",
          "text": [
            "                                               title1_en  \\\n",
            "0      great coat brother zhu zhu wen mandarin love s...   \n",
            "1             nasa reveals facts ufo wreckage found moon   \n",
            "2                        hollow tomatoes loaded hormones   \n",
            "3      ange pavilion geoshui accurate matrimony match...   \n",
            "4      50yearold busbus blows 8yearold child rumors r...   \n",
            "...                                                  ...   \n",
            "64105  lead content domestic faucet exceeds standard ...   \n",
            "64106  2018 household registration system changed 3 t...   \n",
            "64107  onion eaten this serious also cause eye blindn...   \n",
            "64108  grassroot teacher salaries last increase end y...   \n",
            "64109   li weijia weeping crying drugs sick see responds   \n",
            "\n",
            "                                               title2_en  \n",
            "0      lin xinsheng birth hard milking huo jianhua se...  \n",
            "1      ufo found yuancun jiaocheng county shanxi shoc...  \n",
            "2      li chenfan bingbing home photos netizen called...  \n",
            "3      master one eightcharacter presumption marriage...  \n",
            "4          joe johnsons disgruntled timing order myth     \n",
            "...                                                  ...  \n",
            "64105  multibrand faucet overtaxed endangering drinki...  \n",
            "64106  2018 household registration system changed thr...  \n",
            "64107  onion eat this serious also cause eyesight bli...  \n",
            "64108  teachers wage reform three changes wages final...  \n",
            "64109  li weijia hot air netizens li weijia ho chi to...  \n",
            "\n",
            "[64110 rows x 2 columns]\n"
          ]
        }
      ],
      "source": [
        "#punctuation removal for test dataset\n",
        "fake_test_df[\"title1_en\"] = fake_test_df[\"title1_en\"].apply(lambda x: ''.join([word for word in str(x) if word not in (string.punctuation)]))\n",
        "fake_test_df[\"title2_en\"] = fake_test_df[\"title2_en\"].apply(lambda x: ''.join([word for word in str(x) if word not in (string.punctuation)]))\n",
        "print(fake_test_df[[\"title1_en\", \"title2_en\"]])"
      ]
    },
    {
      "cell_type": "code",
      "execution_count": 156,
      "metadata": {
        "colab": {
          "base_uri": "https://localhost:8080/"
        },
        "id": "79EQjRu0RpA9",
        "outputId": "30fb379a-baec-4350-d5b3-0e1f292def0c"
      },
      "outputs": [
        {
          "output_type": "stream",
          "name": "stderr",
          "text": [
            "[nltk_data] Downloading package wordnet to /root/nltk_data...\n",
            "[nltk_data]   Package wordnet is already up-to-date!\n"
          ]
        }
      ],
      "source": [
        "#lemmatization\n",
        "nltk.download('wordnet')\n",
        "from nltk.stem import WordNetLemmatizer\n",
        "wnl = WordNetLemmatizer()\n",
        "\n",
        "fake_df[\"title1_en\"] = fake_df[\"title1_en\"].apply(lambda x: ' '.join([wnl.lemmatize(word) for word in str(x).split()]))\n",
        "fake_df[\"title2_en\"] = fake_df[\"title2_en\"].apply(lambda x: ' '.join([wnl.lemmatize(word) for word in str(x).split()]))\n"
      ]
    },
    {
      "cell_type": "code",
      "execution_count": 157,
      "metadata": {
        "colab": {
          "base_uri": "https://localhost:8080/"
        },
        "id": "QKi3u_FqRr-2",
        "outputId": "a735f137-0d23-469e-cccd-576ff90b03c8",
        "scrolled": true
      },
      "outputs": [
        {
          "output_type": "stream",
          "name": "stdout",
          "text": [
            "                                                title1_en  \\\n",
            "0       There two new oldage insurance benefit old peo...   \n",
            "1       If come Shenzhen sooner later son also come In...   \n",
            "2       If come Shenzhen sooner later son also come In...   \n",
            "3       If come Shenzhen sooner later son also come In...   \n",
            "4       If come Shenzhen sooner later son also come In...   \n",
            "...                                                   ...   \n",
            "256437  egypt s presidential election failed win milli...   \n",
            "256438  egypt s presidential election failed win milli...   \n",
            "256439  egypt s presidential election failed win milli...   \n",
            "256440  egypt s presidential election failed win milli...   \n",
            "256441  Will United States wage war Iraq without destr...   \n",
            "\n",
            "                                                title2_en  \n",
            "0       Police disprove bird nest congress person get ...  \n",
            "1       Shenzhens GDP outstrips Hong Kong Shenzhen Sta...  \n",
            "2       The GDP overtopped Hong Kong Shenzhen clarifie...  \n",
            "3       Shenzhens GDP overtakes Hong Kong Bureau Stati...  \n",
            "4       Shenzhens GDP outpaces Hong Kong Defending Rum...  \n",
            "...                                                   ...  \n",
            "256437  Salah retiring Football Association official l...  \n",
            "256438  Liverpools bid Little Germany The Echos discla...  \n",
            "256439  West Media Exposing Tallahlach recommended Bar...  \n",
            "256440                    Rumor Egypt united difference u  \n",
            "256441  Saddams daughter refutes rumor no 2 Saddams re...  \n",
            "\n",
            "[256442 rows x 2 columns]\n"
          ]
        }
      ],
      "source": [
        "print(fake_df[[\"title1_en\", \"title2_en\"]])"
      ]
    },
    {
      "cell_type": "code",
      "execution_count": 158,
      "metadata": {
        "id": "89qYrB-ED4UY",
        "scrolled": true
      },
      "outputs": [],
      "source": [
        "#applying lemmatization to test data\n",
        "fake_test_df[\"title1_en\"] = fake_test_df[\"title1_en\"].apply(lambda x: ' '.join([wnl.lemmatize(word) for word in str(x).split()]))\n",
        "fake_test_df[\"title2_en\"] = fake_test_df[\"title2_en\"].apply(lambda x: ' '.join([wnl.lemmatize(word) for word in str(x).split()]))\n"
      ]
    },
    {
      "cell_type": "code",
      "execution_count": 159,
      "metadata": {
        "colab": {
          "base_uri": "https://localhost:8080/"
        },
        "id": "752vhSweEGzV",
        "outputId": "fe2a1879-2137-4c1f-9328-235038039b12",
        "scrolled": true
      },
      "outputs": [
        {
          "output_type": "stream",
          "name": "stdout",
          "text": [
            "                                               title1_en  \\\n",
            "0      great coat brother zhu zhu wen mandarin love s...   \n",
            "1              nasa reveals fact ufo wreckage found moon   \n",
            "2                           hollow tomato loaded hormone   \n",
            "3      ange pavilion geoshui accurate matrimony match...   \n",
            "4      50yearold busbus blow 8yearold child rumor rum...   \n",
            "...                                                  ...   \n",
            "64105  lead content domestic faucet exceeds standard ...   \n",
            "64106  2018 household registration system changed 3 t...   \n",
            "64107  onion eaten this serious also cause eye blindn...   \n",
            "64108  grassroot teacher salary last increase end yea...   \n",
            "64109       li weijia weeping cry drug sick see responds   \n",
            "\n",
            "                                               title2_en  \n",
            "0      lin xinsheng birth hard milking huo jianhua se...  \n",
            "1      ufo found yuancun jiaocheng county shanxi shoc...  \n",
            "2      li chenfan bingbing home photo netizen called ...  \n",
            "3      master one eightcharacter presumption marriage...  \n",
            "4              joe johnson disgruntled timing order myth  \n",
            "...                                                  ...  \n",
            "64105  multibrand faucet overtaxed endangering drinki...  \n",
            "64106  2018 household registration system changed thr...  \n",
            "64107  onion eat this serious also cause eyesight bli...  \n",
            "64108  teacher wage reform three change wage finally ...  \n",
            "64109  li weijia hot air netizens li weijia ho chi to...  \n",
            "\n",
            "[64110 rows x 2 columns]\n"
          ]
        }
      ],
      "source": [
        "print(fake_test_df[[\"title1_en\", \"title2_en\"]])"
      ]
    },
    {
      "cell_type": "code",
      "execution_count": 160,
      "metadata": {
        "colab": {
          "base_uri": "https://localhost:8080/"
        },
        "id": "_qyJUUaIPq3q",
        "outputId": "6f3a6e94-17f2-4ad2-d301-407e815f077b",
        "scrolled": false
      },
      "outputs": [
        {
          "output_type": "stream",
          "name": "stdout",
          "text": [
            "0         There two new oldage insurance benefit old peo...\n",
            "1         If come Shenzhen sooner later son also come In...\n",
            "2         If come Shenzhen sooner later son also come In...\n",
            "3         If come Shenzhen sooner later son also come In...\n",
            "4         If come Shenzhen sooner later son also come In...\n",
            "                                ...                        \n",
            "256437    egypt s presidential election failed win milli...\n",
            "256438    egypt s presidential election failed win milli...\n",
            "256439    egypt s presidential election failed win milli...\n",
            "256440    egypt s presidential election failed win milli...\n",
            "256441    Will United States wage war Iraq without destr...\n",
            "Name: com_title, Length: 256442, dtype: object\n"
          ]
        }
      ],
      "source": [
        "#combining title 1 and title 2\n",
        "fake_df[\"com_title\"] = fake_df[\"title1_en\"] + fake_df[\"title2_en\"]\n",
        "print(fake_df[\"com_title\"])"
      ]
    },
    {
      "cell_type": "code",
      "execution_count": 161,
      "metadata": {
        "colab": {
          "base_uri": "https://localhost:8080/"
        },
        "id": "-QdG08l8EbAK",
        "outputId": "dd0906a6-822c-4fac-fed0-7e750106984a",
        "scrolled": true
      },
      "outputs": [
        {
          "output_type": "stream",
          "name": "stdout",
          "text": [
            "0        great coat brother zhu zhu wen mandarin love s...\n",
            "1        nasa reveals fact ufo wreckage found moonufo f...\n",
            "2        hollow tomato loaded hormoneli chenfan bingbin...\n",
            "3        ange pavilion geoshui accurate matrimony match...\n",
            "4        50yearold busbus blow 8yearold child rumor rum...\n",
            "                               ...                        \n",
            "64105    lead content domestic faucet exceeds standard ...\n",
            "64106    2018 household registration system changed 3 t...\n",
            "64107    onion eaten this serious also cause eye blindn...\n",
            "64108    grassroot teacher salary last increase end yea...\n",
            "64109    li weijia weeping cry drug sick see respondsli...\n",
            "Name: com_title, Length: 64110, dtype: object\n"
          ]
        }
      ],
      "source": [
        "#combining title 1 and title 2 for test dataset\n",
        "fake_test_df[\"com_title\"] = fake_test_df[\"title1_en\"] + fake_test_df[\"title2_en\"]\n",
        "print(fake_test_df[\"com_title\"])"
      ]
    },
    {
      "cell_type": "code",
      "execution_count": 162,
      "metadata": {
        "colab": {
          "base_uri": "https://localhost:8080/"
        },
        "id": "jBJ1mDSVupBU",
        "outputId": "cc5a1b68-8c7b-411e-bf80-35b83868b268",
        "scrolled": true
      },
      "outputs": [
        {
          "output_type": "stream",
          "name": "stdout",
          "text": [
            "0         unrelated\n",
            "1         unrelated\n",
            "2         unrelated\n",
            "3         unrelated\n",
            "4         unrelated\n",
            "            ...    \n",
            "256437    unrelated\n",
            "256438    unrelated\n",
            "256439    unrelated\n",
            "256440    unrelated\n",
            "256441    unrelated\n",
            "Name: label, Length: 256442, dtype: object\n"
          ]
        }
      ],
      "source": [
        "print(fake_df[\"label\"])"
      ]
    },
    {
      "cell_type": "code",
      "execution_count": 163,
      "metadata": {
        "id": "n2J7H3qcsVTs"
      },
      "outputs": [],
      "source": [
        "one_hot_fake_df = pd.get_dummies(fake_df, columns = ['label'])"
      ]
    },
    {
      "cell_type": "code",
      "execution_count": 164,
      "metadata": {
        "colab": {
          "base_uri": "https://localhost:8080/",
          "height": 1000
        },
        "id": "oqLpgNx51AGc",
        "outputId": "1d0e8a1f-68f8-4dee-d02a-166ac9b26757"
      },
      "outputs": [
        {
          "output_type": "execute_result",
          "data": {
            "text/plain": [
              "            id    tid1    tid2  \\\n",
              "0       195611       0       1   \n",
              "1       191474       2       3   \n",
              "2        25300       2       4   \n",
              "3       123757       2       8   \n",
              "4       141761       2      11   \n",
              "...        ...     ...     ...   \n",
              "256437  113364  167562   48447   \n",
              "256438   49407  167562   49795   \n",
              "256439  130134  167562  114783   \n",
              "256440  101494  167562  137705   \n",
              "256441   89356  167563   66480   \n",
              "\n",
              "                                                title1_en  \\\n",
              "0       There two new oldage insurance benefit old peo...   \n",
              "1       If come Shenzhen sooner later son also come In...   \n",
              "2       If come Shenzhen sooner later son also come In...   \n",
              "3       If come Shenzhen sooner later son also come In...   \n",
              "4       If come Shenzhen sooner later son also come In...   \n",
              "...                                                   ...   \n",
              "256437  egypt s presidential election failed win milli...   \n",
              "256438  egypt s presidential election failed win milli...   \n",
              "256439  egypt s presidential election failed win milli...   \n",
              "256440  egypt s presidential election failed win milli...   \n",
              "256441  Will United States wage war Iraq without destr...   \n",
              "\n",
              "                                                title2_en  \\\n",
              "0       Police disprove bird nest congress person get ...   \n",
              "1       Shenzhens GDP outstrips Hong Kong Shenzhen Sta...   \n",
              "2       The GDP overtopped Hong Kong Shenzhen clarifie...   \n",
              "3       Shenzhens GDP overtakes Hong Kong Bureau Stati...   \n",
              "4       Shenzhens GDP outpaces Hong Kong Defending Rum...   \n",
              "...                                                   ...   \n",
              "256437  Salah retiring Football Association official l...   \n",
              "256438  Liverpools bid Little Germany The Echos discla...   \n",
              "256439  West Media Exposing Tallahlach recommended Bar...   \n",
              "256440                    Rumor Egypt united difference u   \n",
              "256441  Saddams daughter refutes rumor no 2 Saddams re...   \n",
              "\n",
              "                                                com_title  label_agreed  \\\n",
              "0       There two new oldage insurance benefit old peo...             0   \n",
              "1       If come Shenzhen sooner later son also come In...             0   \n",
              "2       If come Shenzhen sooner later son also come In...             0   \n",
              "3       If come Shenzhen sooner later son also come In...             0   \n",
              "4       If come Shenzhen sooner later son also come In...             0   \n",
              "...                                                   ...           ...   \n",
              "256437  egypt s presidential election failed win milli...             0   \n",
              "256438  egypt s presidential election failed win milli...             0   \n",
              "256439  egypt s presidential election failed win milli...             0   \n",
              "256440  egypt s presidential election failed win milli...             0   \n",
              "256441  Will United States wage war Iraq without destr...             0   \n",
              "\n",
              "        label_disagreed  label_unrelated  \n",
              "0                     0                1  \n",
              "1                     0                1  \n",
              "2                     0                1  \n",
              "3                     0                1  \n",
              "4                     0                1  \n",
              "...                 ...              ...  \n",
              "256437                0                1  \n",
              "256438                0                1  \n",
              "256439                0                1  \n",
              "256440                0                1  \n",
              "256441                0                1  \n",
              "\n",
              "[256442 rows x 9 columns]"
            ],
            "text/html": [
              "\n",
              "  <div id=\"df-5cd84a91-50a2-4628-9339-a4cc6cd7eced\">\n",
              "    <div class=\"colab-df-container\">\n",
              "      <div>\n",
              "<style scoped>\n",
              "    .dataframe tbody tr th:only-of-type {\n",
              "        vertical-align: middle;\n",
              "    }\n",
              "\n",
              "    .dataframe tbody tr th {\n",
              "        vertical-align: top;\n",
              "    }\n",
              "\n",
              "    .dataframe thead th {\n",
              "        text-align: right;\n",
              "    }\n",
              "</style>\n",
              "<table border=\"1\" class=\"dataframe\">\n",
              "  <thead>\n",
              "    <tr style=\"text-align: right;\">\n",
              "      <th></th>\n",
              "      <th>id</th>\n",
              "      <th>tid1</th>\n",
              "      <th>tid2</th>\n",
              "      <th>title1_en</th>\n",
              "      <th>title2_en</th>\n",
              "      <th>com_title</th>\n",
              "      <th>label_agreed</th>\n",
              "      <th>label_disagreed</th>\n",
              "      <th>label_unrelated</th>\n",
              "    </tr>\n",
              "  </thead>\n",
              "  <tbody>\n",
              "    <tr>\n",
              "      <th>0</th>\n",
              "      <td>195611</td>\n",
              "      <td>0</td>\n",
              "      <td>1</td>\n",
              "      <td>There two new oldage insurance benefit old peo...</td>\n",
              "      <td>Police disprove bird nest congress person get ...</td>\n",
              "      <td>There two new oldage insurance benefit old peo...</td>\n",
              "      <td>0</td>\n",
              "      <td>0</td>\n",
              "      <td>1</td>\n",
              "    </tr>\n",
              "    <tr>\n",
              "      <th>1</th>\n",
              "      <td>191474</td>\n",
              "      <td>2</td>\n",
              "      <td>3</td>\n",
              "      <td>If come Shenzhen sooner later son also come In...</td>\n",
              "      <td>Shenzhens GDP outstrips Hong Kong Shenzhen Sta...</td>\n",
              "      <td>If come Shenzhen sooner later son also come In...</td>\n",
              "      <td>0</td>\n",
              "      <td>0</td>\n",
              "      <td>1</td>\n",
              "    </tr>\n",
              "    <tr>\n",
              "      <th>2</th>\n",
              "      <td>25300</td>\n",
              "      <td>2</td>\n",
              "      <td>4</td>\n",
              "      <td>If come Shenzhen sooner later son also come In...</td>\n",
              "      <td>The GDP overtopped Hong Kong Shenzhen clarifie...</td>\n",
              "      <td>If come Shenzhen sooner later son also come In...</td>\n",
              "      <td>0</td>\n",
              "      <td>0</td>\n",
              "      <td>1</td>\n",
              "    </tr>\n",
              "    <tr>\n",
              "      <th>3</th>\n",
              "      <td>123757</td>\n",
              "      <td>2</td>\n",
              "      <td>8</td>\n",
              "      <td>If come Shenzhen sooner later son also come In...</td>\n",
              "      <td>Shenzhens GDP overtakes Hong Kong Bureau Stati...</td>\n",
              "      <td>If come Shenzhen sooner later son also come In...</td>\n",
              "      <td>0</td>\n",
              "      <td>0</td>\n",
              "      <td>1</td>\n",
              "    </tr>\n",
              "    <tr>\n",
              "      <th>4</th>\n",
              "      <td>141761</td>\n",
              "      <td>2</td>\n",
              "      <td>11</td>\n",
              "      <td>If come Shenzhen sooner later son also come In...</td>\n",
              "      <td>Shenzhens GDP outpaces Hong Kong Defending Rum...</td>\n",
              "      <td>If come Shenzhen sooner later son also come In...</td>\n",
              "      <td>0</td>\n",
              "      <td>0</td>\n",
              "      <td>1</td>\n",
              "    </tr>\n",
              "    <tr>\n",
              "      <th>...</th>\n",
              "      <td>...</td>\n",
              "      <td>...</td>\n",
              "      <td>...</td>\n",
              "      <td>...</td>\n",
              "      <td>...</td>\n",
              "      <td>...</td>\n",
              "      <td>...</td>\n",
              "      <td>...</td>\n",
              "      <td>...</td>\n",
              "    </tr>\n",
              "    <tr>\n",
              "      <th>256437</th>\n",
              "      <td>113364</td>\n",
              "      <td>167562</td>\n",
              "      <td>48447</td>\n",
              "      <td>egypt s presidential election failed win milli...</td>\n",
              "      <td>Salah retiring Football Association official l...</td>\n",
              "      <td>egypt s presidential election failed win milli...</td>\n",
              "      <td>0</td>\n",
              "      <td>0</td>\n",
              "      <td>1</td>\n",
              "    </tr>\n",
              "    <tr>\n",
              "      <th>256438</th>\n",
              "      <td>49407</td>\n",
              "      <td>167562</td>\n",
              "      <td>49795</td>\n",
              "      <td>egypt s presidential election failed win milli...</td>\n",
              "      <td>Liverpools bid Little Germany The Echos discla...</td>\n",
              "      <td>egypt s presidential election failed win milli...</td>\n",
              "      <td>0</td>\n",
              "      <td>0</td>\n",
              "      <td>1</td>\n",
              "    </tr>\n",
              "    <tr>\n",
              "      <th>256439</th>\n",
              "      <td>130134</td>\n",
              "      <td>167562</td>\n",
              "      <td>114783</td>\n",
              "      <td>egypt s presidential election failed win milli...</td>\n",
              "      <td>West Media Exposing Tallahlach recommended Bar...</td>\n",
              "      <td>egypt s presidential election failed win milli...</td>\n",
              "      <td>0</td>\n",
              "      <td>0</td>\n",
              "      <td>1</td>\n",
              "    </tr>\n",
              "    <tr>\n",
              "      <th>256440</th>\n",
              "      <td>101494</td>\n",
              "      <td>167562</td>\n",
              "      <td>137705</td>\n",
              "      <td>egypt s presidential election failed win milli...</td>\n",
              "      <td>Rumor Egypt united difference u</td>\n",
              "      <td>egypt s presidential election failed win milli...</td>\n",
              "      <td>0</td>\n",
              "      <td>0</td>\n",
              "      <td>1</td>\n",
              "    </tr>\n",
              "    <tr>\n",
              "      <th>256441</th>\n",
              "      <td>89356</td>\n",
              "      <td>167563</td>\n",
              "      <td>66480</td>\n",
              "      <td>Will United States wage war Iraq without destr...</td>\n",
              "      <td>Saddams daughter refutes rumor no 2 Saddams re...</td>\n",
              "      <td>Will United States wage war Iraq without destr...</td>\n",
              "      <td>0</td>\n",
              "      <td>0</td>\n",
              "      <td>1</td>\n",
              "    </tr>\n",
              "  </tbody>\n",
              "</table>\n",
              "<p>256442 rows × 9 columns</p>\n",
              "</div>\n",
              "      <button class=\"colab-df-convert\" onclick=\"convertToInteractive('df-5cd84a91-50a2-4628-9339-a4cc6cd7eced')\"\n",
              "              title=\"Convert this dataframe to an interactive table.\"\n",
              "              style=\"display:none;\">\n",
              "        \n",
              "  <svg xmlns=\"http://www.w3.org/2000/svg\" height=\"24px\"viewBox=\"0 0 24 24\"\n",
              "       width=\"24px\">\n",
              "    <path d=\"M0 0h24v24H0V0z\" fill=\"none\"/>\n",
              "    <path d=\"M18.56 5.44l.94 2.06.94-2.06 2.06-.94-2.06-.94-.94-2.06-.94 2.06-2.06.94zm-11 1L8.5 8.5l.94-2.06 2.06-.94-2.06-.94L8.5 2.5l-.94 2.06-2.06.94zm10 10l.94 2.06.94-2.06 2.06-.94-2.06-.94-.94-2.06-.94 2.06-2.06.94z\"/><path d=\"M17.41 7.96l-1.37-1.37c-.4-.4-.92-.59-1.43-.59-.52 0-1.04.2-1.43.59L10.3 9.45l-7.72 7.72c-.78.78-.78 2.05 0 2.83L4 21.41c.39.39.9.59 1.41.59.51 0 1.02-.2 1.41-.59l7.78-7.78 2.81-2.81c.8-.78.8-2.07 0-2.86zM5.41 20L4 18.59l7.72-7.72 1.47 1.35L5.41 20z\"/>\n",
              "  </svg>\n",
              "      </button>\n",
              "      \n",
              "  <style>\n",
              "    .colab-df-container {\n",
              "      display:flex;\n",
              "      flex-wrap:wrap;\n",
              "      gap: 12px;\n",
              "    }\n",
              "\n",
              "    .colab-df-convert {\n",
              "      background-color: #E8F0FE;\n",
              "      border: none;\n",
              "      border-radius: 50%;\n",
              "      cursor: pointer;\n",
              "      display: none;\n",
              "      fill: #1967D2;\n",
              "      height: 32px;\n",
              "      padding: 0 0 0 0;\n",
              "      width: 32px;\n",
              "    }\n",
              "\n",
              "    .colab-df-convert:hover {\n",
              "      background-color: #E2EBFA;\n",
              "      box-shadow: 0px 1px 2px rgba(60, 64, 67, 0.3), 0px 1px 3px 1px rgba(60, 64, 67, 0.15);\n",
              "      fill: #174EA6;\n",
              "    }\n",
              "\n",
              "    [theme=dark] .colab-df-convert {\n",
              "      background-color: #3B4455;\n",
              "      fill: #D2E3FC;\n",
              "    }\n",
              "\n",
              "    [theme=dark] .colab-df-convert:hover {\n",
              "      background-color: #434B5C;\n",
              "      box-shadow: 0px 1px 3px 1px rgba(0, 0, 0, 0.15);\n",
              "      filter: drop-shadow(0px 1px 2px rgba(0, 0, 0, 0.3));\n",
              "      fill: #FFFFFF;\n",
              "    }\n",
              "  </style>\n",
              "\n",
              "      <script>\n",
              "        const buttonEl =\n",
              "          document.querySelector('#df-5cd84a91-50a2-4628-9339-a4cc6cd7eced button.colab-df-convert');\n",
              "        buttonEl.style.display =\n",
              "          google.colab.kernel.accessAllowed ? 'block' : 'none';\n",
              "\n",
              "        async function convertToInteractive(key) {\n",
              "          const element = document.querySelector('#df-5cd84a91-50a2-4628-9339-a4cc6cd7eced');\n",
              "          const dataTable =\n",
              "            await google.colab.kernel.invokeFunction('convertToInteractive',\n",
              "                                                     [key], {});\n",
              "          if (!dataTable) return;\n",
              "\n",
              "          const docLinkHtml = 'Like what you see? Visit the ' +\n",
              "            '<a target=\"_blank\" href=https://colab.research.google.com/notebooks/data_table.ipynb>data table notebook</a>'\n",
              "            + ' to learn more about interactive tables.';\n",
              "          element.innerHTML = '';\n",
              "          dataTable['output_type'] = 'display_data';\n",
              "          await google.colab.output.renderOutput(dataTable, element);\n",
              "          const docLink = document.createElement('div');\n",
              "          docLink.innerHTML = docLinkHtml;\n",
              "          element.appendChild(docLink);\n",
              "        }\n",
              "      </script>\n",
              "    </div>\n",
              "  </div>\n",
              "  "
            ]
          },
          "metadata": {},
          "execution_count": 164
        }
      ],
      "source": [
        "one_hot_fake_df"
      ]
    },
    {
      "cell_type": "code",
      "execution_count": 165,
      "metadata": {
        "id": "ZXBQTqNNspqy"
      },
      "outputs": [],
      "source": [
        "#splitting dataset into training and validation set\n",
        "xTrain, xVal1, yTrain, yVal1 = train_test_split(one_hot_fake_df[[\"com_title\"]], one_hot_fake_df[[\"label_agreed\", \"label_disagreed\", \"label_unrelated\"]], test_size = 0.3, shuffle = True)"
      ]
    },
    {
      "cell_type": "code",
      "execution_count": 166,
      "metadata": {
        "colab": {
          "base_uri": "https://localhost:8080/",
          "height": 424
        },
        "id": "1JtVR72VDkLn",
        "outputId": "e44faabc-7556-42c6-b370-2657bc066060"
      },
      "outputs": [
        {
          "output_type": "execute_result",
          "data": {
            "text/plain": [
              "        label_agreed  label_disagreed  label_unrelated\n",
              "243678             0                0                1\n",
              "123393             0                0                1\n",
              "86897              0                0                1\n",
              "49811              0                0                1\n",
              "66962              1                0                0\n",
              "...              ...              ...              ...\n",
              "200119             0                0                1\n",
              "133953             0                0                1\n",
              "75877              0                0                1\n",
              "204889             0                0                1\n",
              "2759               0                0                1\n",
              "\n",
              "[179509 rows x 3 columns]"
            ],
            "text/html": [
              "\n",
              "  <div id=\"df-847dfd40-9883-43ff-87e7-c1bbaa1ee9d9\">\n",
              "    <div class=\"colab-df-container\">\n",
              "      <div>\n",
              "<style scoped>\n",
              "    .dataframe tbody tr th:only-of-type {\n",
              "        vertical-align: middle;\n",
              "    }\n",
              "\n",
              "    .dataframe tbody tr th {\n",
              "        vertical-align: top;\n",
              "    }\n",
              "\n",
              "    .dataframe thead th {\n",
              "        text-align: right;\n",
              "    }\n",
              "</style>\n",
              "<table border=\"1\" class=\"dataframe\">\n",
              "  <thead>\n",
              "    <tr style=\"text-align: right;\">\n",
              "      <th></th>\n",
              "      <th>label_agreed</th>\n",
              "      <th>label_disagreed</th>\n",
              "      <th>label_unrelated</th>\n",
              "    </tr>\n",
              "  </thead>\n",
              "  <tbody>\n",
              "    <tr>\n",
              "      <th>243678</th>\n",
              "      <td>0</td>\n",
              "      <td>0</td>\n",
              "      <td>1</td>\n",
              "    </tr>\n",
              "    <tr>\n",
              "      <th>123393</th>\n",
              "      <td>0</td>\n",
              "      <td>0</td>\n",
              "      <td>1</td>\n",
              "    </tr>\n",
              "    <tr>\n",
              "      <th>86897</th>\n",
              "      <td>0</td>\n",
              "      <td>0</td>\n",
              "      <td>1</td>\n",
              "    </tr>\n",
              "    <tr>\n",
              "      <th>49811</th>\n",
              "      <td>0</td>\n",
              "      <td>0</td>\n",
              "      <td>1</td>\n",
              "    </tr>\n",
              "    <tr>\n",
              "      <th>66962</th>\n",
              "      <td>1</td>\n",
              "      <td>0</td>\n",
              "      <td>0</td>\n",
              "    </tr>\n",
              "    <tr>\n",
              "      <th>...</th>\n",
              "      <td>...</td>\n",
              "      <td>...</td>\n",
              "      <td>...</td>\n",
              "    </tr>\n",
              "    <tr>\n",
              "      <th>200119</th>\n",
              "      <td>0</td>\n",
              "      <td>0</td>\n",
              "      <td>1</td>\n",
              "    </tr>\n",
              "    <tr>\n",
              "      <th>133953</th>\n",
              "      <td>0</td>\n",
              "      <td>0</td>\n",
              "      <td>1</td>\n",
              "    </tr>\n",
              "    <tr>\n",
              "      <th>75877</th>\n",
              "      <td>0</td>\n",
              "      <td>0</td>\n",
              "      <td>1</td>\n",
              "    </tr>\n",
              "    <tr>\n",
              "      <th>204889</th>\n",
              "      <td>0</td>\n",
              "      <td>0</td>\n",
              "      <td>1</td>\n",
              "    </tr>\n",
              "    <tr>\n",
              "      <th>2759</th>\n",
              "      <td>0</td>\n",
              "      <td>0</td>\n",
              "      <td>1</td>\n",
              "    </tr>\n",
              "  </tbody>\n",
              "</table>\n",
              "<p>179509 rows × 3 columns</p>\n",
              "</div>\n",
              "      <button class=\"colab-df-convert\" onclick=\"convertToInteractive('df-847dfd40-9883-43ff-87e7-c1bbaa1ee9d9')\"\n",
              "              title=\"Convert this dataframe to an interactive table.\"\n",
              "              style=\"display:none;\">\n",
              "        \n",
              "  <svg xmlns=\"http://www.w3.org/2000/svg\" height=\"24px\"viewBox=\"0 0 24 24\"\n",
              "       width=\"24px\">\n",
              "    <path d=\"M0 0h24v24H0V0z\" fill=\"none\"/>\n",
              "    <path d=\"M18.56 5.44l.94 2.06.94-2.06 2.06-.94-2.06-.94-.94-2.06-.94 2.06-2.06.94zm-11 1L8.5 8.5l.94-2.06 2.06-.94-2.06-.94L8.5 2.5l-.94 2.06-2.06.94zm10 10l.94 2.06.94-2.06 2.06-.94-2.06-.94-.94-2.06-.94 2.06-2.06.94z\"/><path d=\"M17.41 7.96l-1.37-1.37c-.4-.4-.92-.59-1.43-.59-.52 0-1.04.2-1.43.59L10.3 9.45l-7.72 7.72c-.78.78-.78 2.05 0 2.83L4 21.41c.39.39.9.59 1.41.59.51 0 1.02-.2 1.41-.59l7.78-7.78 2.81-2.81c.8-.78.8-2.07 0-2.86zM5.41 20L4 18.59l7.72-7.72 1.47 1.35L5.41 20z\"/>\n",
              "  </svg>\n",
              "      </button>\n",
              "      \n",
              "  <style>\n",
              "    .colab-df-container {\n",
              "      display:flex;\n",
              "      flex-wrap:wrap;\n",
              "      gap: 12px;\n",
              "    }\n",
              "\n",
              "    .colab-df-convert {\n",
              "      background-color: #E8F0FE;\n",
              "      border: none;\n",
              "      border-radius: 50%;\n",
              "      cursor: pointer;\n",
              "      display: none;\n",
              "      fill: #1967D2;\n",
              "      height: 32px;\n",
              "      padding: 0 0 0 0;\n",
              "      width: 32px;\n",
              "    }\n",
              "\n",
              "    .colab-df-convert:hover {\n",
              "      background-color: #E2EBFA;\n",
              "      box-shadow: 0px 1px 2px rgba(60, 64, 67, 0.3), 0px 1px 3px 1px rgba(60, 64, 67, 0.15);\n",
              "      fill: #174EA6;\n",
              "    }\n",
              "\n",
              "    [theme=dark] .colab-df-convert {\n",
              "      background-color: #3B4455;\n",
              "      fill: #D2E3FC;\n",
              "    }\n",
              "\n",
              "    [theme=dark] .colab-df-convert:hover {\n",
              "      background-color: #434B5C;\n",
              "      box-shadow: 0px 1px 3px 1px rgba(0, 0, 0, 0.15);\n",
              "      filter: drop-shadow(0px 1px 2px rgba(0, 0, 0, 0.3));\n",
              "      fill: #FFFFFF;\n",
              "    }\n",
              "  </style>\n",
              "\n",
              "      <script>\n",
              "        const buttonEl =\n",
              "          document.querySelector('#df-847dfd40-9883-43ff-87e7-c1bbaa1ee9d9 button.colab-df-convert');\n",
              "        buttonEl.style.display =\n",
              "          google.colab.kernel.accessAllowed ? 'block' : 'none';\n",
              "\n",
              "        async function convertToInteractive(key) {\n",
              "          const element = document.querySelector('#df-847dfd40-9883-43ff-87e7-c1bbaa1ee9d9');\n",
              "          const dataTable =\n",
              "            await google.colab.kernel.invokeFunction('convertToInteractive',\n",
              "                                                     [key], {});\n",
              "          if (!dataTable) return;\n",
              "\n",
              "          const docLinkHtml = 'Like what you see? Visit the ' +\n",
              "            '<a target=\"_blank\" href=https://colab.research.google.com/notebooks/data_table.ipynb>data table notebook</a>'\n",
              "            + ' to learn more about interactive tables.';\n",
              "          element.innerHTML = '';\n",
              "          dataTable['output_type'] = 'display_data';\n",
              "          await google.colab.output.renderOutput(dataTable, element);\n",
              "          const docLink = document.createElement('div');\n",
              "          docLink.innerHTML = docLinkHtml;\n",
              "          element.appendChild(docLink);\n",
              "        }\n",
              "      </script>\n",
              "    </div>\n",
              "  </div>\n",
              "  "
            ]
          },
          "metadata": {},
          "execution_count": 166
        }
      ],
      "source": [
        "yTrain"
      ]
    },
    {
      "cell_type": "code",
      "execution_count": 167,
      "metadata": {
        "id": "sSM8bu7u6Nsi"
      },
      "outputs": [],
      "source": [
        "#Bag of words\n",
        "from sklearn.feature_extraction.text import CountVectorizer"
      ]
    },
    {
      "cell_type": "code",
      "execution_count": 168,
      "metadata": {
        "colab": {
          "base_uri": "https://localhost:8080/"
        },
        "id": "opErOnyi6jVi",
        "outputId": "00753f5c-826a-4ac0-8664-4197ed5c9b26"
      },
      "outputs": [
        {
          "output_type": "execute_result",
          "data": {
            "text/plain": [
              "(179509, 1)"
            ]
          },
          "metadata": {},
          "execution_count": 168
        }
      ],
      "source": [
        "xTrain.shape"
      ]
    },
    {
      "cell_type": "code",
      "execution_count": 169,
      "metadata": {
        "colab": {
          "base_uri": "https://localhost:8080/"
        },
        "id": "Z0I_vHO16jVk",
        "outputId": "b8ab6947-760b-4818-fcca-1a22c4683972"
      },
      "outputs": [
        {
          "output_type": "execute_result",
          "data": {
            "text/plain": [
              "(179509, 147975)"
            ]
          },
          "metadata": {},
          "execution_count": 169
        }
      ],
      "source": [
        "countVect = CountVectorizer()\n",
        "x_train1_counts = countVect.fit_transform(xTrain.iloc[:,0])\n",
        "x_train1_counts.shape"
      ]
    },
    {
      "cell_type": "code",
      "execution_count": 170,
      "metadata": {
        "colab": {
          "base_uri": "https://localhost:8080/"
        },
        "id": "D3X5aW6u6jVl",
        "outputId": "fad1f073-f037-41e8-8e23-2043e1ad8574"
      },
      "outputs": [
        {
          "output_type": "execute_result",
          "data": {
            "text/plain": [
              "<179509x147975 sparse matrix of type '<class 'numpy.int64'>'\n",
              "\twith 3191755 stored elements in Compressed Sparse Row format>"
            ]
          },
          "metadata": {},
          "execution_count": 170
        }
      ],
      "source": [
        "x_train1_counts"
      ]
    },
    {
      "cell_type": "code",
      "execution_count": 171,
      "metadata": {
        "colab": {
          "base_uri": "https://localhost:8080/"
        },
        "id": "e449FiG46jVl",
        "outputId": "cad3643b-f772-458d-8421-d16e2935e509"
      },
      "outputs": [
        {
          "output_type": "execute_result",
          "data": {
            "text/plain": [
              "7502"
            ]
          },
          "metadata": {},
          "execution_count": 171
        }
      ],
      "source": [
        "countVect.vocabulary_.get(u'algorithm')"
      ]
    },
    {
      "cell_type": "code",
      "execution_count": 172,
      "metadata": {
        "colab": {
          "base_uri": "https://localhost:8080/"
        },
        "id": "AHhpx-968Gi-",
        "outputId": "a5c508c3-f1eb-40fe-b392-4134f7e9dd8d"
      },
      "outputs": [
        {
          "output_type": "execute_result",
          "data": {
            "text/plain": [
              "(179509, 147975)"
            ]
          },
          "metadata": {},
          "execution_count": 172
        }
      ],
      "source": [
        "#tf-idf\n",
        "from sklearn.feature_extraction.text import TfidfTransformer\n",
        "\n",
        "tf_id_df1 = TfidfTransformer()\n",
        "xTrain1_tf_id_df = tf_id_df1.fit_transform(x_train1_counts)\n",
        "\n",
        "xTrain1_tf_id_df.shape"
      ]
    },
    {
      "cell_type": "code",
      "execution_count": 173,
      "metadata": {
        "colab": {
          "base_uri": "https://localhost:8080/",
          "height": 424
        },
        "id": "zl_Z-uasGPAH",
        "outputId": "c0eb7c05-cd9b-45e2-a2d0-6ea4f2bdb471"
      },
      "outputs": [
        {
          "output_type": "execute_result",
          "data": {
            "text/plain": [
              "        label_agreed  label_disagreed  label_unrelated\n",
              "243678             0                0                1\n",
              "123393             0                0                1\n",
              "86897              0                0                1\n",
              "49811              0                0                1\n",
              "66962              1                0                0\n",
              "...              ...              ...              ...\n",
              "200119             0                0                1\n",
              "133953             0                0                1\n",
              "75877              0                0                1\n",
              "204889             0                0                1\n",
              "2759               0                0                1\n",
              "\n",
              "[179509 rows x 3 columns]"
            ],
            "text/html": [
              "\n",
              "  <div id=\"df-5b54d4c1-8776-4b5e-ac64-928efc1e7e5a\">\n",
              "    <div class=\"colab-df-container\">\n",
              "      <div>\n",
              "<style scoped>\n",
              "    .dataframe tbody tr th:only-of-type {\n",
              "        vertical-align: middle;\n",
              "    }\n",
              "\n",
              "    .dataframe tbody tr th {\n",
              "        vertical-align: top;\n",
              "    }\n",
              "\n",
              "    .dataframe thead th {\n",
              "        text-align: right;\n",
              "    }\n",
              "</style>\n",
              "<table border=\"1\" class=\"dataframe\">\n",
              "  <thead>\n",
              "    <tr style=\"text-align: right;\">\n",
              "      <th></th>\n",
              "      <th>label_agreed</th>\n",
              "      <th>label_disagreed</th>\n",
              "      <th>label_unrelated</th>\n",
              "    </tr>\n",
              "  </thead>\n",
              "  <tbody>\n",
              "    <tr>\n",
              "      <th>243678</th>\n",
              "      <td>0</td>\n",
              "      <td>0</td>\n",
              "      <td>1</td>\n",
              "    </tr>\n",
              "    <tr>\n",
              "      <th>123393</th>\n",
              "      <td>0</td>\n",
              "      <td>0</td>\n",
              "      <td>1</td>\n",
              "    </tr>\n",
              "    <tr>\n",
              "      <th>86897</th>\n",
              "      <td>0</td>\n",
              "      <td>0</td>\n",
              "      <td>1</td>\n",
              "    </tr>\n",
              "    <tr>\n",
              "      <th>49811</th>\n",
              "      <td>0</td>\n",
              "      <td>0</td>\n",
              "      <td>1</td>\n",
              "    </tr>\n",
              "    <tr>\n",
              "      <th>66962</th>\n",
              "      <td>1</td>\n",
              "      <td>0</td>\n",
              "      <td>0</td>\n",
              "    </tr>\n",
              "    <tr>\n",
              "      <th>...</th>\n",
              "      <td>...</td>\n",
              "      <td>...</td>\n",
              "      <td>...</td>\n",
              "    </tr>\n",
              "    <tr>\n",
              "      <th>200119</th>\n",
              "      <td>0</td>\n",
              "      <td>0</td>\n",
              "      <td>1</td>\n",
              "    </tr>\n",
              "    <tr>\n",
              "      <th>133953</th>\n",
              "      <td>0</td>\n",
              "      <td>0</td>\n",
              "      <td>1</td>\n",
              "    </tr>\n",
              "    <tr>\n",
              "      <th>75877</th>\n",
              "      <td>0</td>\n",
              "      <td>0</td>\n",
              "      <td>1</td>\n",
              "    </tr>\n",
              "    <tr>\n",
              "      <th>204889</th>\n",
              "      <td>0</td>\n",
              "      <td>0</td>\n",
              "      <td>1</td>\n",
              "    </tr>\n",
              "    <tr>\n",
              "      <th>2759</th>\n",
              "      <td>0</td>\n",
              "      <td>0</td>\n",
              "      <td>1</td>\n",
              "    </tr>\n",
              "  </tbody>\n",
              "</table>\n",
              "<p>179509 rows × 3 columns</p>\n",
              "</div>\n",
              "      <button class=\"colab-df-convert\" onclick=\"convertToInteractive('df-5b54d4c1-8776-4b5e-ac64-928efc1e7e5a')\"\n",
              "              title=\"Convert this dataframe to an interactive table.\"\n",
              "              style=\"display:none;\">\n",
              "        \n",
              "  <svg xmlns=\"http://www.w3.org/2000/svg\" height=\"24px\"viewBox=\"0 0 24 24\"\n",
              "       width=\"24px\">\n",
              "    <path d=\"M0 0h24v24H0V0z\" fill=\"none\"/>\n",
              "    <path d=\"M18.56 5.44l.94 2.06.94-2.06 2.06-.94-2.06-.94-.94-2.06-.94 2.06-2.06.94zm-11 1L8.5 8.5l.94-2.06 2.06-.94-2.06-.94L8.5 2.5l-.94 2.06-2.06.94zm10 10l.94 2.06.94-2.06 2.06-.94-2.06-.94-.94-2.06-.94 2.06-2.06.94z\"/><path d=\"M17.41 7.96l-1.37-1.37c-.4-.4-.92-.59-1.43-.59-.52 0-1.04.2-1.43.59L10.3 9.45l-7.72 7.72c-.78.78-.78 2.05 0 2.83L4 21.41c.39.39.9.59 1.41.59.51 0 1.02-.2 1.41-.59l7.78-7.78 2.81-2.81c.8-.78.8-2.07 0-2.86zM5.41 20L4 18.59l7.72-7.72 1.47 1.35L5.41 20z\"/>\n",
              "  </svg>\n",
              "      </button>\n",
              "      \n",
              "  <style>\n",
              "    .colab-df-container {\n",
              "      display:flex;\n",
              "      flex-wrap:wrap;\n",
              "      gap: 12px;\n",
              "    }\n",
              "\n",
              "    .colab-df-convert {\n",
              "      background-color: #E8F0FE;\n",
              "      border: none;\n",
              "      border-radius: 50%;\n",
              "      cursor: pointer;\n",
              "      display: none;\n",
              "      fill: #1967D2;\n",
              "      height: 32px;\n",
              "      padding: 0 0 0 0;\n",
              "      width: 32px;\n",
              "    }\n",
              "\n",
              "    .colab-df-convert:hover {\n",
              "      background-color: #E2EBFA;\n",
              "      box-shadow: 0px 1px 2px rgba(60, 64, 67, 0.3), 0px 1px 3px 1px rgba(60, 64, 67, 0.15);\n",
              "      fill: #174EA6;\n",
              "    }\n",
              "\n",
              "    [theme=dark] .colab-df-convert {\n",
              "      background-color: #3B4455;\n",
              "      fill: #D2E3FC;\n",
              "    }\n",
              "\n",
              "    [theme=dark] .colab-df-convert:hover {\n",
              "      background-color: #434B5C;\n",
              "      box-shadow: 0px 1px 3px 1px rgba(0, 0, 0, 0.15);\n",
              "      filter: drop-shadow(0px 1px 2px rgba(0, 0, 0, 0.3));\n",
              "      fill: #FFFFFF;\n",
              "    }\n",
              "  </style>\n",
              "\n",
              "      <script>\n",
              "        const buttonEl =\n",
              "          document.querySelector('#df-5b54d4c1-8776-4b5e-ac64-928efc1e7e5a button.colab-df-convert');\n",
              "        buttonEl.style.display =\n",
              "          google.colab.kernel.accessAllowed ? 'block' : 'none';\n",
              "\n",
              "        async function convertToInteractive(key) {\n",
              "          const element = document.querySelector('#df-5b54d4c1-8776-4b5e-ac64-928efc1e7e5a');\n",
              "          const dataTable =\n",
              "            await google.colab.kernel.invokeFunction('convertToInteractive',\n",
              "                                                     [key], {});\n",
              "          if (!dataTable) return;\n",
              "\n",
              "          const docLinkHtml = 'Like what you see? Visit the ' +\n",
              "            '<a target=\"_blank\" href=https://colab.research.google.com/notebooks/data_table.ipynb>data table notebook</a>'\n",
              "            + ' to learn more about interactive tables.';\n",
              "          element.innerHTML = '';\n",
              "          dataTable['output_type'] = 'display_data';\n",
              "          await google.colab.output.renderOutput(dataTable, element);\n",
              "          const docLink = document.createElement('div');\n",
              "          docLink.innerHTML = docLinkHtml;\n",
              "          element.appendChild(docLink);\n",
              "        }\n",
              "      </script>\n",
              "    </div>\n",
              "  </div>\n",
              "  "
            ]
          },
          "metadata": {},
          "execution_count": 173
        }
      ],
      "source": [
        "yTrain"
      ]
    },
    {
      "cell_type": "code",
      "execution_count": 174,
      "metadata": {
        "id": "8rQKV-pxGB6P",
        "scrolled": false
      },
      "outputs": [],
      "source": [
        "yTrain = yTrain.apply(lambda x: x.argmax(), axis=1).values"
      ]
    },
    {
      "cell_type": "code",
      "execution_count": 175,
      "metadata": {
        "colab": {
          "base_uri": "https://localhost:8080/"
        },
        "id": "weoxMNI4jhMD",
        "outputId": "4773abcc-aa3b-4226-df89-f5dd1bc3a91c"
      },
      "outputs": [
        {
          "output_type": "execute_result",
          "data": {
            "text/plain": [
              "array([2, 2, 2, ..., 2, 2, 2])"
            ]
          },
          "metadata": {},
          "execution_count": 175
        }
      ],
      "source": [
        "yTrain"
      ]
    },
    {
      "cell_type": "code",
      "execution_count": 176,
      "metadata": {
        "colab": {
          "base_uri": "https://localhost:8080/"
        },
        "id": "fG86oP3t7o-9",
        "outputId": "d3aac6a6-075a-4db5-ed94-8a37b8d2034f"
      },
      "outputs": [
        {
          "output_type": "stream",
          "name": "stdout",
          "text": [
            "                                                com_title\n",
            "107219  Eat three kind fruit frequently eat lower chol...\n",
            "226631  Wang Jianlin inner speech exposure 2018 profit...\n",
            "127542  Make sure make referral community hospital go ...\n",
            "252992  Toxicity tip tongue Talygornia catapula Bracke...\n",
            "85550   Rural housing reconstruction planning 2018 per...\n",
            "...                                                   ...\n",
            "142056  Police Someone pretending famous doctor steal ...\n",
            "78144   Institution reform new regulation people raise...\n",
            "70752   China Sky Eye top world US foreign medium say ...\n",
            "7182    The mobile point 2017 going wiped out Those al...\n",
            "214224  Failure draw pension per month affect annual i...\n",
            "\n",
            "[76933 rows x 1 columns]\n"
          ]
        }
      ],
      "source": [
        "#label 0 - agreed\n",
        "#label 1 - disagreed\n",
        "#label 2 - unrelated\n",
        "#Training a naive bayes classifier on training dataset\n",
        "from sklearn.naive_bayes import MultinomialNB\n",
        "nb1 = MultinomialNB().fit(xTrain1_tf_id_df, yTrain)\n",
        "print(xVal1)"
      ]
    },
    {
      "cell_type": "code",
      "execution_count": 177,
      "metadata": {
        "colab": {
          "base_uri": "https://localhost:8080/"
        },
        "id": "81tS0tXI7o-_",
        "outputId": "d3227318-0885-464d-8a5f-0d324167b52a"
      },
      "outputs": [
        {
          "output_type": "stream",
          "name": "stdout",
          "text": [
            "(76933, 147975)\n",
            "[2 0 2 ... 2 2 2]\n"
          ]
        }
      ],
      "source": [
        "x_val1_counts = countVect.transform(xVal1.iloc[:,0])\n",
        "x_val1_tfidf = tf_id_df1.transform(x_val1_counts)\n",
        "pred = nb1.predict(x_val1_tfidf)\n",
        "print(x_val1_counts.shape)\n",
        "print(pred)"
      ]
    },
    {
      "cell_type": "code",
      "execution_count": 178,
      "metadata": {
        "id": "wG7VcAyHHFim"
      },
      "outputs": [],
      "source": [
        "yVal1 = yVal1.apply(lambda x: x.argmax(), axis=1).values"
      ]
    },
    {
      "cell_type": "code",
      "execution_count": 179,
      "metadata": {
        "colab": {
          "base_uri": "https://localhost:8080/"
        },
        "id": "WFhIL7fR7o_A",
        "outputId": "4126f701-74fd-44ad-c8b0-fa866d4699c7"
      },
      "outputs": [
        {
          "output_type": "execute_result",
          "data": {
            "text/plain": [
              "0.7323775232994943"
            ]
          },
          "metadata": {},
          "execution_count": 179
        }
      ],
      "source": [
        "#calculate accuracy\n",
        "from sklearn.metrics import accuracy_score\n",
        "accu_score1 = accuracy_score(yVal1, pred)\n",
        "accu_score1"
      ]
    },
    {
      "cell_type": "code",
      "execution_count": 180,
      "metadata": {
        "colab": {
          "base_uri": "https://localhost:8080/"
        },
        "id": "HAv7Q5S77o_B",
        "outputId": "9d33e183-4807-4f1c-add4-ec3161365d35"
      },
      "outputs": [
        {
          "output_type": "execute_result",
          "data": {
            "text/plain": [
              "array([[ 4462,     0, 17794],\n",
              "       [    3,    12,  2054],\n",
              "       [  738,     0, 51870]])"
            ]
          },
          "metadata": {},
          "execution_count": 180
        }
      ],
      "source": [
        "#confusion matrix\n",
        "from sklearn import metrics\n",
        "\n",
        "metrics.confusion_matrix(yVal1, pred)"
      ]
    },
    {
      "cell_type": "code",
      "execution_count": 181,
      "metadata": {
        "colab": {
          "base_uri": "https://localhost:8080/"
        },
        "id": "Tz8IVHJ37o_C",
        "outputId": "c1eff341-b7e3-405a-ffc3-8333687c7d33"
      },
      "outputs": [
        {
          "output_type": "stream",
          "name": "stdout",
          "text": [
            "              precision    recall  f1-score   support\n",
            "\n",
            "           0       0.86      0.20      0.32     22256\n",
            "           1       1.00      0.01      0.01      2069\n",
            "           2       0.72      0.99      0.83     52608\n",
            "\n",
            "    accuracy                           0.73     76933\n",
            "   macro avg       0.86      0.40      0.39     76933\n",
            "weighted avg       0.77      0.73      0.66     76933\n",
            "\n"
          ]
        }
      ],
      "source": [
        "print(metrics.classification_report(list(yVal1), list(pred)))"
      ]
    },
    {
      "cell_type": "code",
      "execution_count": 182,
      "metadata": {
        "colab": {
          "base_uri": "https://localhost:8080/"
        },
        "id": "kQukYuQe7o_D",
        "outputId": "f3d0692f-ed37-4404-d51b-2c0a6f38e532"
      },
      "outputs": [
        {
          "output_type": "execute_result",
          "data": {
            "text/plain": [
              "array([0.72366442, 0.72221603, 0.72280096, 0.72452788, 0.7234896 ])"
            ]
          },
          "metadata": {},
          "execution_count": 182
        }
      ],
      "source": [
        "from sklearn.model_selection import cross_val_score\n",
        "\n",
        "accu = cross_val_score(nb1, xTrain1_tf_id_df, yTrain.ravel(), scoring = 'accuracy', cv = 5)\n",
        "accu"
      ]
    },
    {
      "cell_type": "code",
      "execution_count": 183,
      "metadata": {
        "id": "yPMEw9UlKeGb"
      },
      "outputs": [],
      "source": [
        "from sklearn.linear_model import SGDClassifier\n",
        "svm1 = SGDClassifier(loss='hinge', penalty='l2', alpha=1e-3, random_state=42, max_iter=5, tol=None).fit(xTrain1_tf_id_df, yTrain.ravel())"
      ]
    },
    {
      "cell_type": "code",
      "execution_count": 184,
      "metadata": {
        "colab": {
          "base_uri": "https://localhost:8080/"
        },
        "id": "hLn4-C1mKeGd",
        "outputId": "c8b77914-b4a8-415f-9610-035e1c291c45"
      },
      "outputs": [
        {
          "output_type": "stream",
          "name": "stdout",
          "text": [
            "[2 2 2 ... 2 2 2]\n"
          ]
        }
      ],
      "source": [
        "#predicting using SGD model for dataset \n",
        "predict2 = svm1.predict(x_val1_tfidf)\n",
        "print(predict2)"
      ]
    },
    {
      "cell_type": "code",
      "execution_count": 185,
      "metadata": {
        "colab": {
          "base_uri": "https://localhost:8080/"
        },
        "id": "w8KE5zPZKeGd",
        "outputId": "07ceaa9b-fc92-4432-8e2e-1dec1b4e72aa"
      },
      "outputs": [
        {
          "output_type": "execute_result",
          "data": {
            "text/plain": [
              "0.6838157877633785"
            ]
          },
          "metadata": {},
          "execution_count": 185
        }
      ],
      "source": [
        "accu_score2 = accuracy_score(yVal1, predict2)\n",
        "accu_score2"
      ]
    },
    {
      "cell_type": "code",
      "execution_count": 186,
      "metadata": {
        "colab": {
          "base_uri": "https://localhost:8080/"
        },
        "id": "hDTjicmAKeGe",
        "outputId": "82e63a6d-1730-4bf2-c1d5-b9db15d84904"
      },
      "outputs": [
        {
          "output_type": "execute_result",
          "data": {
            "text/plain": [
              "array([[    0,     0, 22256],\n",
              "       [    0,     0,  2069],\n",
              "       [    0,     0, 52608]])"
            ]
          },
          "metadata": {},
          "execution_count": 186
        }
      ],
      "source": [
        "#confusion matrix\n",
        "\n",
        "metrics.confusion_matrix(yVal1, predict2)"
      ]
    },
    {
      "cell_type": "code",
      "execution_count": 187,
      "metadata": {
        "colab": {
          "base_uri": "https://localhost:8080/"
        },
        "id": "HoqJcJr8KeGe",
        "outputId": "a4249e38-7338-42fb-bb3f-2d2dd42d5806"
      },
      "outputs": [
        {
          "output_type": "stream",
          "name": "stdout",
          "text": [
            "              precision    recall  f1-score   support\n",
            "\n",
            "           0       0.00      0.00      0.00     22256\n",
            "           1       0.00      0.00      0.00      2069\n",
            "           2       0.68      1.00      0.81     52608\n",
            "\n",
            "    accuracy                           0.68     76933\n",
            "   macro avg       0.23      0.33      0.27     76933\n",
            "weighted avg       0.47      0.68      0.56     76933\n",
            "\n"
          ]
        },
        {
          "output_type": "stream",
          "name": "stderr",
          "text": [
            "/usr/local/lib/python3.9/dist-packages/sklearn/metrics/_classification.py:1344: UndefinedMetricWarning: Precision and F-score are ill-defined and being set to 0.0 in labels with no predicted samples. Use `zero_division` parameter to control this behavior.\n",
            "  _warn_prf(average, modifier, msg_start, len(result))\n",
            "/usr/local/lib/python3.9/dist-packages/sklearn/metrics/_classification.py:1344: UndefinedMetricWarning: Precision and F-score are ill-defined and being set to 0.0 in labels with no predicted samples. Use `zero_division` parameter to control this behavior.\n",
            "  _warn_prf(average, modifier, msg_start, len(result))\n",
            "/usr/local/lib/python3.9/dist-packages/sklearn/metrics/_classification.py:1344: UndefinedMetricWarning: Precision and F-score are ill-defined and being set to 0.0 in labels with no predicted samples. Use `zero_division` parameter to control this behavior.\n",
            "  _warn_prf(average, modifier, msg_start, len(result))\n"
          ]
        }
      ],
      "source": [
        "print(metrics.classification_report(list(yVal1), list(predict2)))"
      ]
    },
    {
      "cell_type": "code",
      "execution_count": 188,
      "metadata": {
        "colab": {
          "base_uri": "https://localhost:8080/"
        },
        "id": "IGjiW4b2KeGf",
        "outputId": "d5b3f159-cead-4bcd-9e18-633e03e6edb8"
      },
      "outputs": [
        {
          "output_type": "execute_result",
          "data": {
            "text/plain": [
              "array([0.68514289, 0.68514289, 0.68514289, 0.68514289, 0.68516197])"
            ]
          },
          "metadata": {},
          "execution_count": 188
        }
      ],
      "source": [
        "from sklearn.model_selection import cross_val_score\n",
        "#accu2 = cross_val_score(svm, x_val_tfidf, y_val.ravel(), scoring = 'accuracy', cv = 5)\n",
        "accu2 = cross_val_score(svm1, xTrain1_tf_id_df, yTrain.ravel(), scoring = 'accuracy', cv = 5)\n",
        "accu2"
      ]
    },
    {
      "cell_type": "code",
      "execution_count": 189,
      "metadata": {
        "colab": {
          "base_uri": "https://localhost:8080/"
        },
        "id": "6Qp3MfBWKeGf",
        "outputId": "39a31e53-2716-4ee2-dc8a-d005aaab53c6"
      },
      "outputs": [
        {
          "output_type": "stream",
          "name": "stdout",
          "text": [
            "[LibLinear][2 0 2 ... 2 2 2]\n"
          ]
        }
      ],
      "source": [
        "#Logistic Regression\n",
        "from sklearn.linear_model import LogisticRegression\n",
        "#lr = LogisticRegression(verbose=1, solver = 'liblinear', random_state=0, C=5, penalty='l2',max_iter=1000).fit(x_train_tfidf, y_train)\n",
        "lr1 = LogisticRegression(verbose=1, solver = 'liblinear', random_state=0, C=5, penalty='l2',max_iter=1000).fit(xTrain1_tf_id_df, yTrain.ravel())\n",
        "#predicting using SVM model for dataset \n",
        "predict3 = lr1.predict(x_val1_tfidf)\n",
        "print(predict3)"
      ]
    },
    {
      "cell_type": "code",
      "execution_count": 190,
      "metadata": {
        "colab": {
          "base_uri": "https://localhost:8080/"
        },
        "id": "0yPGfEz_KeGg",
        "outputId": "64230140-8722-4b41-8e7e-083e32fd8cb6"
      },
      "outputs": [
        {
          "output_type": "execute_result",
          "data": {
            "text/plain": [
              "0.8081837442969857"
            ]
          },
          "metadata": {},
          "execution_count": 190
        }
      ],
      "source": [
        "accu_score3 = accuracy_score(yVal1, predict3)\n",
        "accu_score3"
      ]
    },
    {
      "cell_type": "code",
      "execution_count": 191,
      "metadata": {
        "colab": {
          "base_uri": "https://localhost:8080/"
        },
        "id": "N9anFcppKeGg",
        "outputId": "7193e36b-21c5-450e-c38f-1d0d220dac1a"
      },
      "outputs": [
        {
          "output_type": "execute_result",
          "data": {
            "text/plain": [
              "array([[13998,    23,  8235],\n",
              "       [   66,   425,  1578],\n",
              "       [ 4775,    80, 47753]])"
            ]
          },
          "metadata": {},
          "execution_count": 191
        }
      ],
      "source": [
        "metrics.confusion_matrix(yVal1, predict3)"
      ]
    },
    {
      "cell_type": "code",
      "execution_count": 192,
      "metadata": {
        "colab": {
          "base_uri": "https://localhost:8080/"
        },
        "id": "BbR7XU0-KeGh",
        "outputId": "84b977ff-aa60-4e73-d1a6-404340692b00"
      },
      "outputs": [
        {
          "output_type": "stream",
          "name": "stdout",
          "text": [
            "              precision    recall  f1-score   support\n",
            "\n",
            "           0       0.74      0.63      0.68     22256\n",
            "           1       0.80      0.21      0.33      2069\n",
            "           2       0.83      0.91      0.87     52608\n",
            "\n",
            "    accuracy                           0.81     76933\n",
            "   macro avg       0.79      0.58      0.63     76933\n",
            "weighted avg       0.80      0.81      0.80     76933\n",
            "\n"
          ]
        }
      ],
      "source": [
        "print(metrics.classification_report(list(yVal1), list(predict3)))"
      ]
    },
    {
      "cell_type": "code",
      "execution_count": 193,
      "metadata": {
        "colab": {
          "base_uri": "https://localhost:8080/"
        },
        "id": "WjmDe1RqKeGh",
        "outputId": "dbab0315-170d-4a1f-b6bd-94957b82c5a1"
      },
      "outputs": [
        {
          "output_type": "stream",
          "name": "stdout",
          "text": [
            "[LibLinear][LibLinear][LibLinear][LibLinear][LibLinear]"
          ]
        },
        {
          "output_type": "execute_result",
          "data": {
            "text/plain": [
              "array([0.80260153, 0.80098602, 0.80349284, 0.79981617, 0.80379377])"
            ]
          },
          "metadata": {},
          "execution_count": 193
        }
      ],
      "source": [
        "from sklearn.model_selection import cross_val_score\n",
        "accu3 = cross_val_score(lr1, xTrain1_tf_id_df, yTrain.ravel(), scoring = 'accuracy', cv = 5)\n",
        "accu3"
      ]
    },
    {
      "cell_type": "code",
      "execution_count": 194,
      "metadata": {
        "colab": {
          "base_uri": "https://localhost:8080/"
        },
        "id": "QA341PtgKeGh",
        "outputId": "995d0613-557d-4490-db5d-da3df8932278"
      },
      "outputs": [
        {
          "output_type": "stream",
          "name": "stdout",
          "text": [
            "[2 2 2 ... 2 2 2]\n"
          ]
        }
      ],
      "source": [
        "#Ramdom Forest\n",
        "from sklearn.ensemble import RandomForestClassifier\n",
        "rf1 = RandomForestClassifier(max_depth = 2, random_state = 0).fit(xTrain1_tf_id_df, yTrain.ravel())\n",
        "predict4 = rf1.predict(x_val1_tfidf)\n",
        "print(predict4)"
      ]
    },
    {
      "cell_type": "code",
      "execution_count": 195,
      "metadata": {
        "colab": {
          "base_uri": "https://localhost:8080/"
        },
        "id": "v9qUnR1IKeGi",
        "outputId": "ac2c8b04-9601-4674-9e51-d0ca2b8aae38"
      },
      "outputs": [
        {
          "output_type": "execute_result",
          "data": {
            "text/plain": [
              "array([[    0,     0, 22256],\n",
              "       [    0,     0,  2069],\n",
              "       [    0,     0, 52608]])"
            ]
          },
          "metadata": {},
          "execution_count": 195
        }
      ],
      "source": [
        "metrics.confusion_matrix(yVal1, predict4)"
      ]
    },
    {
      "cell_type": "code",
      "execution_count": 196,
      "metadata": {
        "colab": {
          "base_uri": "https://localhost:8080/"
        },
        "id": "ZSBZqSocKeGi",
        "outputId": "b27ef3c1-8f9c-449e-e1d3-443f4c182880"
      },
      "outputs": [
        {
          "output_type": "execute_result",
          "data": {
            "text/plain": [
              "0.6838157877633785"
            ]
          },
          "metadata": {},
          "execution_count": 196
        }
      ],
      "source": [
        "accu_score4 = accuracy_score(yVal1, predict4)\n",
        "accu_score4"
      ]
    },
    {
      "cell_type": "code",
      "execution_count": 197,
      "metadata": {
        "colab": {
          "base_uri": "https://localhost:8080/"
        },
        "id": "KhcEyHxNKeGi",
        "outputId": "c6c625ea-a56a-4345-b4be-f5663fea6241"
      },
      "outputs": [
        {
          "output_type": "stream",
          "name": "stdout",
          "text": [
            "              precision    recall  f1-score   support\n",
            "\n",
            "           0       0.00      0.00      0.00     22256\n",
            "           1       0.00      0.00      0.00      2069\n",
            "           2       0.68      1.00      0.81     52608\n",
            "\n",
            "    accuracy                           0.68     76933\n",
            "   macro avg       0.23      0.33      0.27     76933\n",
            "weighted avg       0.47      0.68      0.56     76933\n",
            "\n"
          ]
        },
        {
          "output_type": "stream",
          "name": "stderr",
          "text": [
            "/usr/local/lib/python3.9/dist-packages/sklearn/metrics/_classification.py:1344: UndefinedMetricWarning: Precision and F-score are ill-defined and being set to 0.0 in labels with no predicted samples. Use `zero_division` parameter to control this behavior.\n",
            "  _warn_prf(average, modifier, msg_start, len(result))\n",
            "/usr/local/lib/python3.9/dist-packages/sklearn/metrics/_classification.py:1344: UndefinedMetricWarning: Precision and F-score are ill-defined and being set to 0.0 in labels with no predicted samples. Use `zero_division` parameter to control this behavior.\n",
            "  _warn_prf(average, modifier, msg_start, len(result))\n",
            "/usr/local/lib/python3.9/dist-packages/sklearn/metrics/_classification.py:1344: UndefinedMetricWarning: Precision and F-score are ill-defined and being set to 0.0 in labels with no predicted samples. Use `zero_division` parameter to control this behavior.\n",
            "  _warn_prf(average, modifier, msg_start, len(result))\n"
          ]
        }
      ],
      "source": [
        "print(metrics.classification_report(list(yVal1), list(predict4)))"
      ]
    },
    {
      "cell_type": "code",
      "execution_count": 198,
      "metadata": {
        "colab": {
          "base_uri": "https://localhost:8080/"
        },
        "id": "LSpMzOYqKeGj",
        "outputId": "3c86c55d-b107-4798-cf76-c3f69a237965"
      },
      "outputs": [
        {
          "output_type": "execute_result",
          "data": {
            "text/plain": [
              "array([0.68514289, 0.68514289, 0.68514289, 0.68514289, 0.68516197])"
            ]
          },
          "metadata": {},
          "execution_count": 198
        }
      ],
      "source": [
        "accu4 = cross_val_score(rf1, xTrain1_tf_id_df, yTrain.ravel(), scoring = 'accuracy', cv = 5)\n",
        "accu4"
      ]
    },
    {
      "cell_type": "code",
      "execution_count": 199,
      "metadata": {
        "colab": {
          "base_uri": "https://localhost:8080/"
        },
        "id": "SyZYwh44KeGj",
        "outputId": "11d3177a-e40d-413a-f6e9-ec58b2b8bab4"
      },
      "outputs": [
        {
          "output_type": "stream",
          "name": "stdout",
          "text": [
            "[2 0 2 ... 2 2 2]\n"
          ]
        }
      ],
      "source": [
        "#Support Vector Classifier\n",
        "from sklearn.svm import LinearSVC\n",
        "svc1 = LinearSVC(random_state = 0).fit(xTrain1_tf_id_df, yTrain.ravel())\n",
        "predict5 = svc1.predict(x_val1_tfidf)\n",
        "print(predict5)"
      ]
    },
    {
      "cell_type": "code",
      "execution_count": 200,
      "metadata": {
        "colab": {
          "base_uri": "https://localhost:8080/"
        },
        "id": "0Q08zV7AKeGj",
        "outputId": "33d958de-2715-4868-8498-694ef7f0c565"
      },
      "outputs": [
        {
          "output_type": "execute_result",
          "data": {
            "text/plain": [
              "0.8150858539248437"
            ]
          },
          "metadata": {},
          "execution_count": 200
        }
      ],
      "source": [
        "accu_score5 = accuracy_score(yVal1, predict5)\n",
        "accu_score5"
      ]
    },
    {
      "cell_type": "code",
      "execution_count": 201,
      "metadata": {
        "colab": {
          "base_uri": "https://localhost:8080/"
        },
        "id": "zqAgiSFeKeGk",
        "outputId": "0fe18654-c5d9-460f-f971-5d7d5e273626"
      },
      "outputs": [
        {
          "output_type": "execute_result",
          "data": {
            "text/plain": [
              "array([0.80892429, 0.80689098, 0.80806083, 0.80499694, 0.80819476])"
            ]
          },
          "metadata": {},
          "execution_count": 201
        }
      ],
      "source": [
        "accu5 = cross_val_score(svc1, xTrain1_tf_id_df, yTrain.ravel(), scoring = 'accuracy', cv = 5)\n",
        "accu5"
      ]
    },
    {
      "cell_type": "code",
      "execution_count": 202,
      "metadata": {
        "colab": {
          "base_uri": "https://localhost:8080/"
        },
        "id": "kEi4WCQKKeGk",
        "outputId": "7830e3eb-11a4-4590-80db-de10f20813ea"
      },
      "outputs": [
        {
          "output_type": "execute_result",
          "data": {
            "text/plain": [
              "array([[14625,    29,  7602],\n",
              "       [   69,   523,  1477],\n",
              "       [ 4922,   127, 47559]])"
            ]
          },
          "metadata": {},
          "execution_count": 202
        }
      ],
      "source": [
        "metrics.confusion_matrix(yVal1, predict5)"
      ]
    },
    {
      "cell_type": "code",
      "execution_count": 203,
      "metadata": {
        "colab": {
          "base_uri": "https://localhost:8080/"
        },
        "id": "4wQdPuUvKeGl",
        "outputId": "d2d021e5-9558-49cd-8e25-74997a498cc7"
      },
      "outputs": [
        {
          "output_type": "stream",
          "name": "stdout",
          "text": [
            "              precision    recall  f1-score   support\n",
            "\n",
            "           0       0.75      0.66      0.70     22256\n",
            "           1       0.77      0.25      0.38      2069\n",
            "           2       0.84      0.90      0.87     52608\n",
            "\n",
            "    accuracy                           0.82     76933\n",
            "   macro avg       0.79      0.60      0.65     76933\n",
            "weighted avg       0.81      0.82      0.81     76933\n",
            "\n"
          ]
        }
      ],
      "source": [
        "print(metrics.classification_report(list(yVal1), list(predict5)))"
      ]
    },
    {
      "cell_type": "code",
      "execution_count": 204,
      "metadata": {
        "colab": {
          "base_uri": "https://localhost:8080/"
        },
        "id": "v29SBu2oS6Vl",
        "outputId": "8c36217e-e4cd-4160-8cb8-1da8d7f79918"
      },
      "outputs": [
        {
          "output_type": "execute_result",
          "data": {
            "text/plain": [
              "(256442, 182871)"
            ]
          },
          "metadata": {},
          "execution_count": 204
        }
      ],
      "source": [
        "count_vect2 = CountVectorizer()\n",
        "x_counts_train2 = count_vect2.fit_transform(one_hot_fake_df[[\"com_title\"]].iloc[:,0])\n",
        "x_counts_train2.shape"
      ]
    },
    {
      "cell_type": "code",
      "execution_count": 205,
      "metadata": {
        "colab": {
          "base_uri": "https://localhost:8080/"
        },
        "id": "EqF8K5lvS6Vm",
        "outputId": "bf68ba89-43f7-4858-96f9-7d172cd6ea92"
      },
      "outputs": [
        {
          "output_type": "execute_result",
          "data": {
            "text/plain": [
              "<256442x182871 sparse matrix of type '<class 'numpy.int64'>'\n",
              "\twith 4560529 stored elements in Compressed Sparse Row format>"
            ]
          },
          "metadata": {},
          "execution_count": 205
        }
      ],
      "source": [
        "x_counts_train2"
      ]
    },
    {
      "cell_type": "code",
      "execution_count": 206,
      "metadata": {
        "colab": {
          "base_uri": "https://localhost:8080/"
        },
        "id": "3c3Dl1o2S6Vn",
        "outputId": "62cee482-4b52-4e01-b924-420c23d9859c"
      },
      "outputs": [
        {
          "output_type": "execute_result",
          "data": {
            "text/plain": [
              "9131"
            ]
          },
          "metadata": {},
          "execution_count": 206
        }
      ],
      "source": [
        "count_vect2.vocabulary_.get(u'algorithm')\n"
      ]
    },
    {
      "cell_type": "code",
      "execution_count": 207,
      "metadata": {
        "id": "U1E7os8RUovO"
      },
      "outputs": [],
      "source": [
        "\n",
        "yTrain2 = one_hot_fake_df[[\"label_agreed\", \"label_disagreed\", \"label_unrelated\"]].apply(lambda x: x.argmax(), axis=1).values"
      ]
    },
    {
      "cell_type": "code",
      "execution_count": 208,
      "metadata": {
        "colab": {
          "base_uri": "https://localhost:8080/"
        },
        "id": "z5ZajCp9VMzM",
        "outputId": "e704b3e1-7c57-430d-ca17-d016bbb88957"
      },
      "outputs": [
        {
          "output_type": "execute_result",
          "data": {
            "text/plain": [
              "array([2, 2, 2, ..., 2, 2, 2])"
            ]
          },
          "metadata": {},
          "execution_count": 208
        }
      ],
      "source": [
        "yTrain2"
      ]
    },
    {
      "cell_type": "code",
      "execution_count": 209,
      "metadata": {
        "colab": {
          "base_uri": "https://localhost:8080/",
          "height": 618
        },
        "id": "pCSgrm_1ec9Q",
        "outputId": "08bf241b-070e-4234-d292-df883ecee043"
      },
      "outputs": [
        {
          "output_type": "stream",
          "name": "stdout",
          "text": [
            "Class=2, n=175598 (33.333%)\n",
            "Class=0, n=175598 (33.333%)\n",
            "Class=1, n=175598 (33.333%)\n"
          ]
        },
        {
          "output_type": "display_data",
          "data": {
            "text/plain": [
              "<Figure size 800x600 with 1 Axes>"
            ],
            "image/png": "[encoded data removed]"
          },
          "metadata": {}
        }
      ],
      "source": [
        "#data augmentation - oversampling\n",
        "from imblearn.over_sampling import SMOTE\n",
        "oversample = SMOTE()\n",
        "X_resampled, y_resampled = oversample.fit_resample(x_counts_train2, yTrain2)\n",
        "\n",
        "for k,v in Counter(y_resampled).items():\n",
        "\tper = v / len(y_resampled) * 100\n",
        "#\tprint('Class=%s, n=%d (%.3f%%)' % (k, v, per))\n",
        "\tprint('Class=%s, n=%d (%.3f%%)' % (k, v, per))\n",
        "\n",
        "# Plot the distribution as a horizontal bar chart with axis labels and a title\n",
        "class_distribution = Counter(y_resampled)\n",
        "fig, ax = pyplot.subplots(figsize=(8, 6))\n",
        "ax.barh(list(class_distribution.keys()), class_distribution.values(), align='center')\n",
        "ax.set_xlabel('Number of Samples')\n",
        "ax.set_ylabel('Class')\n",
        "ax.set_title('Resampled Class Distribution')\n",
        "pyplot.show()\n"
      ]
    },
    {
      "cell_type": "code",
      "execution_count": 210,
      "metadata": {
        "colab": {
          "base_uri": "https://localhost:8080/"
        },
        "id": "h_GxpKxkQOex",
        "outputId": "46fdaee7-7c84-4520-d641-082b954c1aa9"
      },
      "outputs": [
        {
          "output_type": "execute_result",
          "data": {
            "text/plain": [
              "9131"
            ]
          },
          "metadata": {},
          "execution_count": 210
        }
      ],
      "source": [
        "count_vect2.vocabulary_.get(u'algorithm')\n"
      ]
    },
    {
      "cell_type": "code",
      "execution_count": 211,
      "metadata": {
        "id": "wTjXwfK5Q5gz"
      },
      "outputs": [],
      "source": [
        "xTrain2 = X_resampled\n",
        "yTrain2 = y_resampled\n"
      ]
    },
    {
      "cell_type": "code",
      "execution_count": 212,
      "metadata": {
        "id": "Xm8orLspV3Kj"
      },
      "outputs": [],
      "source": [
        "#splitting dataset into training and validation set\n",
        "xTrain2, xValue2, yTrain2, yValue2 = train_test_split(xTrain2, yTrain2, test_size = 0.3, shuffle = True)"
      ]
    },
    {
      "cell_type": "code",
      "execution_count": 213,
      "metadata": {
        "colab": {
          "base_uri": "https://localhost:8080/"
        },
        "id": "4cukqNuNS6Vn",
        "outputId": "8cb9e461-1745-4689-a28d-50304fc9e013"
      },
      "outputs": [
        {
          "output_type": "execute_result",
          "data": {
            "text/plain": [
              "(368755, 182871)"
            ]
          },
          "metadata": {},
          "execution_count": 213
        }
      ],
      "source": [
        "#tf-idf\n",
        "from sklearn.feature_extraction.text import TfidfTransformer\n",
        "\n",
        "td_id_df2 = TfidfTransformer()\n",
        "xTrain2_td_id_df = td_id_df2.fit_transform(xTrain2)\n",
        "\n",
        "xTrain2_td_id_df.shape"
      ]
    },
    {
      "cell_type": "code",
      "execution_count": 214,
      "metadata": {
        "id": "7huoiz-5QohA"
      },
      "outputs": [],
      "source": [
        "#Training a naive bayes classifier on training dataset\n",
        "from sklearn.naive_bayes import MultinomialNB\n",
        "\n",
        "nb2 = MultinomialNB().fit(xTrain2_td_id_df, yTrain2.ravel())\n"
      ]
    },
    {
      "cell_type": "code",
      "execution_count": 215,
      "metadata": {
        "colab": {
          "base_uri": "https://localhost:8080/"
        },
        "id": "ZyMT_SjLQp-G",
        "outputId": "c5a3bd0e-a1a7-489c-f144-8ff41043ccd2"
      },
      "outputs": [
        {
          "output_type": "stream",
          "name": "stdout",
          "text": [
            "(158039, 182871)\n",
            "[0 1 0 ... 0 2 0]\n"
          ]
        }
      ],
      "source": [
        "#x_val_counts = count_vect.transform(x_val.iloc[:,0])\n",
        "xValue2_td_id_df = td_id_df2.transform(xValue2)\n",
        "dPredict = nb2.predict(xValue2_td_id_df)\n",
        "print(xValue2.shape)\n",
        "print(dPredict)"
      ]
    },
    {
      "cell_type": "code",
      "execution_count": 216,
      "metadata": {
        "colab": {
          "base_uri": "https://localhost:8080/"
        },
        "id": "1a0NThriXjj-",
        "outputId": "f42cf92c-fdcd-460b-e228-a7c8cb739f3e"
      },
      "outputs": [
        {
          "output_type": "execute_result",
          "data": {
            "text/plain": [
              "0.7749669385404868"
            ]
          },
          "metadata": {},
          "execution_count": 216
        }
      ],
      "source": [
        "#calculate accuracy\n",
        "from sklearn.metrics import accuracy_score\n",
        "daccu_score1 = accuracy_score(yValue2, dPredict)\n",
        "daccu_score1"
      ]
    },
    {
      "cell_type": "code",
      "execution_count": 217,
      "metadata": {
        "colab": {
          "base_uri": "https://localhost:8080/"
        },
        "id": "VIGBJk8tZPc-",
        "outputId": "88ecdcd0-db71-4c0b-f0bb-f991fec6bb30"
      },
      "outputs": [
        {
          "output_type": "execute_result",
          "data": {
            "text/plain": [
              "array([[43213,  2128,  7132],\n",
              "       [ 4272, 44757,  3749],\n",
              "       [14855,  3428, 34505]])"
            ]
          },
          "metadata": {},
          "execution_count": 217
        }
      ],
      "source": [
        "#confusion matrix\n",
        "from sklearn import metrics\n",
        "\n",
        "metrics.confusion_matrix(yValue2, dPredict)"
      ]
    },
    {
      "cell_type": "code",
      "execution_count": 218,
      "metadata": {
        "colab": {
          "base_uri": "https://localhost:8080/"
        },
        "id": "zA8lH6PqMIFJ",
        "outputId": "f8036786-0803-494c-b3e7-555879c75d75"
      },
      "outputs": [
        {
          "output_type": "stream",
          "name": "stdout",
          "text": [
            "              precision    recall  f1-score   support\n",
            "\n",
            "           0       0.69      0.82      0.75     52473\n",
            "           1       0.89      0.85      0.87     52778\n",
            "           2       0.76      0.65      0.70     52788\n",
            "\n",
            "    accuracy                           0.77    158039\n",
            "   macro avg       0.78      0.78      0.77    158039\n",
            "weighted avg       0.78      0.77      0.77    158039\n",
            "\n"
          ]
        }
      ],
      "source": [
        "print(metrics.classification_report(list(yValue2), list(dPredict)))"
      ]
    },
    {
      "cell_type": "code",
      "execution_count": 219,
      "metadata": {
        "colab": {
          "base_uri": "https://localhost:8080/"
        },
        "id": "FzX-E9tdqG_Y",
        "outputId": "4d8d4b94-cda1-4285-b586-24fbc068e52f"
      },
      "outputs": [
        {
          "output_type": "execute_result",
          "data": {
            "text/plain": [
              "array([0, 1, 0, ..., 0, 2, 0])"
            ]
          },
          "metadata": {},
          "execution_count": 219
        }
      ],
      "source": [
        "dPredict"
      ]
    },
    {
      "cell_type": "code",
      "execution_count": 220,
      "metadata": {
        "colab": {
          "base_uri": "https://localhost:8080/"
        },
        "id": "f0n4yfpz81hJ",
        "outputId": "a5da25ca-d04b-4945-a081-d648895a48a8"
      },
      "outputs": [
        {
          "output_type": "execute_result",
          "data": {
            "text/plain": [
              "array([0.76992854, 0.77002346, 0.77154208, 0.7705387 , 0.76769129])"
            ]
          },
          "metadata": {},
          "execution_count": 220
        }
      ],
      "source": [
        "from sklearn.model_selection import cross_val_score\n",
        "\n",
        "daccuracy1 = cross_val_score(nb2, xTrain2_td_id_df, yTrain2.ravel(), scoring = 'accuracy', cv = 5)\n",
        "daccuracy1"
      ]
    },
    {
      "cell_type": "code",
      "execution_count": 221,
      "metadata": {
        "id": "lTtIzzmnCdSf"
      },
      "outputs": [],
      "source": [
        "from sklearn.linear_model import SGDClassifier\n",
        "\n",
        "\n",
        "svm2 = SGDClassifier(loss='hinge', penalty='l2', alpha=1e-3, random_state=42, max_iter=5, tol=None).fit(xTrain2_td_id_df, yTrain2.ravel())"
      ]
    },
    {
      "cell_type": "code",
      "execution_count": 222,
      "metadata": {
        "colab": {
          "base_uri": "https://localhost:8080/"
        },
        "id": "iCbSqVuMFieT",
        "outputId": "513296d6-c4d5-4c88-bf79-9c8e2f62a3aa"
      },
      "outputs": [
        {
          "output_type": "stream",
          "name": "stdout",
          "text": [
            "[1 1 0 ... 1 0 0]\n"
          ]
        }
      ],
      "source": [
        "#predicting using SVM model for dataset \n",
        "dPredict2 = svm2.predict(xValue2_td_id_df)\n",
        "print(dPredict2)"
      ]
    },
    {
      "cell_type": "code",
      "execution_count": 223,
      "metadata": {
        "colab": {
          "base_uri": "https://localhost:8080/"
        },
        "id": "gezpdPRaYa0G",
        "outputId": "9dcf68b7-af2b-4d20-ffec-77674bf4e38f"
      },
      "outputs": [
        {
          "output_type": "execute_result",
          "data": {
            "text/plain": [
              "0.6348812634855954"
            ]
          },
          "metadata": {},
          "execution_count": 223
        }
      ],
      "source": [
        "daccu_score2 = accuracy_score(yValue2, dPredict2)\n",
        "daccu_score2"
      ]
    },
    {
      "cell_type": "code",
      "execution_count": 224,
      "metadata": {
        "colab": {
          "base_uri": "https://localhost:8080/"
        },
        "id": "ImbxrMm9bpM2",
        "outputId": "a214b281-bbe6-4b10-a5ee-bfdc470af33e"
      },
      "outputs": [
        {
          "output_type": "execute_result",
          "data": {
            "text/plain": [
              "array([[41097,  8400,  2976],\n",
              "       [ 2402, 49516,   860],\n",
              "       [24147, 18918,  9723]])"
            ]
          },
          "metadata": {},
          "execution_count": 224
        }
      ],
      "source": [
        "#confusion matrix\n",
        "\n",
        "metrics.confusion_matrix(yValue2, dPredict2)"
      ]
    },
    {
      "cell_type": "code",
      "execution_count": 225,
      "metadata": {
        "colab": {
          "base_uri": "https://localhost:8080/"
        },
        "id": "ghLMcQ5nMWzp",
        "outputId": "174a1a48-fc87-4f95-8c0a-0dc0fc693eae"
      },
      "outputs": [
        {
          "output_type": "stream",
          "name": "stdout",
          "text": [
            "              precision    recall  f1-score   support\n",
            "\n",
            "           0       0.61      0.78      0.68     52473\n",
            "           1       0.64      0.94      0.76     52778\n",
            "           2       0.72      0.18      0.29     52788\n",
            "\n",
            "    accuracy                           0.63    158039\n",
            "   macro avg       0.66      0.64      0.58    158039\n",
            "weighted avg       0.66      0.63      0.58    158039\n",
            "\n"
          ]
        }
      ],
      "source": [
        "print(metrics.classification_report(list(yValue2), list(dPredict2)))"
      ]
    },
    {
      "cell_type": "code",
      "execution_count": 226,
      "metadata": {
        "colab": {
          "base_uri": "https://localhost:8080/"
        },
        "id": "uqyOZ_GyGE7Y",
        "outputId": "a905d618-3cb7-4082-b3f6-1f7adc48cbdf"
      },
      "outputs": [
        {
          "output_type": "execute_result",
          "data": {
            "text/plain": [
              "array([0.63679137, 0.63479817, 0.63802525, 0.63596426, 0.63668289])"
            ]
          },
          "metadata": {},
          "execution_count": 226
        }
      ],
      "source": [
        "from sklearn.model_selection import cross_val_score\n",
        "accu2 = cross_val_score(svm2, xTrain2_td_id_df, yTrain2.ravel(), scoring = 'accuracy', cv = 5)\n",
        "accu2"
      ]
    },
    {
      "cell_type": "code",
      "execution_count": 227,
      "metadata": {
        "colab": {
          "base_uri": "https://localhost:8080/"
        },
        "id": "e9z_Vz8r1xO2",
        "outputId": "8f7f3c95-7b7e-4c1e-d9dc-c6b2808752e0"
      },
      "outputs": [
        {
          "output_type": "stream",
          "name": "stdout",
          "text": [
            "[LibLinear][1 1 0 ... 1 2 0]\n"
          ]
        }
      ],
      "source": [
        "#Logistic Regression\n",
        "from sklearn.linear_model import LogisticRegression\n",
        "lr2 = LogisticRegression(verbose=1, solver = 'liblinear', random_state=0, C=5, penalty='l2',max_iter=1000).fit(xTrain2_td_id_df, yTrain2.ravel())\n",
        "#predicting using SVM model for dataset \n",
        "dPredict3 = lr2.predict(xValue2_td_id_df)\n",
        "print(dPredict3)"
      ]
    },
    {
      "cell_type": "code",
      "execution_count": 228,
      "metadata": {
        "colab": {
          "base_uri": "https://localhost:8080/"
        },
        "id": "jQ-KTjgXYmv_",
        "outputId": "e1642412-35f0-4a19-96d9-96f518e652ab"
      },
      "outputs": [
        {
          "output_type": "execute_result",
          "data": {
            "text/plain": [
              "0.8622365365511044"
            ]
          },
          "metadata": {},
          "execution_count": 228
        }
      ],
      "source": [
        "daccu_score3 = accuracy_score(yValue2, dPredict3)\n",
        "daccu_score3"
      ]
    },
    {
      "cell_type": "code",
      "execution_count": 229,
      "metadata": {
        "colab": {
          "base_uri": "https://localhost:8080/"
        },
        "id": "OMzVBdUX778X",
        "outputId": "060e865e-f957-4b82-fb79-5ce590e517fc"
      },
      "outputs": [
        {
          "output_type": "execute_result",
          "data": {
            "text/plain": [
              "array([[44165,  2334,  5974],\n",
              "       [  931, 51042,   805],\n",
              "       [ 9271,  2457, 41060]])"
            ]
          },
          "metadata": {},
          "execution_count": 229
        }
      ],
      "source": [
        "metrics.confusion_matrix(yValue2, dPredict3)"
      ]
    },
    {
      "cell_type": "code",
      "execution_count": 230,
      "metadata": {
        "colab": {
          "base_uri": "https://localhost:8080/"
        },
        "id": "OpzER4tEMcxq",
        "outputId": "05b09b52-2799-417d-b832-c4d408f07397"
      },
      "outputs": [
        {
          "output_type": "stream",
          "name": "stdout",
          "text": [
            "              precision    recall  f1-score   support\n",
            "\n",
            "           0       0.81      0.84      0.83     52473\n",
            "           1       0.91      0.97      0.94     52778\n",
            "           2       0.86      0.78      0.82     52788\n",
            "\n",
            "    accuracy                           0.86    158039\n",
            "   macro avg       0.86      0.86      0.86    158039\n",
            "weighted avg       0.86      0.86      0.86    158039\n",
            "\n"
          ]
        }
      ],
      "source": [
        "print(metrics.classification_report(list(yValue2), list(dPredict3)))"
      ]
    },
    {
      "cell_type": "code",
      "execution_count": 231,
      "metadata": {
        "colab": {
          "base_uri": "https://localhost:8080/"
        },
        "id": "MfZfWEuT6xCz",
        "outputId": "1cefea6f-ed0d-4a99-882b-298e806b69ec"
      },
      "outputs": [
        {
          "output_type": "stream",
          "name": "stdout",
          "text": [
            "[LibLinear][LibLinear][LibLinear][LibLinear][LibLinear]"
          ]
        },
        {
          "output_type": "execute_result",
          "data": {
            "text/plain": [
              "array([0.8564494 , 0.85707312, 0.85738498, 0.85823921, 0.85701889])"
            ]
          },
          "metadata": {},
          "execution_count": 231
        }
      ],
      "source": [
        "from sklearn.model_selection import cross_val_score\n",
        "daccuracy3 = cross_val_score(lr2, xTrain2_td_id_df, yTrain2.ravel(), scoring = 'accuracy', cv = 5)\n",
        "daccuracy3"
      ]
    },
    {
      "cell_type": "code",
      "execution_count": 232,
      "metadata": {
        "colab": {
          "base_uri": "https://localhost:8080/"
        },
        "id": "k1709i7atcc1",
        "outputId": "a030fc0f-6a26-40a3-ede5-1a8e356bafb2"
      },
      "outputs": [
        {
          "output_type": "stream",
          "name": "stdout",
          "text": [
            "[0 0 0 ... 0 0 0]\n"
          ]
        }
      ],
      "source": [
        "#Ramdom Forest\n",
        "from sklearn.ensemble import RandomForestClassifier\n",
        "rf2 = RandomForestClassifier(max_depth = 2, random_state = 0).fit(xTrain2_td_id_df, yTrain2.ravel())\n",
        "dPredict4 = rf2.predict(xValue2_td_id_df)\n",
        "print(dPredict4)"
      ]
    },
    {
      "cell_type": "code",
      "execution_count": 233,
      "metadata": {
        "colab": {
          "base_uri": "https://localhost:8080/"
        },
        "id": "esN4P9vB8VBd",
        "outputId": "35e61de0-6d87-428f-a717-b0066b462246"
      },
      "outputs": [
        {
          "output_type": "execute_result",
          "data": {
            "text/plain": [
              "array([[40630,  2639,  9204],\n",
              "       [20904, 28818,  3056],\n",
              "       [31675,  4213, 16900]])"
            ]
          },
          "metadata": {},
          "execution_count": 233
        }
      ],
      "source": [
        "metrics.confusion_matrix(yValue2, dPredict4)"
      ]
    },
    {
      "cell_type": "code",
      "execution_count": 234,
      "metadata": {
        "colab": {
          "base_uri": "https://localhost:8080/"
        },
        "id": "NHdusSUnvkTf",
        "outputId": "a4d91970-c4ae-49db-9edc-e3dab88c04da"
      },
      "outputs": [
        {
          "output_type": "execute_result",
          "data": {
            "text/plain": [
              "0.5463714652712305"
            ]
          },
          "metadata": {},
          "execution_count": 234
        }
      ],
      "source": [
        "daccu_score4 = accuracy_score(yValue2, dPredict4)\n",
        "daccu_score4"
      ]
    },
    {
      "cell_type": "code",
      "execution_count": 235,
      "metadata": {
        "colab": {
          "base_uri": "https://localhost:8080/"
        },
        "id": "HjUBnQyKMl6d",
        "outputId": "341d0e4f-62d9-42c9-cdba-b285b84d6cbc"
      },
      "outputs": [
        {
          "output_type": "stream",
          "name": "stdout",
          "text": [
            "              precision    recall  f1-score   support\n",
            "\n",
            "           0       0.44      0.77      0.56     52473\n",
            "           1       0.81      0.55      0.65     52778\n",
            "           2       0.58      0.32      0.41     52788\n",
            "\n",
            "    accuracy                           0.55    158039\n",
            "   macro avg       0.61      0.55      0.54    158039\n",
            "weighted avg       0.61      0.55      0.54    158039\n",
            "\n"
          ]
        }
      ],
      "source": [
        "print(metrics.classification_report(list(yValue2), list(dPredict4)))"
      ]
    },
    {
      "cell_type": "code",
      "execution_count": 236,
      "metadata": {
        "colab": {
          "base_uri": "https://localhost:8080/"
        },
        "id": "BmthQtz7xc5W",
        "outputId": "1a34d03d-82bd-492a-ab3b-b3bf0d57f086"
      },
      "outputs": [
        {
          "output_type": "execute_result",
          "data": {
            "text/plain": [
              "array([0.52152513, 0.5431384 , 0.50906428, 0.51860992, 0.54023674])"
            ]
          },
          "metadata": {},
          "execution_count": 236
        }
      ],
      "source": [
        "daccuracy4 = cross_val_score(rf2, xTrain2_td_id_df, yTrain2.ravel(), scoring = 'accuracy', cv = 5)\n",
        "daccuracy4"
      ]
    },
    {
      "cell_type": "code",
      "execution_count": 237,
      "metadata": {
        "colab": {
          "base_uri": "https://localhost:8080/"
        },
        "id": "rNIJ2qUaNwtK",
        "outputId": "438ae6f8-a34e-4b52-fcd3-877a284e52c6"
      },
      "outputs": [
        {
          "output_type": "stream",
          "name": "stdout",
          "text": [
            "[1 1 0 ... 1 2 0]\n"
          ]
        }
      ],
      "source": [
        "#Support Vector Classifier\n",
        "from sklearn.svm import LinearSVC\n",
        "svc2 = LinearSVC(random_state = 0).fit(xTrain2_td_id_df, yTrain2)\n",
        "dPredict5 = svc2.predict(xValue2_td_id_df)\n",
        "print(dPredict5)"
      ]
    },
    {
      "cell_type": "code",
      "execution_count": 238,
      "metadata": {
        "colab": {
          "base_uri": "https://localhost:8080/"
        },
        "id": "J_S3YgL0VCQx",
        "outputId": "7d49e343-950c-46b9-c4bc-1cf54554497b"
      },
      "outputs": [
        {
          "output_type": "execute_result",
          "data": {
            "text/plain": [
              "0.8692601193376318"
            ]
          },
          "metadata": {},
          "execution_count": 238
        }
      ],
      "source": [
        "daccu_score5 = accuracy_score(yValue2, dPredict5)\n",
        "daccu_score5"
      ]
    },
    {
      "cell_type": "code",
      "execution_count": 239,
      "metadata": {
        "colab": {
          "base_uri": "https://localhost:8080/"
        },
        "id": "ANYhFFoAVqwP",
        "outputId": "db11d418-6c8c-4c06-b565-5c982bbef470"
      },
      "outputs": [
        {
          "output_type": "execute_result",
          "data": {
            "text/plain": [
              "array([0.86336456, 0.86394761, 0.86396117, 0.8644493 , 0.86425947])"
            ]
          },
          "metadata": {},
          "execution_count": 239
        }
      ],
      "source": [
        "daccuracy5 = cross_val_score(svc2, xTrain2_td_id_df, yTrain2.ravel(), scoring = 'accuracy', cv = 5)\n",
        "daccuracy5"
      ]
    },
    {
      "cell_type": "code",
      "execution_count": 240,
      "metadata": {
        "colab": {
          "base_uri": "https://localhost:8080/"
        },
        "id": "AWFqOwskViMu",
        "outputId": "bf037508-7a81-426e-895f-aeb79aa96056"
      },
      "outputs": [
        {
          "output_type": "execute_result",
          "data": {
            "text/plain": [
              "array([[44726,  2378,  5369],\n",
              "       [  712, 51379,   687],\n",
              "       [ 9237,  2279, 41272]])"
            ]
          },
          "metadata": {},
          "execution_count": 240
        }
      ],
      "source": [
        "metrics.confusion_matrix(yValue2, dPredict5)"
      ]
    },
    {
      "cell_type": "code",
      "execution_count": 241,
      "metadata": {
        "colab": {
          "base_uri": "https://localhost:8080/"
        },
        "id": "iIV8CuTEVO9s",
        "outputId": "e4685f1f-063c-4f57-9b30-0fe09d96540e"
      },
      "outputs": [
        {
          "output_type": "stream",
          "name": "stdout",
          "text": [
            "              precision    recall  f1-score   support\n",
            "\n",
            "           0       0.82      0.85      0.83     52473\n",
            "           1       0.92      0.97      0.94     52778\n",
            "           2       0.87      0.78      0.82     52788\n",
            "\n",
            "    accuracy                           0.87    158039\n",
            "   macro avg       0.87      0.87      0.87    158039\n",
            "weighted avg       0.87      0.87      0.87    158039\n",
            "\n"
          ]
        }
      ],
      "source": [
        "print(metrics.classification_report(list(yValue2), list(dPredict5)))"
      ]
    },
    {
      "cell_type": "code",
      "execution_count": 242,
      "metadata": {
        "colab": {
          "base_uri": "https://localhost:8080/"
        },
        "id": "gn6onVuYk9hw",
        "outputId": "6d048114-d817-4158-aa0c-82ed505c6f1a"
      },
      "outputs": [
        {
          "output_type": "execute_result",
          "data": {
            "text/plain": [
              "0        great coat brother zhu zhu wen mandarin love s...\n",
              "1        nasa reveals fact ufo wreckage found moonufo f...\n",
              "2        hollow tomato loaded hormoneli chenfan bingbin...\n",
              "3        ange pavilion geoshui accurate matrimony match...\n",
              "4        50yearold busbus blow 8yearold child rumor rum...\n",
              "                               ...                        \n",
              "64105    lead content domestic faucet exceeds standard ...\n",
              "64106    2018 household registration system changed 3 t...\n",
              "64107    onion eaten this serious also cause eye blindn...\n",
              "64108    grassroot teacher salary last increase end yea...\n",
              "64109    li weijia weeping cry drug sick see respondsli...\n",
              "Name: com_title, Length: 64110, dtype: object"
            ]
          },
          "metadata": {},
          "execution_count": 242
        }
      ],
      "source": [
        "x_test = fake_test_df[\"com_title\"]\n",
        "x_test"
      ]
    },
    {
      "cell_type": "code",
      "execution_count": 243,
      "metadata": {
        "colab": {
          "base_uri": "https://localhost:8080/"
        },
        "id": "cMX5aUJWj95E",
        "outputId": "fbb9026f-d4a3-47d4-adef-e02564cf43b5"
      },
      "outputs": [
        {
          "output_type": "stream",
          "name": "stdout",
          "text": [
            "(64110, 182871)\n",
            "[2 0 2 ... 0 2 0]\n"
          ]
        }
      ],
      "source": [
        "x_test_counts = count_vect2.transform(fake_test_df[[\"com_title\"]].iloc[:,0])\n",
        "xTestTfi_df = td_id_df2.transform(x_test_counts)\n",
        "tPredict = svc2.predict(xTestTfi_df)\n",
        "print(x_test_counts.shape)\n",
        "print(tPredict)"
      ]
    },
    {
      "cell_type": "code",
      "execution_count": 244,
      "metadata": {
        "colab": {
          "base_uri": "https://localhost:8080/"
        },
        "id": "7L49BsLGlefL",
        "outputId": "0b3c6a07-1760-4ba1-c6f7-0361da7116fe"
      },
      "outputs": [
        {
          "output_type": "execute_result",
          "data": {
            "text/plain": [
              "numpy.ndarray"
            ]
          },
          "metadata": {},
          "execution_count": 244
        }
      ],
      "source": [
        "type(tPredict)\n"
      ]
    },
    {
      "cell_type": "code",
      "execution_count": 245,
      "metadata": {
        "colab": {
          "base_uri": "https://localhost:8080/"
        },
        "id": "5MMEOJJjm3WO",
        "outputId": "80980eb8-9b10-46a5-c688-33c1c21c606a"
      },
      "outputs": [
        {
          "output_type": "execute_result",
          "data": {
            "text/plain": [
              "64110"
            ]
          },
          "metadata": {},
          "execution_count": 245
        }
      ],
      "source": [
        "len(tPredict)"
      ]
    },
    {
      "cell_type": "code",
      "execution_count": 246,
      "metadata": {
        "colab": {
          "base_uri": "https://localhost:8080/"
        },
        "id": "Iwse-t-Xjnlw",
        "outputId": "730f555d-064c-43f6-9d4f-a80a34adc2c7"
      },
      "outputs": [
        {
          "output_type": "execute_result",
          "data": {
            "text/plain": [
              "['unrelated',\n",
              " 'agreed',\n",
              " 'unrelated',\n",
              " 'unrelated',\n",
              " 'unrelated',\n",
              " 'unrelated',\n",
              " 'unrelated',\n",
              " 'unrelated',\n",
              " 'agreed',\n",
              " 'unrelated',\n",
              " 'agreed',\n",
              " 'agreed',\n",
              " 'unrelated',\n",
              " 'unrelated',\n",
              " 'unrelated',\n",
              " 'unrelated',\n",
              " 'agreed',\n",
              " 'unrelated',\n",
              " 'unrelated',\n",
              " 'agreed',\n",
              " 'unrelated',\n",
              " 'unrelated',\n",
              " 'agreed',\n",
              " 'unrelated',\n",
              " 'unrelated',\n",
              " 'agreed',\n",
              " 'unrelated',\n",
              " 'unrelated',\n",
              " 'agreed',\n",
              " 'unrelated',\n",
              " 'unrelated',\n",
              " 'agreed',\n",
              " 'agreed',\n",
              " 'unrelated',\n",
              " 'agreed',\n",
              " 'agreed',\n",
              " 'unrelated',\n",
              " 'unrelated',\n",
              " 'unrelated',\n",
              " 'agreed',\n",
              " 'unrelated',\n",
              " 'unrelated',\n",
              " 'agreed',\n",
              " 'unrelated',\n",
              " 'agreed',\n",
              " 'unrelated',\n",
              " 'unrelated',\n",
              " 'unrelated',\n",
              " 'agreed',\n",
              " 'agreed',\n",
              " 'agreed',\n",
              " 'unrelated',\n",
              " 'agreed',\n",
              " 'agreed',\n",
              " 'unrelated',\n",
              " 'unrelated',\n",
              " 'unrelated',\n",
              " 'agreed',\n",
              " 'disagreed',\n",
              " 'unrelated',\n",
              " 'unrelated',\n",
              " 'unrelated',\n",
              " 'agreed',\n",
              " 'agreed',\n",
              " 'unrelated',\n",
              " 'unrelated',\n",
              " 'unrelated',\n",
              " 'agreed',\n",
              " 'unrelated',\n",
              " 'unrelated',\n",
              " 'unrelated',\n",
              " 'agreed',\n",
              " 'unrelated',\n",
              " 'unrelated',\n",
              " 'agreed',\n",
              " 'unrelated',\n",
              " 'unrelated',\n",
              " 'unrelated',\n",
              " 'unrelated',\n",
              " 'unrelated',\n",
              " 'agreed',\n",
              " 'unrelated',\n",
              " 'disagreed',\n",
              " 'unrelated',\n",
              " 'agreed',\n",
              " 'agreed',\n",
              " 'unrelated',\n",
              " 'agreed',\n",
              " 'unrelated',\n",
              " 'unrelated',\n",
              " 'agreed',\n",
              " 'unrelated',\n",
              " 'unrelated',\n",
              " 'unrelated',\n",
              " 'agreed',\n",
              " 'unrelated',\n",
              " 'agreed',\n",
              " 'agreed',\n",
              " 'unrelated',\n",
              " 'unrelated',\n",
              " 'unrelated',\n",
              " 'agreed',\n",
              " 'unrelated',\n",
              " 'unrelated',\n",
              " 'unrelated',\n",
              " 'unrelated',\n",
              " 'unrelated',\n",
              " 'unrelated',\n",
              " 'disagreed',\n",
              " 'unrelated',\n",
              " 'unrelated',\n",
              " 'agreed',\n",
              " 'agreed',\n",
              " 'unrelated',\n",
              " 'unrelated',\n",
              " 'unrelated',\n",
              " 'agreed',\n",
              " 'unrelated',\n",
              " 'unrelated',\n",
              " 'agreed',\n",
              " 'agreed',\n",
              " 'agreed',\n",
              " 'unrelated',\n",
              " 'unrelated',\n",
              " 'unrelated',\n",
              " 'unrelated',\n",
              " 'agreed',\n",
              " 'disagreed',\n",
              " 'unrelated',\n",
              " 'unrelated',\n",
              " 'agreed',\n",
              " 'agreed',\n",
              " 'unrelated',\n",
              " 'unrelated',\n",
              " 'unrelated',\n",
              " 'agreed',\n",
              " 'agreed',\n",
              " 'unrelated',\n",
              " 'agreed',\n",
              " 'agreed',\n",
              " 'unrelated',\n",
              " 'unrelated',\n",
              " 'unrelated',\n",
              " 'unrelated',\n",
              " 'unrelated',\n",
              " 'unrelated',\n",
              " 'agreed',\n",
              " 'agreed',\n",
              " 'agreed',\n",
              " 'unrelated',\n",
              " 'agreed',\n",
              " 'agreed',\n",
              " 'unrelated',\n",
              " 'unrelated',\n",
              " 'unrelated',\n",
              " 'unrelated',\n",
              " 'unrelated',\n",
              " 'disagreed',\n",
              " 'unrelated',\n",
              " 'agreed',\n",
              " 'agreed',\n",
              " 'agreed',\n",
              " 'agreed',\n",
              " 'unrelated',\n",
              " 'unrelated',\n",
              " 'agreed',\n",
              " 'agreed',\n",
              " 'unrelated',\n",
              " 'unrelated',\n",
              " 'unrelated',\n",
              " 'agreed',\n",
              " 'disagreed',\n",
              " 'unrelated',\n",
              " 'unrelated',\n",
              " 'unrelated',\n",
              " 'unrelated',\n",
              " 'unrelated',\n",
              " 'agreed',\n",
              " 'unrelated',\n",
              " 'agreed',\n",
              " 'disagreed',\n",
              " 'agreed',\n",
              " 'unrelated',\n",
              " 'unrelated',\n",
              " 'unrelated',\n",
              " 'unrelated',\n",
              " 'unrelated',\n",
              " 'unrelated',\n",
              " 'agreed',\n",
              " 'unrelated',\n",
              " 'unrelated',\n",
              " 'unrelated',\n",
              " 'unrelated',\n",
              " 'unrelated',\n",
              " 'unrelated',\n",
              " 'agreed',\n",
              " 'agreed',\n",
              " 'agreed',\n",
              " 'agreed',\n",
              " 'agreed',\n",
              " 'agreed',\n",
              " 'unrelated',\n",
              " 'unrelated',\n",
              " 'agreed',\n",
              " 'unrelated',\n",
              " 'unrelated',\n",
              " 'unrelated',\n",
              " 'unrelated',\n",
              " 'agreed',\n",
              " 'unrelated',\n",
              " 'agreed',\n",
              " 'unrelated',\n",
              " 'unrelated',\n",
              " 'unrelated',\n",
              " 'unrelated',\n",
              " 'agreed',\n",
              " 'unrelated',\n",
              " 'agreed',\n",
              " 'unrelated',\n",
              " 'unrelated',\n",
              " 'unrelated',\n",
              " 'agreed',\n",
              " 'unrelated',\n",
              " 'unrelated',\n",
              " 'unrelated',\n",
              " 'disagreed',\n",
              " 'agreed',\n",
              " 'unrelated',\n",
              " 'disagreed',\n",
              " 'unrelated',\n",
              " 'unrelated',\n",
              " 'unrelated',\n",
              " 'agreed',\n",
              " 'unrelated',\n",
              " 'agreed',\n",
              " 'unrelated',\n",
              " 'disagreed',\n",
              " 'unrelated',\n",
              " 'unrelated',\n",
              " 'agreed',\n",
              " 'unrelated',\n",
              " 'unrelated',\n",
              " 'unrelated',\n",
              " 'agreed',\n",
              " 'agreed',\n",
              " 'unrelated',\n",
              " 'agreed',\n",
              " 'unrelated',\n",
              " 'unrelated',\n",
              " 'unrelated',\n",
              " 'unrelated',\n",
              " 'agreed',\n",
              " 'unrelated',\n",
              " 'agreed',\n",
              " 'agreed',\n",
              " 'agreed',\n",
              " 'agreed',\n",
              " 'agreed',\n",
              " 'agreed',\n",
              " 'unrelated',\n",
              " 'unrelated',\n",
              " 'agreed',\n",
              " 'agreed',\n",
              " 'agreed',\n",
              " 'agreed',\n",
              " 'unrelated',\n",
              " 'agreed',\n",
              " 'unrelated',\n",
              " 'agreed',\n",
              " 'unrelated',\n",
              " 'unrelated',\n",
              " 'agreed',\n",
              " 'unrelated',\n",
              " 'agreed',\n",
              " 'unrelated',\n",
              " 'unrelated',\n",
              " 'agreed',\n",
              " 'agreed',\n",
              " 'unrelated',\n",
              " 'unrelated',\n",
              " 'unrelated',\n",
              " 'unrelated',\n",
              " 'agreed',\n",
              " 'agreed',\n",
              " 'agreed',\n",
              " 'agreed',\n",
              " 'unrelated',\n",
              " 'agreed',\n",
              " 'agreed',\n",
              " 'agreed',\n",
              " 'agreed',\n",
              " 'agreed',\n",
              " 'unrelated',\n",
              " 'unrelated',\n",
              " 'unrelated',\n",
              " 'unrelated',\n",
              " 'unrelated',\n",
              " 'unrelated',\n",
              " 'agreed',\n",
              " 'unrelated',\n",
              " 'agreed',\n",
              " 'unrelated',\n",
              " 'unrelated',\n",
              " 'unrelated',\n",
              " 'agreed',\n",
              " 'disagreed',\n",
              " 'unrelated',\n",
              " 'unrelated',\n",
              " 'disagreed',\n",
              " 'unrelated',\n",
              " 'agreed',\n",
              " 'agreed',\n",
              " 'unrelated',\n",
              " 'agreed',\n",
              " 'disagreed',\n",
              " 'disagreed',\n",
              " 'agreed',\n",
              " 'agreed',\n",
              " 'unrelated',\n",
              " 'unrelated',\n",
              " 'agreed',\n",
              " 'unrelated',\n",
              " 'agreed',\n",
              " 'agreed',\n",
              " 'agreed',\n",
              " 'unrelated',\n",
              " 'agreed',\n",
              " 'unrelated',\n",
              " 'agreed',\n",
              " 'unrelated',\n",
              " 'unrelated',\n",
              " 'unrelated',\n",
              " 'unrelated',\n",
              " 'unrelated',\n",
              " 'agreed',\n",
              " 'agreed',\n",
              " 'unrelated',\n",
              " 'agreed',\n",
              " 'unrelated',\n",
              " 'unrelated',\n",
              " 'unrelated',\n",
              " 'unrelated',\n",
              " 'unrelated',\n",
              " 'unrelated',\n",
              " 'unrelated',\n",
              " 'unrelated',\n",
              " 'agreed',\n",
              " 'agreed',\n",
              " 'agreed',\n",
              " 'unrelated',\n",
              " 'agreed',\n",
              " 'unrelated',\n",
              " 'agreed',\n",
              " 'unrelated',\n",
              " 'unrelated',\n",
              " 'agreed',\n",
              " 'unrelated',\n",
              " 'unrelated',\n",
              " 'unrelated',\n",
              " 'agreed',\n",
              " 'unrelated',\n",
              " 'unrelated',\n",
              " 'unrelated',\n",
              " 'agreed',\n",
              " 'unrelated',\n",
              " 'unrelated',\n",
              " 'unrelated',\n",
              " 'unrelated',\n",
              " 'agreed',\n",
              " 'unrelated',\n",
              " 'agreed',\n",
              " 'unrelated',\n",
              " 'agreed',\n",
              " 'unrelated',\n",
              " 'unrelated',\n",
              " 'disagreed',\n",
              " 'unrelated',\n",
              " 'unrelated',\n",
              " 'agreed',\n",
              " 'unrelated',\n",
              " 'agreed',\n",
              " 'disagreed',\n",
              " 'disagreed',\n",
              " 'agreed',\n",
              " 'disagreed',\n",
              " 'unrelated',\n",
              " 'agreed',\n",
              " 'agreed',\n",
              " 'agreed',\n",
              " 'unrelated',\n",
              " 'agreed',\n",
              " 'unrelated',\n",
              " 'unrelated',\n",
              " 'agreed',\n",
              " 'unrelated',\n",
              " 'unrelated',\n",
              " 'disagreed',\n",
              " 'unrelated',\n",
              " 'agreed',\n",
              " 'unrelated',\n",
              " 'unrelated',\n",
              " 'agreed',\n",
              " 'unrelated',\n",
              " 'disagreed',\n",
              " 'unrelated',\n",
              " 'agreed',\n",
              " 'agreed',\n",
              " 'agreed',\n",
              " 'agreed',\n",
              " 'agreed',\n",
              " 'unrelated',\n",
              " 'unrelated',\n",
              " 'unrelated',\n",
              " 'disagreed',\n",
              " 'agreed',\n",
              " 'unrelated',\n",
              " 'disagreed',\n",
              " 'agreed',\n",
              " 'unrelated',\n",
              " 'unrelated',\n",
              " 'unrelated',\n",
              " 'unrelated',\n",
              " 'agreed',\n",
              " 'agreed',\n",
              " 'unrelated',\n",
              " 'unrelated',\n",
              " 'agreed',\n",
              " 'unrelated',\n",
              " 'unrelated',\n",
              " 'unrelated',\n",
              " 'unrelated',\n",
              " 'unrelated',\n",
              " 'unrelated',\n",
              " 'unrelated',\n",
              " 'unrelated',\n",
              " 'unrelated',\n",
              " 'agreed',\n",
              " 'agreed',\n",
              " 'unrelated',\n",
              " 'unrelated',\n",
              " 'agreed',\n",
              " 'agreed',\n",
              " 'agreed',\n",
              " 'unrelated',\n",
              " 'disagreed',\n",
              " 'unrelated',\n",
              " 'unrelated',\n",
              " 'unrelated',\n",
              " 'agreed',\n",
              " 'unrelated',\n",
              " 'disagreed',\n",
              " 'agreed',\n",
              " 'unrelated',\n",
              " 'unrelated',\n",
              " 'unrelated',\n",
              " 'unrelated',\n",
              " 'agreed',\n",
              " 'unrelated',\n",
              " 'agreed',\n",
              " 'unrelated',\n",
              " 'unrelated',\n",
              " 'agreed',\n",
              " 'agreed',\n",
              " 'agreed',\n",
              " 'agreed',\n",
              " 'unrelated',\n",
              " 'unrelated',\n",
              " 'unrelated',\n",
              " 'unrelated',\n",
              " 'agreed',\n",
              " 'unrelated',\n",
              " 'agreed',\n",
              " 'unrelated',\n",
              " 'unrelated',\n",
              " 'unrelated',\n",
              " 'agreed',\n",
              " 'unrelated',\n",
              " 'unrelated',\n",
              " 'agreed',\n",
              " 'disagreed',\n",
              " 'agreed',\n",
              " 'agreed',\n",
              " 'unrelated',\n",
              " 'agreed',\n",
              " 'unrelated',\n",
              " 'agreed',\n",
              " 'disagreed',\n",
              " 'unrelated',\n",
              " 'unrelated',\n",
              " 'unrelated',\n",
              " 'unrelated',\n",
              " 'unrelated',\n",
              " 'unrelated',\n",
              " 'agreed',\n",
              " 'unrelated',\n",
              " 'unrelated',\n",
              " 'agreed',\n",
              " 'agreed',\n",
              " 'unrelated',\n",
              " 'agreed',\n",
              " 'agreed',\n",
              " 'unrelated',\n",
              " 'agreed',\n",
              " 'disagreed',\n",
              " 'disagreed',\n",
              " 'unrelated',\n",
              " 'unrelated',\n",
              " 'unrelated',\n",
              " 'unrelated',\n",
              " 'disagreed',\n",
              " 'unrelated',\n",
              " 'agreed',\n",
              " 'agreed',\n",
              " 'agreed',\n",
              " 'unrelated',\n",
              " 'unrelated',\n",
              " 'unrelated',\n",
              " 'unrelated',\n",
              " 'unrelated',\n",
              " 'agreed',\n",
              " 'agreed',\n",
              " 'unrelated',\n",
              " 'unrelated',\n",
              " 'unrelated',\n",
              " 'unrelated',\n",
              " 'agreed',\n",
              " 'unrelated',\n",
              " 'disagreed',\n",
              " 'agreed',\n",
              " 'unrelated',\n",
              " 'agreed',\n",
              " 'agreed',\n",
              " 'unrelated',\n",
              " 'agreed',\n",
              " 'unrelated',\n",
              " 'disagreed',\n",
              " 'unrelated',\n",
              " 'unrelated',\n",
              " 'agreed',\n",
              " 'unrelated',\n",
              " 'unrelated',\n",
              " 'unrelated',\n",
              " 'unrelated',\n",
              " 'agreed',\n",
              " 'disagreed',\n",
              " 'unrelated',\n",
              " 'unrelated',\n",
              " 'unrelated',\n",
              " 'unrelated',\n",
              " 'disagreed',\n",
              " 'unrelated',\n",
              " 'disagreed',\n",
              " 'unrelated',\n",
              " 'unrelated',\n",
              " 'unrelated',\n",
              " 'agreed',\n",
              " 'agreed',\n",
              " 'disagreed',\n",
              " 'unrelated',\n",
              " 'agreed',\n",
              " 'agreed',\n",
              " 'unrelated',\n",
              " 'unrelated',\n",
              " 'unrelated',\n",
              " 'unrelated',\n",
              " 'disagreed',\n",
              " 'unrelated',\n",
              " 'unrelated',\n",
              " 'agreed',\n",
              " 'agreed',\n",
              " 'unrelated',\n",
              " 'agreed',\n",
              " 'unrelated',\n",
              " 'agreed',\n",
              " 'unrelated',\n",
              " 'agreed',\n",
              " 'agreed',\n",
              " 'agreed',\n",
              " 'unrelated',\n",
              " 'unrelated',\n",
              " 'unrelated',\n",
              " 'unrelated',\n",
              " 'unrelated',\n",
              " 'unrelated',\n",
              " 'agreed',\n",
              " 'unrelated',\n",
              " 'agreed',\n",
              " 'agreed',\n",
              " 'unrelated',\n",
              " 'agreed',\n",
              " 'unrelated',\n",
              " 'agreed',\n",
              " 'unrelated',\n",
              " 'unrelated',\n",
              " 'unrelated',\n",
              " 'agreed',\n",
              " 'unrelated',\n",
              " 'unrelated',\n",
              " 'agreed',\n",
              " 'unrelated',\n",
              " 'unrelated',\n",
              " 'unrelated',\n",
              " 'agreed',\n",
              " 'unrelated',\n",
              " 'disagreed',\n",
              " 'unrelated',\n",
              " 'unrelated',\n",
              " 'unrelated',\n",
              " 'unrelated',\n",
              " 'agreed',\n",
              " 'agreed',\n",
              " 'unrelated',\n",
              " 'unrelated',\n",
              " 'agreed',\n",
              " 'unrelated',\n",
              " 'unrelated',\n",
              " 'unrelated',\n",
              " 'unrelated',\n",
              " 'unrelated',\n",
              " 'unrelated',\n",
              " 'agreed',\n",
              " 'unrelated',\n",
              " 'disagreed',\n",
              " 'disagreed',\n",
              " 'unrelated',\n",
              " 'unrelated',\n",
              " 'agreed',\n",
              " 'unrelated',\n",
              " 'unrelated',\n",
              " 'unrelated',\n",
              " 'unrelated',\n",
              " 'agreed',\n",
              " 'agreed',\n",
              " 'agreed',\n",
              " 'unrelated',\n",
              " 'agreed',\n",
              " 'disagreed',\n",
              " 'unrelated',\n",
              " 'unrelated',\n",
              " 'unrelated',\n",
              " 'unrelated',\n",
              " 'agreed',\n",
              " 'unrelated',\n",
              " 'unrelated',\n",
              " 'unrelated',\n",
              " 'agreed',\n",
              " 'agreed',\n",
              " 'unrelated',\n",
              " 'unrelated',\n",
              " 'unrelated',\n",
              " 'unrelated',\n",
              " 'unrelated',\n",
              " 'unrelated',\n",
              " 'disagreed',\n",
              " 'agreed',\n",
              " 'agreed',\n",
              " 'unrelated',\n",
              " 'unrelated',\n",
              " 'unrelated',\n",
              " 'agreed',\n",
              " 'unrelated',\n",
              " 'unrelated',\n",
              " 'unrelated',\n",
              " 'unrelated',\n",
              " 'agreed',\n",
              " 'agreed',\n",
              " 'unrelated',\n",
              " 'agreed',\n",
              " 'unrelated',\n",
              " 'agreed',\n",
              " 'unrelated',\n",
              " 'unrelated',\n",
              " 'agreed',\n",
              " 'agreed',\n",
              " 'unrelated',\n",
              " 'unrelated',\n",
              " 'unrelated',\n",
              " 'unrelated',\n",
              " 'unrelated',\n",
              " 'unrelated',\n",
              " 'agreed',\n",
              " 'unrelated',\n",
              " 'agreed',\n",
              " 'unrelated',\n",
              " 'agreed',\n",
              " 'agreed',\n",
              " 'unrelated',\n",
              " 'agreed',\n",
              " 'agreed',\n",
              " 'unrelated',\n",
              " 'unrelated',\n",
              " 'unrelated',\n",
              " 'agreed',\n",
              " 'unrelated',\n",
              " 'unrelated',\n",
              " 'agreed',\n",
              " 'agreed',\n",
              " 'unrelated',\n",
              " 'unrelated',\n",
              " 'agreed',\n",
              " 'unrelated',\n",
              " 'unrelated',\n",
              " 'agreed',\n",
              " 'unrelated',\n",
              " 'unrelated',\n",
              " 'agreed',\n",
              " 'agreed',\n",
              " 'disagreed',\n",
              " 'unrelated',\n",
              " 'agreed',\n",
              " 'agreed',\n",
              " 'unrelated',\n",
              " 'agreed',\n",
              " 'unrelated',\n",
              " 'agreed',\n",
              " 'unrelated',\n",
              " 'unrelated',\n",
              " 'unrelated',\n",
              " 'agreed',\n",
              " 'unrelated',\n",
              " 'unrelated',\n",
              " 'unrelated',\n",
              " 'unrelated',\n",
              " 'unrelated',\n",
              " 'agreed',\n",
              " 'agreed',\n",
              " 'unrelated',\n",
              " 'disagreed',\n",
              " 'unrelated',\n",
              " 'unrelated',\n",
              " 'agreed',\n",
              " 'unrelated',\n",
              " 'unrelated',\n",
              " 'agreed',\n",
              " 'unrelated',\n",
              " 'unrelated',\n",
              " 'unrelated',\n",
              " 'unrelated',\n",
              " 'unrelated',\n",
              " 'agreed',\n",
              " 'disagreed',\n",
              " 'disagreed',\n",
              " 'unrelated',\n",
              " 'disagreed',\n",
              " 'unrelated',\n",
              " 'agreed',\n",
              " 'unrelated',\n",
              " 'agreed',\n",
              " 'unrelated',\n",
              " 'unrelated',\n",
              " 'unrelated',\n",
              " 'unrelated',\n",
              " 'agreed',\n",
              " 'unrelated',\n",
              " 'unrelated',\n",
              " 'agreed',\n",
              " 'agreed',\n",
              " 'unrelated',\n",
              " 'unrelated',\n",
              " 'unrelated',\n",
              " 'unrelated',\n",
              " 'unrelated',\n",
              " 'agreed',\n",
              " 'unrelated',\n",
              " 'unrelated',\n",
              " 'unrelated',\n",
              " 'unrelated',\n",
              " 'unrelated',\n",
              " 'agreed',\n",
              " 'unrelated',\n",
              " 'agreed',\n",
              " 'unrelated',\n",
              " 'agreed',\n",
              " 'agreed',\n",
              " 'agreed',\n",
              " 'unrelated',\n",
              " 'agreed',\n",
              " 'agreed',\n",
              " 'agreed',\n",
              " 'unrelated',\n",
              " 'unrelated',\n",
              " 'unrelated',\n",
              " 'agreed',\n",
              " 'unrelated',\n",
              " 'unrelated',\n",
              " 'unrelated',\n",
              " 'unrelated',\n",
              " 'unrelated',\n",
              " 'unrelated',\n",
              " 'unrelated',\n",
              " 'agreed',\n",
              " 'agreed',\n",
              " 'agreed',\n",
              " 'agreed',\n",
              " 'agreed',\n",
              " 'disagreed',\n",
              " 'unrelated',\n",
              " 'disagreed',\n",
              " 'unrelated',\n",
              " 'unrelated',\n",
              " 'unrelated',\n",
              " 'unrelated',\n",
              " 'unrelated',\n",
              " 'agreed',\n",
              " 'unrelated',\n",
              " 'unrelated',\n",
              " 'agreed',\n",
              " 'disagreed',\n",
              " 'agreed',\n",
              " 'unrelated',\n",
              " 'agreed',\n",
              " 'unrelated',\n",
              " 'agreed',\n",
              " 'agreed',\n",
              " 'unrelated',\n",
              " 'agreed',\n",
              " 'unrelated',\n",
              " 'agreed',\n",
              " 'unrelated',\n",
              " 'agreed',\n",
              " 'agreed',\n",
              " 'agreed',\n",
              " 'unrelated',\n",
              " 'agreed',\n",
              " 'disagreed',\n",
              " 'agreed',\n",
              " 'disagreed',\n",
              " 'disagreed',\n",
              " 'agreed',\n",
              " 'unrelated',\n",
              " 'agreed',\n",
              " 'agreed',\n",
              " 'unrelated',\n",
              " 'agreed',\n",
              " 'unrelated',\n",
              " 'agreed',\n",
              " 'unrelated',\n",
              " 'agreed',\n",
              " 'agreed',\n",
              " 'agreed',\n",
              " 'unrelated',\n",
              " 'unrelated',\n",
              " 'unrelated',\n",
              " 'disagreed',\n",
              " 'agreed',\n",
              " 'agreed',\n",
              " 'agreed',\n",
              " 'unrelated',\n",
              " 'unrelated',\n",
              " 'agreed',\n",
              " 'unrelated',\n",
              " 'agreed',\n",
              " 'unrelated',\n",
              " 'unrelated',\n",
              " 'disagreed',\n",
              " 'unrelated',\n",
              " 'agreed',\n",
              " 'unrelated',\n",
              " 'agreed',\n",
              " 'unrelated',\n",
              " 'unrelated',\n",
              " 'agreed',\n",
              " 'unrelated',\n",
              " 'unrelated',\n",
              " 'agreed',\n",
              " 'agreed',\n",
              " 'agreed',\n",
              " 'agreed',\n",
              " 'unrelated',\n",
              " 'agreed',\n",
              " 'agreed',\n",
              " 'agreed',\n",
              " 'agreed',\n",
              " 'unrelated',\n",
              " 'agreed',\n",
              " 'unrelated',\n",
              " 'agreed',\n",
              " 'unrelated',\n",
              " 'agreed',\n",
              " 'agreed',\n",
              " 'agreed',\n",
              " 'unrelated',\n",
              " 'agreed',\n",
              " 'agreed',\n",
              " 'unrelated',\n",
              " 'unrelated',\n",
              " 'unrelated',\n",
              " 'unrelated',\n",
              " 'unrelated',\n",
              " 'unrelated',\n",
              " 'unrelated',\n",
              " 'disagreed',\n",
              " 'unrelated',\n",
              " 'disagreed',\n",
              " 'agreed',\n",
              " 'unrelated',\n",
              " 'agreed',\n",
              " 'agreed',\n",
              " 'unrelated',\n",
              " 'agreed',\n",
              " 'unrelated',\n",
              " 'unrelated',\n",
              " 'unrelated',\n",
              " 'agreed',\n",
              " 'unrelated',\n",
              " 'agreed',\n",
              " 'agreed',\n",
              " 'agreed',\n",
              " 'agreed',\n",
              " 'disagreed',\n",
              " 'agreed',\n",
              " 'unrelated',\n",
              " 'unrelated',\n",
              " 'agreed',\n",
              " 'agreed',\n",
              " 'agreed',\n",
              " 'unrelated',\n",
              " 'agreed',\n",
              " 'unrelated',\n",
              " 'agreed',\n",
              " 'unrelated',\n",
              " 'agreed',\n",
              " 'agreed',\n",
              " 'unrelated',\n",
              " 'agreed',\n",
              " 'agreed',\n",
              " 'agreed',\n",
              " 'unrelated',\n",
              " 'unrelated',\n",
              " 'unrelated',\n",
              " 'unrelated',\n",
              " 'unrelated',\n",
              " 'agreed',\n",
              " 'disagreed',\n",
              " 'unrelated',\n",
              " 'unrelated',\n",
              " 'unrelated',\n",
              " 'agreed',\n",
              " 'agreed',\n",
              " 'agreed',\n",
              " 'unrelated',\n",
              " 'unrelated',\n",
              " 'unrelated',\n",
              " 'agreed',\n",
              " 'unrelated',\n",
              " 'unrelated',\n",
              " 'unrelated',\n",
              " 'agreed',\n",
              " 'unrelated',\n",
              " 'unrelated',\n",
              " 'unrelated',\n",
              " 'unrelated',\n",
              " 'agreed',\n",
              " 'agreed',\n",
              " 'unrelated',\n",
              " 'unrelated',\n",
              " 'unrelated',\n",
              " 'unrelated',\n",
              " 'unrelated',\n",
              " 'agreed',\n",
              " 'agreed',\n",
              " 'unrelated',\n",
              " 'agreed',\n",
              " 'agreed',\n",
              " 'agreed',\n",
              " 'agreed',\n",
              " 'agreed',\n",
              " 'agreed',\n",
              " 'unrelated',\n",
              " 'unrelated',\n",
              " 'unrelated',\n",
              " 'unrelated',\n",
              " 'agreed',\n",
              " 'unrelated',\n",
              " 'disagreed',\n",
              " 'agreed',\n",
              " 'agreed',\n",
              " 'unrelated',\n",
              " 'unrelated',\n",
              " 'unrelated',\n",
              " 'unrelated',\n",
              " 'unrelated',\n",
              " 'unrelated',\n",
              " 'agreed',\n",
              " 'disagreed',\n",
              " 'unrelated',\n",
              " 'unrelated',\n",
              " 'unrelated',\n",
              " 'unrelated',\n",
              " 'unrelated',\n",
              " 'unrelated',\n",
              " 'agreed',\n",
              " 'agreed',\n",
              " 'agreed',\n",
              " 'unrelated',\n",
              " 'disagreed',\n",
              " 'unrelated',\n",
              " 'unrelated',\n",
              " 'unrelated',\n",
              " 'unrelated',\n",
              " ...]"
            ]
          },
          "metadata": {},
          "execution_count": 246
        }
      ],
      "source": [
        "#write to output file\n",
        "tPredict2 = [None] * 64110\n",
        "for i in range(len(tPredict)):\n",
        "  if tPredict[i] == 0:\n",
        "    tPredict2[i] = 'agreed'\n",
        "  elif tPredict[i] == 1:\n",
        "    tPredict2[i] = 'disagreed'\n",
        "  else:\n",
        "    tPredict2[i] = 'unrelated'\n",
        "tPredict2"
      ]
    },
    {
      "cell_type": "code",
      "execution_count": 247,
      "metadata": {
        "colab": {
          "base_uri": "https://localhost:8080/",
          "height": 35
        },
        "id": "aZBUPl3_iP35",
        "outputId": "db6447ca-3316-4c29-f698-7b8b6def7996"
      },
      "outputs": [
        {
          "output_type": "execute_result",
          "data": {
            "text/plain": [
              "'unrelated'"
            ],
            "application/vnd.google.colaboratory.intrinsic+json": {
              "type": "string"
            }
          },
          "metadata": {},
          "execution_count": 247
        }
      ],
      "source": [
        "tPredict2[0]"
      ]
    },
    {
      "cell_type": "code",
      "execution_count": 248,
      "metadata": {
        "colab": {
          "base_uri": "https://localhost:8080/"
        },
        "id": "ozIznWupih1q",
        "outputId": "0873c578-6921-48b6-ee35-e7f9958ea9a4"
      },
      "outputs": [
        {
          "output_type": "execute_result",
          "data": {
            "text/plain": [
              "0"
            ]
          },
          "metadata": {},
          "execution_count": 248
        }
      ],
      "source": [
        "tPredict[1]"
      ]
    },
    {
      "cell_type": "code",
      "execution_count": 249,
      "metadata": {
        "id": "IGJlPg-4o8Dr"
      },
      "outputs": [],
      "source": [
        "import csv\n",
        "list_1 = fake_test_df['id'].tolist()\n",
        "list_1.insert(0, 'id')\n",
        "list_2 = tPredict2\n",
        "list_2.insert(0, 'label')\n",
        "with open('submission.csv', 'w') as f:\n",
        "  writer = csv.writer(f, delimiter='\\t')\n",
        "  writer.writerows(zip(list_1,list_2))"
      ]
    },
    {
      "cell_type": "code",
      "execution_count": 250,
      "metadata": {
        "colab": {
          "base_uri": "https://localhost:8080/",
          "height": 35
        },
        "id": "S7e6mueOhc1t",
        "outputId": "b09b69c4-4ace-4ea1-8db9-01289c279df0"
      },
      "outputs": [
        {
          "output_type": "execute_result",
          "data": {
            "text/plain": [
              "'label'"
            ],
            "application/vnd.google.colaboratory.intrinsic+json": {
              "type": "string"
            }
          },
          "metadata": {},
          "execution_count": 250
        }
      ],
      "source": [
        "tPredict2[0]"
      ]
    }
  ],
  "metadata": {
    "colab": {
      "provenance": []
    },
    "kernelspec": {
      "display_name": "Python 3 (ipykernel)",
      "language": "python",
      "name": "python3"
    },
    "language_info": {
      "codemirror_mode": {
        "name": "ipython",
        "version": 3
      },
      "file_extension": ".py",
      "mimetype": "text/x-python",
      "name": "python",
      "nbconvert_exporter": "python",
      "pygments_lexer": "ipython3",
      "version": "3.9.11"
    }
  },
  "nbformat": 4,
  "nbformat_minor": 0
}