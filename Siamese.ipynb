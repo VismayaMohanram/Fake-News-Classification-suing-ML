{
  "cells": [
    {
      "cell_type": "code",
      "source": [
        "import tensorflow as tf\n",
        "import numpy as np\n",
        "import pandas as pd\n",
        "from sklearn.model_selection import train_test_split\n",
        "import matplotlib.pyplot as plt\n",
        "\n",
        "# Set the maximum sequence length and vocabulary size\n",
        "seq_length = 30\n",
        "vocab_size = 10000"
      ],
      "metadata": {
        "id": "B4FcjpzhhBdu"
      },
      "execution_count": 10,
      "outputs": []
    },
    {
      "cell_type": "code",
      "source": [
        "# Load the training data and remove unnecessary columns\n",
        "data = pd.read_csv('train.csv')\n",
        "data.drop(['tid1', 'tid2', 'id'], axis=1, inplace=True)\n",
        "data.dropna(inplace=True)"
      ],
      "metadata": {
        "id": "hQG4lqic6G8O"
      },
      "execution_count": 11,
      "outputs": []
    },
    {
      "cell_type": "code",
      "source": [
        "# Make text lowercase and tokenize using Keras Tokenizer\n",
        "data['title1_en'] = data['title1_en'].apply(lambda x: x.lower())\n",
        "data['title2_en'] = data['title2_en'].apply(lambda x: x.lower())\n",
        "text_tokenizer = tf.keras.preprocessing.text.Tokenizer(num_words=vocab_size, oov_token='')\n",
        "text_tokenizer.fit_on_texts(data['title1_en'] + data['title2_en'])\n",
        "title1_seq = text_tokenizer.texts_to_sequences(data['title1_en'])\n",
        "title2_seq = text_tokenizer.texts_to_sequences(data['title2_en'])\n",
        "title1_seq = tf.keras.preprocessing.sequence.pad_sequences(title1_seq, maxlen=seq_length)\n",
        "title2_seq = tf.keras.preprocessing.sequence.pad_sequences(title2_seq, maxlen=seq_length)\n",
        "\n",
        "# Encode labels as one-hot vectors\n",
        "label_dict = {'agreed': 0, 'disagreed': 1, 'unrelated': 2}\n",
        "y_data = data.label.apply(lambda x: label_dict[x])\n",
        "y_data = np.asarray(y_data).astype('float32')\n",
        "y_data = tf.keras.utils.to_categorical(y_data)"
      ],
      "metadata": {
        "id": "91X-uATZ6G_U"
      },
      "execution_count": 12,
      "outputs": []
    },
    {
      "cell_type": "code",
      "source": [
        "# Split data into training and validation sets\n",
        "title1_train, title1_val, title2_train, title2_val, y_train, y_val = train_test_split(title1_seq, title2_seq, y_data, test_size=0.2)"
      ],
      "metadata": {
        "id": "pNPQl9FE6HE6"
      },
      "execution_count": 13,
      "outputs": []
    },
    {
      "cell_type": "code",
      "source": [
        "# Create a Siamese model with GRU layers\n",
        "input1 = tf.keras.Input(shape=(seq_length,))\n",
        "input2 = tf.keras.Input(shape=(seq_length,))\n",
        "embed1 = tf.keras.layers.Embedding(vocab_size, 128)(input1)\n",
        "embed2 = tf.keras.layers.Embedding(vocab_size, 128)(input2)\n",
        "gru1 = tf.keras.layers.GRU(64)(embed1)\n",
        "gru2 = tf.keras.layers.GRU(64)(embed2)\n",
        "merged = tf.keras.layers.concatenate([gru1, gru2])\n",
        "output_layer = tf.keras.layers.Dense(3, activation='softmax')(merged)\n",
        "siamese_model = tf.keras.Model(inputs=[input1, input2], outputs=output_layer)"
      ],
      "metadata": {
        "id": "LIkLx95P6HHk"
      },
      "execution_count": 14,
      "outputs": []
    },
    {
      "cell_type": "code",
      "source": [
        "# Compile and train the Siamese model\n",
        "optimizer = tf.keras.optimizers.Adam()\n",
        "siamese_model.compile(optimizer=optimizer, loss=tf.keras.metrics.categorical_crossentropy, metrics=['accuracy'])\n",
        "training_history = siamese_model.fit(x=[title1_train, title2_train], y=y_train, batch_size=64, epochs=10, validation_data=([title1_val, title2_val], y_val))\n"
      ],
      "metadata": {
        "colab": {
          "base_uri": "https://localhost:8080/"
        },
        "id": "AJwZ7JVR6HJ6",
        "outputId": "3047172a-7f09-43cc-9803-ab12530107de"
      },
      "execution_count": 17,
      "outputs": [
        {
          "output_type": "stream",
          "name": "stdout",
          "text": [
            "Epoch 1/10\n",
            "3206/3206 [==============================] - 368s 113ms/step - loss: 0.4806 - accuracy: 0.7751 - val_loss: 0.4375 - val_accuracy: 0.7992\n",
            "Epoch 2/10\n",
            "3206/3206 [==============================] - 356s 111ms/step - loss: 0.3770 - accuracy: 0.8331 - val_loss: 0.4165 - val_accuracy: 0.8136\n",
            "Epoch 3/10\n",
            "3206/3206 [==============================] - 354s 110ms/step - loss: 0.3189 - accuracy: 0.8622 - val_loss: 0.4159 - val_accuracy: 0.8203\n",
            "Epoch 4/10\n",
            "3206/3206 [==============================] - 356s 111ms/step - loss: 0.2722 - accuracy: 0.8842 - val_loss: 0.4314 - val_accuracy: 0.8212\n",
            "Epoch 5/10\n",
            "3206/3206 [==============================] - 358s 112ms/step - loss: 0.2339 - accuracy: 0.9022 - val_loss: 0.4486 - val_accuracy: 0.8254\n",
            "Epoch 6/10\n",
            "3206/3206 [==============================] - 356s 111ms/step - loss: 0.2019 - accuracy: 0.9160 - val_loss: 0.4788 - val_accuracy: 0.8222\n",
            "Epoch 7/10\n",
            "3206/3206 [==============================] - 359s 112ms/step - loss: 0.1748 - accuracy: 0.9287 - val_loss: 0.5179 - val_accuracy: 0.8271\n",
            "Epoch 8/10\n",
            "3206/3206 [==============================] - 360s 112ms/step - loss: 0.1525 - accuracy: 0.9389 - val_loss: 0.5804 - val_accuracy: 0.8249\n",
            "Epoch 9/10\n",
            "3206/3206 [==============================] - 355s 111ms/step - loss: 0.1347 - accuracy: 0.9467 - val_loss: 0.5936 - val_accuracy: 0.8205\n",
            "Epoch 10/10\n",
            "3206/3206 [==============================] - 362s 113ms/step - loss: 0.1188 - accuracy: 0.9538 - val_loss: 0.6481 - val_accuracy: 0.8260\n"
          ]
        }
      ]
    },
    {
      "cell_type": "code",
      "source": [
        "# Set the plot style\n",
        "plt.style.use('seaborn')\n",
        "\n",
        "# Plot training and validation accuracy\n",
        "plt.figure(figsize=(10, 6))\n",
        "plt.plot(training_history.history['accuracy'], 'o-', label='Training Accuracy', color='darkblue')\n",
        "plt.plot(training_history.history['val_accuracy'], 'o-', label='Validation Accuracy', color='orange')\n",
        "plt.title('Training and Validation Accuracy')\n",
        "plt.ylabel('Accuracy')\n",
        "plt.xlabel('Epoch')\n",
        "plt.xticks(np.arange(0, len(training_history.history['accuracy']), 5)) \n",
        "plt.yticks(np.arange(0, 1.1, 0.1))\n",
        "plt.grid(alpha=0.3)\n",
        "plt.legend(loc='lower right')   \n",
        "plt.tight_layout\n",
        "plt.show()"
      ],
      "metadata": {
        "colab": {
          "base_uri": "https://localhost:8080/",
          "height": 614
        },
        "id": "bYxhV-Kl6HMz",
        "outputId": "38eac3ce-b526-4e42-b9f1-e93e3e8dc2bd"
      },
      "execution_count": 18,
      "outputs": [
        {
          "output_type": "stream",
          "name": "stderr",
          "text": [
            "<ipython-input-18-ef92472b7e88>:2: MatplotlibDeprecationWarning: The seaborn styles shipped by Matplotlib are deprecated since 3.6, as they no longer correspond to the styles shipped by seaborn. However, they will remain available as 'seaborn-v0_8-<style>'. Alternatively, directly use the seaborn API instead.\n",
            "  plt.style.use('seaborn')\n"
          ]
        },
        {
          "output_type": "display_data",
          "data": {
            "text/plain": [
              "<Figure size 1000x600 with 1 Axes>"
            ],
            "image/png": "[encoded data removed]"
          },
          "metadata": {}
        }
      ]
    },
    {
      "cell_type": "code",
      "source": [
        "# Set the plot style\n",
        "plt.style.use('seaborn')\n",
        "\n",
        "# Plot training and validation loss\n",
        "plt.figure(figsize=(10, 6))\n",
        "plt.plot(training_history.history['loss'], 'o-', label='Training Loss', color='darkblue')\n",
        "plt.plot(training_history.history['val_loss'], 'o-', label='Validation Loss', color='orange')\n",
        "plt.title('Training and Validation Loss')\n",
        "plt.ylabel('Loss')\n",
        "plt.xlabel('Epoch')\n",
        "plt.xticks(np.arange(0, len(training_history.history['loss']), 5))\n",
        "plt.yticks(np.arange(0, 2.5, 0.25))\n",
        "plt.grid(alpha=0.3)\n",
        "plt.legend(loc='upper right')\n",
        "plt.tight_layout()\n",
        "plt.show()\n"
      ],
      "metadata": {
        "colab": {
          "base_uri": "https://localhost:8080/",
          "height": 572
        },
        "id": "ghno4rbL6HPj",
        "outputId": "9dedb05f-cd57-4386-ef44-4fd88a0ce8c8"
      },
      "execution_count": 19,
      "outputs": [
        {
          "output_type": "stream",
          "name": "stderr",
          "text": [
            "<ipython-input-19-397745aacb27>:2: MatplotlibDeprecationWarning: The seaborn styles shipped by Matplotlib are deprecated since 3.6, as they no longer correspond to the styles shipped by seaborn. However, they will remain available as 'seaborn-v0_8-<style>'. Alternatively, directly use the seaborn API instead.\n",
            "  plt.style.use('seaborn')\n"
          ]
        },
        {
          "output_type": "display_data",
          "data": {
            "text/plain": [
              "<Figure size 1000x600 with 1 Axes>"
            ],
            "image/png": "[encoded data removed]"
          },
          "metadata": {}
        }
      ]
    },
    {
      "cell_type": "code",
      "source": [
        "# Load test data and make predictions\n",
        "test_data = pd.read_csv('test.csv')\n",
        "\n",
        "test_title1 = text_tokenizer.texts_to_sequences(test_data['title1_en'])\n",
        "test_title2 = text_tokenizer.texts_to_sequences(test_data['title2_en'])\n",
        "test_title1 = tf.keras.preprocessing.sequence.pad_sequences(test_title1, maxlen=seq_length)\n",
        "test_title2 = tf.keras.preprocessing.sequence.pad_sequences(test_title2, maxlen=seq_length)    \n",
        "predictions = siamese_model.predict([test_title1, test_title2])\n"
      ],
      "metadata": {
        "colab": {
          "base_uri": "https://localhost:8080/"
        },
        "id": "xv85HB6s6HR4",
        "outputId": "c5a14f8e-2d3d-45ab-83ed-9e104dccee2e"
      },
      "execution_count": 20,
      "outputs": [
        {
          "output_type": "stream",
          "name": "stdout",
          "text": [
            "2004/2004 [==============================] - 25s 12ms/step\n"
          ]
        }
      ]
    },
    {
      "cell_type": "code",
      "source": [
        "# Convert predicted probabilities to labels\n",
        "inverse_labels = {0: 'agreed', 1: 'disagreed', 2: 'unrelated'}\n",
        "for j in range(len(predictions)):\n",
        "    test_data.loc[j, 'label'] = inverse_labels[np.argmax(predictions[j])]"
      ],
      "metadata": {
        "id": "DywT_S9t6HUW"
      },
      "execution_count": 35,
      "outputs": []
    },
    {
      "cell_type": "code",
      "source": [
        "\n",
        "# Prepare the submission DataFrame with 'id' and 'label' columns\n",
        "submission_data = test_data[['id', 'label']]\n",
        "\n",
        "# Save the submission data to a CSV file named 'submission.csv'\n",
        "submission_file_name = 'submission.csv'\n",
        "submission_data.to_csv(submission_file_name, index=False)\n",
        "test_data.head()"
      ],
      "metadata": {
        "colab": {
          "base_uri": "https://localhost:8080/",
          "height": 250
        },
        "id": "itB20FhW6HW8",
        "outputId": "aa716113-25f9-4496-d48d-060b7a32da9e"
      },
      "execution_count": 39,
      "outputs": [
        {
          "output_type": "execute_result",
          "data": {
            "text/plain": [
              "       id                                          title1_en  \\\n",
              "0  256442  The great coat brother Zhu Zhu Wen, in the man...   \n",
              "1  256443  NASA reveals facts about UFO wreckage found on...   \n",
              "2  256444      The hollow tomatoes are loaded with hormones.   \n",
              "3  256445  Ange Pavilion Geoshui: How accurate is Matrimo...   \n",
              "4  256446  A 50-year-old bus-bus blows up an 8-year-old c...   \n",
              "\n",
              "                                           title2_en      label  \n",
              "0  Lin xinsheng after the birth of \"hard milking,...     agreed  \n",
              "1  The UFO found in Yuancun, Jiaocheng County, Sh...  unrelated  \n",
              "2  Li chenfan bingbing home photos, netizen: this...  unrelated  \n",
              "3  Master one: the eight-character presumption of...  unrelated  \n",
              "4  < i > Joe Johnson's disgruntled timing and ord...  unrelated  "
            ],
            "text/html": [
              "\n",
              "  <div id=\"df-ef4175f9-2fd4-45c8-bfa4-e5919b90cc43\">\n",
              "    <div class=\"colab-df-container\">\n",
              "      <div>\n",
              "<style scoped>\n",
              "    .dataframe tbody tr th:only-of-type {\n",
              "        vertical-align: middle;\n",
              "    }\n",
              "\n",
              "    .dataframe tbody tr th {\n",
              "        vertical-align: top;\n",
              "    }\n",
              "\n",
              "    .dataframe thead th {\n",
              "        text-align: right;\n",
              "    }\n",
              "</style>\n",
              "<table border=\"1\" class=\"dataframe\">\n",
              "  <thead>\n",
              "    <tr style=\"text-align: right;\">\n",
              "      <th></th>\n",
              "      <th>id</th>\n",
              "      <th>title1_en</th>\n",
              "      <th>title2_en</th>\n",
              "      <th>label</th>\n",
              "    </tr>\n",
              "  </thead>\n",
              "  <tbody>\n",
              "    <tr>\n",
              "      <th>0</th>\n",
              "      <td>256442</td>\n",
              "      <td>The great coat brother Zhu Zhu Wen, in the man...</td>\n",
              "      <td>Lin xinsheng after the birth of \"hard milking,...</td>\n",
              "      <td>agreed</td>\n",
              "    </tr>\n",
              "    <tr>\n",
              "      <th>1</th>\n",
              "      <td>256443</td>\n",
              "      <td>NASA reveals facts about UFO wreckage found on...</td>\n",
              "      <td>The UFO found in Yuancun, Jiaocheng County, Sh...</td>\n",
              "      <td>unrelated</td>\n",
              "    </tr>\n",
              "    <tr>\n",
              "      <th>2</th>\n",
              "      <td>256444</td>\n",
              "      <td>The hollow tomatoes are loaded with hormones.</td>\n",
              "      <td>Li chenfan bingbing home photos, netizen: this...</td>\n",
              "      <td>unrelated</td>\n",
              "    </tr>\n",
              "    <tr>\n",
              "      <th>3</th>\n",
              "      <td>256445</td>\n",
              "      <td>Ange Pavilion Geoshui: How accurate is Matrimo...</td>\n",
              "      <td>Master one: the eight-character presumption of...</td>\n",
              "      <td>unrelated</td>\n",
              "    </tr>\n",
              "    <tr>\n",
              "      <th>4</th>\n",
              "      <td>256446</td>\n",
              "      <td>A 50-year-old bus-bus blows up an 8-year-old c...</td>\n",
              "      <td>&lt; i &gt; Joe Johnson's disgruntled timing and ord...</td>\n",
              "      <td>unrelated</td>\n",
              "    </tr>\n",
              "  </tbody>\n",
              "</table>\n",
              "</div>\n",
              "      <button class=\"colab-df-convert\" onclick=\"convertToInteractive('df-ef4175f9-2fd4-45c8-bfa4-e5919b90cc43')\"\n",
              "              title=\"Convert this dataframe to an interactive table.\"\n",
              "              style=\"display:none;\">\n",
              "        \n",
              "  <svg xmlns=\"http://www.w3.org/2000/svg\" height=\"24px\"viewBox=\"0 0 24 24\"\n",
              "       width=\"24px\">\n",
              "    <path d=\"M0 0h24v24H0V0z\" fill=\"none\"/>\n",
              "    <path d=\"M18.56 5.44l.94 2.06.94-2.06 2.06-.94-2.06-.94-.94-2.06-.94 2.06-2.06.94zm-11 1L8.5 8.5l.94-2.06 2.06-.94-2.06-.94L8.5 2.5l-.94 2.06-2.06.94zm10 10l.94 2.06.94-2.06 2.06-.94-2.06-.94-.94-2.06-.94 2.06-2.06.94z\"/><path d=\"M17.41 7.96l-1.37-1.37c-.4-.4-.92-.59-1.43-.59-.52 0-1.04.2-1.43.59L10.3 9.45l-7.72 7.72c-.78.78-.78 2.05 0 2.83L4 21.41c.39.39.9.59 1.41.59.51 0 1.02-.2 1.41-.59l7.78-7.78 2.81-2.81c.8-.78.8-2.07 0-2.86zM5.41 20L4 18.59l7.72-7.72 1.47 1.35L5.41 20z\"/>\n",
              "  </svg>\n",
              "      </button>\n",
              "      \n",
              "  <style>\n",
              "    .colab-df-container {\n",
              "      display:flex;\n",
              "      flex-wrap:wrap;\n",
              "      gap: 12px;\n",
              "    }\n",
              "\n",
              "    .colab-df-convert {\n",
              "      background-color: #E8F0FE;\n",
              "      border: none;\n",
              "      border-radius: 50%;\n",
              "      cursor: pointer;\n",
              "      display: none;\n",
              "      fill: #1967D2;\n",
              "      height: 32px;\n",
              "      padding: 0 0 0 0;\n",
              "      width: 32px;\n",
              "    }\n",
              "\n",
              "    .colab-df-convert:hover {\n",
              "      background-color: #E2EBFA;\n",
              "      box-shadow: 0px 1px 2px rgba(60, 64, 67, 0.3), 0px 1px 3px 1px rgba(60, 64, 67, 0.15);\n",
              "      fill: #174EA6;\n",
              "    }\n",
              "\n",
              "    [theme=dark] .colab-df-convert {\n",
              "      background-color: #3B4455;\n",
              "      fill: #D2E3FC;\n",
              "    }\n",
              "\n",
              "    [theme=dark] .colab-df-convert:hover {\n",
              "      background-color: #434B5C;\n",
              "      box-shadow: 0px 1px 3px 1px rgba(0, 0, 0, 0.15);\n",
              "      filter: drop-shadow(0px 1px 2px rgba(0, 0, 0, 0.3));\n",
              "      fill: #FFFFFF;\n",
              "    }\n",
              "  </style>\n",
              "\n",
              "      <script>\n",
              "        const buttonEl =\n",
              "          document.querySelector('#df-ef4175f9-2fd4-45c8-bfa4-e5919b90cc43 button.colab-df-convert');\n",
              "        buttonEl.style.display =\n",
              "          google.colab.kernel.accessAllowed ? 'block' : 'none';\n",
              "\n",
              "        async function convertToInteractive(key) {\n",
              "          const element = document.querySelector('#df-ef4175f9-2fd4-45c8-bfa4-e5919b90cc43');\n",
              "          const dataTable =\n",
              "            await google.colab.kernel.invokeFunction('convertToInteractive',\n",
              "                                                     [key], {});\n",
              "          if (!dataTable) return;\n",
              "\n",
              "          const docLinkHtml = 'Like what you see? Visit the ' +\n",
              "            '<a target=\"_blank\" href=https://colab.research.google.com/notebooks/data_table.ipynb>data table notebook</a>'\n",
              "            + ' to learn more about interactive tables.';\n",
              "          element.innerHTML = '';\n",
              "          dataTable['output_type'] = 'display_data';\n",
              "          await google.colab.output.renderOutput(dataTable, element);\n",
              "          const docLink = document.createElement('div');\n",
              "          docLink.innerHTML = docLinkHtml;\n",
              "          element.appendChild(docLink);\n",
              "        }\n",
              "      </script>\n",
              "    </div>\n",
              "  </div>\n",
              "  "
            ]
          },
          "metadata": {},
          "execution_count": 39
        }
      ]
    },
    {
      "cell_type": "code",
      "source": [
        "# Prepare the submission DataFrame with 'id' and 'label' columns\n",
        "submission_data = test_data[['id', 'label']]\n",
        "\n",
        "# Save the submission data to a CSV file named 'submission.csv'\n",
        "submission_file_name = 'submission.csv'\n",
        "submission_data.to_csv(submission_file_name, index=False)\n",
        "\n",
        "# Download the file (if using Google Colab)\n",
        "try:\n",
        "    from google.colab import files\n",
        "    files.download(submission_file_name)\n",
        "except ImportError:\n",
        "    print(f\"The submission file '{submission_file_name}' has been saved in the working directory.\")\n",
        "\n",
        "\n"
      ],
      "metadata": {
        "colab": {
          "base_uri": "https://localhost:8080/",
          "height": 17
        },
        "id": "CxR-h8poKHXk",
        "outputId": "a439d683-f704-4e3f-e713-4fdc1529f7c5"
      },
      "execution_count": 41,
      "outputs": [
        {
          "output_type": "display_data",
          "data": {
            "text/plain": [
              "<IPython.core.display.Javascript object>"
            ],
            "application/javascript": [
              "\n",
              "    async function download(id, filename, size) {\n",
              "      if (!google.colab.kernel.accessAllowed) {\n",
              "        return;\n",
              "      }\n",
              "      const div = document.createElement('div');\n",
              "      const label = document.createElement('label');\n",
              "      label.textContent = `Downloading \"${filename}\": `;\n",
              "      div.appendChild(label);\n",
              "      const progress = document.createElement('progress');\n",
              "      progress.max = size;\n",
              "      div.appendChild(progress);\n",
              "      document.body.appendChild(div);\n",
              "\n",
              "      const buffers = [];\n",
              "      let downloaded = 0;\n",
              "\n",
              "      const channel = await google.colab.kernel.comms.open(id);\n",
              "      // Send a message to notify the kernel that we're ready.\n",
              "      channel.send({})\n",
              "\n",
              "      for await (const message of channel.messages) {\n",
              "        // Send a message to notify the kernel that we're ready.\n",
              "        channel.send({})\n",
              "        if (message.buffers) {\n",
              "          for (const buffer of message.buffers) {\n",
              "            buffers.push(buffer);\n",
              "            downloaded += buffer.byteLength;\n",
              "            progress.value = downloaded;\n",
              "          }\n",
              "        }\n",
              "      }\n",
              "      const blob = new Blob(buffers, {type: 'application/binary'});\n",
              "      const a = document.createElement('a');\n",
              "      a.href = window.URL.createObjectURL(blob);\n",
              "      a.download = filename;\n",
              "      div.appendChild(a);\n",
              "      a.click();\n",
              "      div.remove();\n",
              "    }\n",
              "  "
            ]
          },
          "metadata": {}
        },
        {
          "output_type": "display_data",
          "data": {
            "text/plain": [
              "<IPython.core.display.Javascript object>"
            ],
            "application/javascript": [
              "download(\"download_1531fe5e-eb7b-4dc8-958d-72c23001e5a9\", \"submission.csv\", 1034214)"
            ]
          },
          "metadata": {}
        }
      ]
    }
  ],
  "metadata": {
    "colab": {
      "provenance": []
    },
    "kernelspec": {
      "display_name": "Python 3",
      "name": "python3"
    }
  },
  "nbformat": 4,
  "nbformat_minor": 0
}